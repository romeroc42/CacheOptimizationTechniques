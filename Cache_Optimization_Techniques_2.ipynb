{
  "nbformat": 4,
  "nbformat_minor": 0,
  "metadata": {
    "colab": {
      "name": "Cache-Optimization-Techniques-2",
      "provenance": [],
      "collapsed_sections": []
    },
    "kernelspec": {
      "display_name": "Python 3",
      "name": "python3"
    },
    "language_info": {
      "name": "python"
    }
  },
  "cells": [
    {
      "cell_type": "code",
      "metadata": {
        "id": "QMI4SMn5Mcx8"
      },
      "source": [
        "# Agregar Librerías\n",
        "import time #Medir tiempo\n",
        "import random #Crear valores aleatorios                         \n",
        "import matplotlib.pyplot as plt #Graficar\n",
        "import reprlib  #Mostrar caracteres limitados"
      ],
      "execution_count": 1,
      "outputs": []
    },
    {
      "cell_type": "code",
      "metadata": {
        "id": "HQVgENwG44Af"
      },
      "source": [
        "# Función Crear Matriz de m x n https://www.dreamincode.net/forums/topic/413327-creating-nxm-matrix-without-numpy/\n",
        "def makeCostMatrix(m,n):\n",
        "    return [[random.randint(100, 200) for row in range(n)] for column in range(m)]"
      ],
      "execution_count": 2,
      "outputs": []
    },
    {
      "cell_type": "code",
      "metadata": {
        "colab": {
          "base_uri": "https://localhost:8080/"
        },
        "id": "Ue1qcZU5cMRC",
        "outputId": "b9c114de-71e7-40f0-cc90-b47f22930f41"
      },
      "source": [
        "# Crear Lista de Matrices y Vectores\n",
        "list_mtx = [0,0,0,0]\n",
        "list_vct = [0,0,0,0]\n",
        "\n",
        "# Crear Matrices y Vectores con contenido aleatorio\n",
        "for w in range(4):\n",
        "  m = ((w+1)*200) # Dimensiones para filas \n",
        "  n = ((w+1)*200) # Dimensiones para columnas\n",
        "  list_mtx[w] = makeCostMatrix(m,n) # Crear Matriz con contenido aleatorio\n",
        "  list_vct[w] = makeCostMatrix(n,1) # Crear Vector con contenido aleatorio\n",
        "  print('Matriz %s' %w) # Nombre de Matriz\n",
        "  print(reprlib.repr(list_mtx[w])) # Mostrar\n",
        "  row_mtx = len(list_mtx[w]) # Número de filas\n",
        "  col_mtx = len(list_mtx[w][0]) # Número de columnas\n",
        "  print('%s x %s' % (row_mtx,col_mtx)) # Mostrar dimensiones\n",
        "  print('Vector %s' %w)  # Nombre de Vector\n",
        "  print(reprlib.repr(list_vct[w])) # Mostrar\n",
        "  row_vct = len(list_vct[w]) # Número de filas\n",
        "  col_vct = len(list_vct[w][0]) # Número de columnas\n",
        "  print('%s x %s' % (row_vct,col_vct)) # Mostrar dimensiones\n",
        "  print(' ')\n",
        "print('Lista de Matrices') # Mostrar listas de Matrices y Vectores\n",
        "print(reprlib.repr(list_mtx))\n",
        "print(reprlib.repr(list_vct))"
      ],
      "execution_count": 3,
      "outputs": [
        {
          "output_type": "stream",
          "name": "stdout",
          "text": [
            "Matriz 0\n",
            "[[159, 107, 134, 106, 146, 197, ...], [188, 160, 160, 167, 187, 197, ...], [157, 144, 163, 139, 160, 200, ...], [102, 160, 187, 149, 138, 169, ...], [113, 114, 121, 113, 170, 149, ...], [116, 131, 169, 146, 104, 168, ...], ...]\n",
            "200 x 200\n",
            "Vector 0\n",
            "[[134], [171], [117], [163], [131], [184], ...]\n",
            "200 x 1\n",
            " \n",
            "Matriz 1\n",
            "[[171, 150, 190, 122, 110, 171, ...], [140, 105, 170, 109, 110, 100, ...], [128, 171, 149, 172, 167, 119, ...], [140, 102, 181, 100, 168, 105, ...], [191, 182, 125, 117, 159, 195, ...], [113, 130, 144, 105, 120, 193, ...], ...]\n",
            "400 x 400\n",
            "Vector 1\n",
            "[[169], [161], [102], [184], [149], [172], ...]\n",
            "400 x 1\n",
            " \n",
            "Matriz 2\n",
            "[[110, 121, 167, 121, 145, 125, ...], [174, 195, 125, 170, 142, 136, ...], [134, 145, 154, 138, 169, 147, ...], [135, 143, 131, 199, 141, 114, ...], [176, 117, 122, 123, 102, 126, ...], [101, 182, 161, 146, 125, 139, ...], ...]\n",
            "600 x 600\n",
            "Vector 2\n",
            "[[164], [138], [185], [152], [109], [171], ...]\n",
            "600 x 1\n",
            " \n",
            "Matriz 3\n",
            "[[132, 181, 125, 126, 117, 199, ...], [154, 187, 116, 180, 178, 199, ...], [183, 165, 119, 189, 143, 162, ...], [141, 106, 155, 176, 160, 154, ...], [156, 153, 173, 135, 160, 147, ...], [160, 110, 139, 163, 180, 144, ...], ...]\n",
            "800 x 800\n",
            "Vector 3\n",
            "[[198], [132], [172], [123], [194], [119], ...]\n",
            "800 x 1\n",
            " \n",
            "Lista de Matrices\n",
            "[[[159, 107, 134, 106, 146, 197, ...], [188, 160, 160, 167, 187, 197, ...], [157, 144, 163, 139, 160, 200, ...], [102, 160, 187, 149, 138, 169, ...], [113, 114, 121, 113, 170, 149, ...], [116, 131, 169, 146, 104, 168, ...], ...], [[171, 150, 190, 122, 110, 171, ...], [140, 105, 170, 109, 110, 100, ...], [128, 171, 149, 172, 167, 119, ...], [140, 102, 181, 100, 168, 105, ...], [191, 182, 125, 117, 159, 195, ...], [113, 130, 144, 105, 120, 193, ...], ...], [[110, 121, 167, 121, 145, 125, ...], [174, 195, 125, 170, 142, 136, ...], [134, 145, 154, 138, 169, 147, ...], [135, 143, 131, 199, 141, 114, ...], [176, 117, 122, 123, 102, 126, ...], [101, 182, 161, 146, 125, 139, ...], ...], [[132, 181, 125, 126, 117, 199, ...], [154, 187, 116, 180, 178, 199, ...], [183, 165, 119, 189, 143, 162, ...], [141, 106, 155, 176, 160, 154, ...], [156, 153, 173, 135, 160, 147, ...], [160, 110, 139, 163, 180, 144, ...], ...]]\n",
            "[[[134], [171], [117], [163], [131], [184], ...], [[169], [161], [102], [184], [149], [172], ...], [[164], [138], [185], [152], [109], [171], ...], [[198], [132], [172], [123], [194], [119], ...]]\n"
          ]
        }
      ]
    },
    {
      "cell_type": "code",
      "metadata": {
        "id": "4nzxLoLF4q3C"
      },
      "source": [
        "# Función matriz con elementos ceros con filas y columnas específicas\n",
        "def zeros_matrix(rows, cols):\n",
        "    \"\"\"\n",
        "    Creates a matrix filled with zeros.\n",
        "        :param rows: the number of rows the matrix should have\n",
        "        :param cols: the number of columns the matrix should have\n",
        " \n",
        "        :return: list of lists that form the matrix\n",
        "    https://integratedmlai.com/basic-linear-algebra-tools-in-pure-python-without-numpy-or-scipy/\n",
        "    \"\"\"\n",
        "    M = []\n",
        "    while len(M) < rows:\n",
        "        M.append([])\n",
        "        while len(M[-1]) < cols:\n",
        "            M[-1].append(0.0)\n",
        " \n",
        "    return M"
      ],
      "execution_count": 4,
      "outputs": []
    },
    {
      "cell_type": "code",
      "metadata": {
        "id": "PorPYkVvpoIL"
      },
      "source": [
        "# Función para multiplicar dos matrices \n",
        "# Row-Major\n",
        "def matrix_multiply(A, B):\n",
        "    \"\"\"\n",
        "    Returns the product of the matrix A * B\n",
        "        :param A: The first matrix - ORDER MATTERS!\n",
        "        :param B: The second matrix\n",
        " \n",
        "        :return: The product of the two matrices\n",
        "    https://integratedmlai.com/basic-linear-algebra-tools-in-pure-python-without-numpy-or-scipy/\n",
        "    \"\"\"\n",
        "    # Section 1: Ensure A & B dimensions are correct for multiplication\n",
        "    rowsA = len(A)\n",
        "    colsA = len(A[0])\n",
        "    rowsB = len(B)\n",
        "    colsB = len(B[0])\n",
        "    if colsA != rowsB:\n",
        "        raise ArithmeticError(\n",
        "            'Number of A columns must equal number of B rows.')\n",
        " \n",
        "    # Section 2: Store matrix multiplication in a new matrix\n",
        "    C = zeros_matrix(rowsA, colsB)\n",
        "    for i in range(rowsA):\n",
        "        for j in range(colsB):\n",
        "            total = 0\n",
        "            for ii in range(colsA):\n",
        "                total += A[i][ii] * B[ii][j]\n",
        "            C[i][j] = total\n",
        " \n",
        "    return C"
      ],
      "execution_count": 5,
      "outputs": []
    },
    {
      "cell_type": "code",
      "metadata": {
        "id": "1BaUys4YX51y"
      },
      "source": [
        "# Se harán mil iteraciones, es decir, mil multiplicaciones para cada caso\n",
        "# Luego hallar el promedio del tiempo (Tiempo Promedio = Tiempo Total / Iteraciones)\n",
        "iter = 1000"
      ],
      "execution_count": 6,
      "outputs": []
    },
    {
      "cell_type": "code",
      "metadata": {
        "id": "x_HWsf-k7jcA"
      },
      "source": [
        "# Crear una lista para almacenar datos de tiempo\n",
        "list_time_mul = [0,0,0,0]\n",
        "# Crear una lista para almacenar resultados de multiplicación\n",
        "list_rslt = [0,0,0,0]"
      ],
      "execution_count": 7,
      "outputs": []
    },
    {
      "cell_type": "code",
      "metadata": {
        "colab": {
          "base_uri": "https://localhost:8080/"
        },
        "id": "MJfIeHNG17QZ",
        "outputId": "8f302400-f033-4e5c-97e0-8cd975ab7c12"
      },
      "source": [
        "# Prueba de la multiplicación de matrices y vectores de las listas creadas\n",
        "for v in range(4):  \n",
        "  start_time = time.time()  # Registro de tiempo de inicio\n",
        "  for z in range(iter): # Número de operaciones\n",
        "    list_rslt[v] = matrix_multiply(list_mtx[v], list_vct[v])  # Multiplicación de matriz y vector\n",
        "  stop_time = time.time() - start_time  # Registro de tiempo de parada\n",
        "  avg_time = stop_time/iter # Tiempo promedio\n",
        "  list_time_mul[v] = avg_time # Guardar tiempo promedio en lista\n",
        "  print(\"average time: %s seconds\" % (avg_time))  # Mostrar tiempo promedio"
      ],
      "execution_count": 8,
      "outputs": [
        {
          "output_type": "stream",
          "name": "stdout",
          "text": [
            "average time: 0.007140694141387939 seconds\n",
            "average time: 0.028211007595062256 seconds\n",
            "average time: 0.06368245649337768 seconds\n",
            "average time: 0.11429266381263734 seconds\n"
          ]
        }
      ]
    },
    {
      "cell_type": "code",
      "metadata": {
        "colab": {
          "base_uri": "https://localhost:8080/"
        },
        "id": "3C-cBFauz2O7",
        "outputId": "d342f384-c1d8-4882-dfe7-bf5b8224ab1c"
      },
      "source": [
        "# Mostrar resultado de la multiplicación\n",
        "# En todos los casos debe ser igual \n",
        "print(reprlib.repr(list_rslt))"
      ],
      "execution_count": 9,
      "outputs": [
        {
          "output_type": "stream",
          "name": "stdout",
          "text": [
            "[[[4497219], [4591184], [4562305], [4507640], [4599633], [4527560], ...], [[9273279], [9122869], [9241203], [9119182], [8974590], [9150701], ...], [[13781659], [13788294], [13761949], [13541317], [13694398], [13758176], ...], [[18121258], [18137245], [18090332], [18347554], [18312979], [17881840], ...]]\n"
          ]
        }
      ]
    },
    {
      "cell_type": "code",
      "metadata": {
        "colab": {
          "base_uri": "https://localhost:8080/"
        },
        "id": "8KxGEKXNg-GW",
        "outputId": "f9d96e1c-c506-4791-ad49-06462c00fdcb"
      },
      "source": [
        "# Mostrar lsita con tiempos de ejecución\n",
        "print(list_time_mul) "
      ],
      "execution_count": 10,
      "outputs": [
        {
          "output_type": "stream",
          "name": "stdout",
          "text": [
            "[0.007140694141387939, 0.028211007595062256, 0.06368245649337768, 0.11429266381263734]\n"
          ]
        }
      ]
    },
    {
      "cell_type": "markdown",
      "metadata": {
        "id": "9m0mBqWOBg-s"
      },
      "source": [
        "#Data Access Optimizations - Loop Interchange"
      ]
    },
    {
      "cell_type": "code",
      "metadata": {
        "id": "V9V0p_hF6IxD"
      },
      "source": [
        "# Función para multiplicar dos matrices con Loop Interchange\n",
        "# Column-Major\n",
        "def matrix_multiply_interchange(A, B):\n",
        "    \"\"\"\n",
        "    Returns the product of the matrix A * B\n",
        "        :param A: The first matrix - ORDER MATTERS!\n",
        "        :param B: The second matrix\n",
        " \n",
        "        :return: The product of the two matrices\n",
        "    \"\"\"\n",
        "    # Section 1: Ensure A & B dimensions are correct for multiplication\n",
        "    rowsA = len(A)\n",
        "    colsA = len(A[0])\n",
        "    rowsB = len(B)\n",
        "    colsB = len(B[0])\n",
        "    if colsA != rowsB:\n",
        "        raise ArithmeticError(\n",
        "            'Number of A columns must equal number of B rows.')\n",
        " \n",
        "    # Section 2: Store matrix multiplication in a new matrix\n",
        "    C = zeros_matrix(rowsA, colsB)\n",
        "    for j in range(colsB):\n",
        "        for i in range(rowsA):\n",
        "            total = 0\n",
        "            for ii in range(colsA):\n",
        "                total += A[i][ii] * B[ii][j]\n",
        "            C[i][j] = total\n",
        " \n",
        "    return C"
      ],
      "execution_count": 11,
      "outputs": []
    },
    {
      "cell_type": "code",
      "metadata": {
        "id": "KSOLqgBjhdaO"
      },
      "source": [
        "# Crear una lista para almacenar datos de tiempo\n",
        "list_time_mul_inter = [0,0,0,0]\n",
        "# Crear una lista para almacenar resultados de multiplicación\n",
        "list_rslt_inter = [0,0,0,0]"
      ],
      "execution_count": 12,
      "outputs": []
    },
    {
      "cell_type": "code",
      "metadata": {
        "colab": {
          "base_uri": "https://localhost:8080/"
        },
        "id": "y26zp0Ud6c_R",
        "outputId": "886fecac-5336-41d1-f72e-a8c4fc51c17e"
      },
      "source": [
        "# Prueba de la multiplicación de matrices y vectores de las listas creadas\n",
        "for v in range(4):  \n",
        "  start_time = time.time()  # Registro de tiempo de inicio\n",
        "  for z in range(iter): # Número de operaciones\n",
        "    list_rslt_inter[v] = matrix_multiply_interchange(list_mtx[v], list_vct[v])  # Multiplicación de matriz y vector\n",
        "  stop_time = time.time() - start_time  # Registro de tiempo de parada\n",
        "  avg_time = stop_time/iter # Tiempo promedio\n",
        "  list_time_mul_inter[v] = avg_time # Guardar tiempo promedio en lista\n",
        "  print(\"average time: %s seconds\" % (avg_time))  # Mostrar tiempo promedio"
      ],
      "execution_count": 13,
      "outputs": [
        {
          "output_type": "stream",
          "name": "stdout",
          "text": [
            "average time: 0.006988709449768067 seconds\n",
            "average time: 0.02799102067947388 seconds\n",
            "average time: 0.06343248462677002 seconds\n",
            "average time: 0.11448118257522583 seconds\n"
          ]
        }
      ]
    },
    {
      "cell_type": "code",
      "metadata": {
        "colab": {
          "base_uri": "https://localhost:8080/"
        },
        "id": "5plO4vE06hdq",
        "outputId": "49e82748-1ad1-4ca7-f4ae-64be07148eef"
      },
      "source": [
        "# Mostrar resultado de la multiplicación\n",
        "# En todos los casos debe ser igual \n",
        "print(reprlib.repr(list_rslt_inter))"
      ],
      "execution_count": 14,
      "outputs": [
        {
          "output_type": "stream",
          "name": "stdout",
          "text": [
            "[[[4497219], [4591184], [4562305], [4507640], [4599633], [4527560], ...], [[9273279], [9122869], [9241203], [9119182], [8974590], [9150701], ...], [[13781659], [13788294], [13761949], [13541317], [13694398], [13758176], ...], [[18121258], [18137245], [18090332], [18347554], [18312979], [17881840], ...]]\n"
          ]
        }
      ]
    },
    {
      "cell_type": "code",
      "metadata": {
        "colab": {
          "base_uri": "https://localhost:8080/"
        },
        "id": "yfP9HWW2iSEE",
        "outputId": "257b4590-dca5-4050-af64-3400f3cab292"
      },
      "source": [
        "# Mostrar lsita con tiempos de ejecución\n",
        "print(list_time_mul_inter) "
      ],
      "execution_count": 15,
      "outputs": [
        {
          "output_type": "stream",
          "name": "stdout",
          "text": [
            "[0.006988709449768067, 0.02799102067947388, 0.06343248462677002, 0.11448118257522583]\n"
          ]
        }
      ]
    },
    {
      "cell_type": "markdown",
      "metadata": {
        "id": "6w8vYcDQ2OjJ"
      },
      "source": [
        "#Data Access Optimizations - Loop Blocking"
      ]
    },
    {
      "cell_type": "code",
      "metadata": {
        "id": "dQ5tDThZE2T-"
      },
      "source": [
        "def matrix_multiply_blocking(A, B):\n",
        "    \"\"\"\n",
        "    Returns the product of the matrix A * B\n",
        "        :param A: The first matrix - ORDER MATTERS!\n",
        "        :param B: The second matrix\n",
        " \n",
        "        :return: The product of the two matrices\n",
        "    \"\"\"\n",
        "    # Section 1: Ensure A & B dimensions are correct for multiplication\n",
        "    rowsA = len(A)\n",
        "    colsA = len(A[0])\n",
        "    rowsB = len(B)\n",
        "    colsB = len(B[0])\n",
        "    if colsA != rowsB:\n",
        "        raise ArithmeticError(\n",
        "            'Number of A columns must equal number of B rows.')\n",
        " \n",
        "    # Section 2: Store matrix multiplication in a new matrix\n",
        "    C = zeros_matrix(rowsA, colsB)\n",
        "    new_rowsA = int(rowsA/2) \n",
        "    new_colsB = int(colsB/2) \n",
        "    \n",
        "    for i in range(new_rowsA):\n",
        "        for j in range(new_colsB):\n",
        "              total = 0\n",
        "              for ii in range(colsA):\n",
        "                  total += A[i][ii] * B[ii][j]\n",
        "              C[i][j] = total\n",
        "    for i in range(new_rowsA):\n",
        "        for j in range(new_colsB, colsB):\n",
        "              total = 0\n",
        "              for ii in range(colsA):\n",
        "                  total += A[i][ii] * B[ii][j]\n",
        "              C[i][j] = total\n",
        "    for i in range(new_rowsA, rowsA):\n",
        "        for j in range(new_colsB):\n",
        "              total = 0\n",
        "              for ii in range(colsA):\n",
        "                  total += A[i][ii] * B[ii][j]\n",
        "              C[i][j] = total\n",
        "    for i in range(new_rowsA, rowsA):\n",
        "        for j in range(new_colsB, colsB):\n",
        "              total = 0\n",
        "              for ii in range(colsA):\n",
        "                  total += A[i][ii] * B[ii][j]\n",
        "              C[i][j] = total\n",
        "    \n",
        "    return C"
      ],
      "execution_count": 16,
      "outputs": []
    },
    {
      "cell_type": "code",
      "metadata": {
        "id": "1X-8csGTizZE"
      },
      "source": [
        "# Crear una lista para almacenar datos de tiempo\n",
        "list_time_mul_block = [0,0,0,0]\n",
        "# Crear una lista para almacenar resultados de multiplicación\n",
        "list_rslt_block = [0,0,0,0]"
      ],
      "execution_count": 17,
      "outputs": []
    },
    {
      "cell_type": "code",
      "metadata": {
        "colab": {
          "base_uri": "https://localhost:8080/"
        },
        "id": "xT5Dgl9oGe1R",
        "outputId": "48e79c3b-69ae-472f-aafd-aeee90acae3d"
      },
      "source": [
        "# Prueba de la multiplicación de matrices y vectores de las listas creadas\n",
        "for v in range(4):  \n",
        "  start_time = time.time()  # Registro de tiempo de inicio\n",
        "  for z in range(iter): # Número de operaciones\n",
        "    list_rslt_block[v] = matrix_multiply_blocking(list_mtx[v], list_vct[v])  # Multiplicación de matriz y vector\n",
        "  stop_time = time.time() - start_time  # Registro de tiempo de parada\n",
        "  avg_time = stop_time/iter # Tiempo promedio\n",
        "  list_time_mul_block[v] = avg_time # Guardar tiempo promedio en lista\n",
        "  print(\"average time: %s seconds\" % (avg_time))  # Mostrar tiempo promedio"
      ],
      "execution_count": 18,
      "outputs": [
        {
          "output_type": "stream",
          "name": "stdout",
          "text": [
            "average time: 0.007267833232879639 seconds\n",
            "average time: 0.028464110612869263 seconds\n",
            "average time: 0.06466898608207702 seconds\n",
            "average time: 0.1162162697315216 seconds\n"
          ]
        }
      ]
    },
    {
      "cell_type": "code",
      "metadata": {
        "colab": {
          "base_uri": "https://localhost:8080/"
        },
        "id": "xCM608X3Gg8s",
        "outputId": "55290ab8-b9ef-44fe-f5b0-80160e95f33e"
      },
      "source": [
        "# Mostrar resultado de la multiplicación\n",
        "# En todos los casos debe ser igual\n",
        "print(reprlib.repr(list_rslt_block))"
      ],
      "execution_count": 19,
      "outputs": [
        {
          "output_type": "stream",
          "name": "stdout",
          "text": [
            "[[[4497219], [4591184], [4562305], [4507640], [4599633], [4527560], ...], [[9273279], [9122869], [9241203], [9119182], [8974590], [9150701], ...], [[13781659], [13788294], [13761949], [13541317], [13694398], [13758176], ...], [[18121258], [18137245], [18090332], [18347554], [18312979], [17881840], ...]]\n"
          ]
        }
      ]
    },
    {
      "cell_type": "code",
      "metadata": {
        "colab": {
          "base_uri": "https://localhost:8080/"
        },
        "id": "u8__kfDCpScH",
        "outputId": "3b945603-4542-41fa-844d-63c619cffe8f"
      },
      "source": [
        "# Mostrar lsita con tiempos de ejecución\n",
        "print(list_time_mul_block) "
      ],
      "execution_count": 20,
      "outputs": [
        {
          "output_type": "stream",
          "name": "stdout",
          "text": [
            "[0.007267833232879639, 0.028464110612869263, 0.06466898608207702, 0.1162162697315216]\n"
          ]
        }
      ]
    },
    {
      "cell_type": "markdown",
      "metadata": {
        "id": "FSavDffuyOXe"
      },
      "source": [
        "#Data Layout Optimizations - Array Transpose"
      ]
    },
    {
      "cell_type": "code",
      "metadata": {
        "id": "xnHIdcA5yNSw"
      },
      "source": [
        "def transpose(M):\n",
        "    \"\"\"\n",
        "    Returns a transpose of a matrix.\n",
        "        :param M: The matrix to be transposed\n",
        " \n",
        "        :return: The transpose of the given matrix\n",
        "        https://integratedmlai.com/basic-linear-algebra-tools-in-pure-python-without-numpy-or-scipy/\n",
        "    \"\"\"\n",
        "    # Section 1: if a 1D array, convert to a 2D array = matrix\n",
        "    if not isinstance(M[0],list):\n",
        "        M = [M]\n",
        " \n",
        "    # Section 2: Get dimensions\n",
        "    rows = len(M)\n",
        "    cols = len(M[0])\n",
        " \n",
        "    # Section 3: MT is zeros matrix with transposed dimensions\n",
        "    MT = zeros_matrix(cols, rows)\n",
        " \n",
        "    # Section 4: Copy values from M to it's transpose MT\n",
        "    for i in range(rows):\n",
        "        for j in range(cols):\n",
        "            MT[j][i] = M[i][j]\n",
        " \n",
        "    return MT"
      ],
      "execution_count": 21,
      "outputs": []
    },
    {
      "cell_type": "code",
      "metadata": {
        "id": "Tmdvc28GytiO"
      },
      "source": [
        "def matrix_multiply_transpose(A, B):\n",
        "    \"\"\"\n",
        "    Returns the product of the matrix A * B\n",
        "        :param A: The first matrix - ORDER MATTERS!\n",
        "        :param B: The second matrix\n",
        " \n",
        "        :return: The product of the two matrices\n",
        "    \"\"\"\n",
        "    B = transpose(B)\n",
        "    A = transpose(A)\n",
        "        # Section 1: Ensure A & B dimensions are correct for multiplication\n",
        "    rowsB = len(B)\n",
        "    colsB = len(B[0])\n",
        "    rowsA = len(A)\n",
        "    colsA = len(A[0])\n",
        "    if colsB != rowsA:\n",
        "        raise ArithmeticError(\n",
        "            'Number of A columns must equal number of B rows.')\n",
        " \n",
        "    # Section 2: Store matrix multiplication in a new matrix\n",
        "    C = zeros_matrix(rowsB, colsA)\n",
        "    for i in range(rowsB):\n",
        "        for j in range(colsA):\n",
        "            total = 0\n",
        "            for ii in range(colsB):\n",
        "                total += B[i][ii] * A[ii][j]\n",
        "            C[i][j] = total\n",
        " \n",
        "    return transpose(C)"
      ],
      "execution_count": 22,
      "outputs": []
    },
    {
      "cell_type": "code",
      "metadata": {
        "id": "Rsv4afDUjjB7"
      },
      "source": [
        "# Crear una lista para almacenar datos de tiempo\n",
        "list_time_mul_trans = [0,0,0,0]\n",
        "# Crear una lista para almacenar resultados de multiplicación\n",
        "list_rslt_trans = [0,0,0,0]"
      ],
      "execution_count": 23,
      "outputs": []
    },
    {
      "cell_type": "code",
      "metadata": {
        "colab": {
          "base_uri": "https://localhost:8080/"
        },
        "id": "25TaBJ8bzG2a",
        "outputId": "27ee1e1d-0f19-4d38-bcc5-f5cce939808e"
      },
      "source": [
        "# Prueba de la multiplicación de matrices y vectores de las listas creadas\n",
        "for v in range(4):  \n",
        "  start_time = time.time()  # Registro de tiempo de inicio\n",
        "  for z in range(iter): # Número de operaciones\n",
        "    list_rslt_trans[v] = matrix_multiply_transpose(list_mtx[v], list_vct[v])  # Multiplicación de matriz y vector\n",
        "  stop_time = time.time() - start_time  # Registro de tiempo de parada\n",
        "  avg_time = stop_time/iter # Tiempo promedio\n",
        "  list_time_mul_trans[v] = avg_time # Guardar tiempo promedio en lista\n",
        "  print(\"average time: %s seconds\" % (avg_time))  # Mostrar tiempo promedio"
      ],
      "execution_count": 24,
      "outputs": [
        {
          "output_type": "stream",
          "name": "stdout",
          "text": [
            "average time: 0.021263817071914673 seconds\n",
            "average time: 0.09333412432670593 seconds\n",
            "average time: 0.21254191398620606 seconds\n",
            "average time: 0.3807892909049988 seconds\n"
          ]
        }
      ]
    },
    {
      "cell_type": "code",
      "metadata": {
        "colab": {
          "base_uri": "https://localhost:8080/"
        },
        "id": "F5Hjf9g7zM32",
        "outputId": "7fbd7fa7-390d-4f0e-a96f-5328514e4096"
      },
      "source": [
        "# Mostrar resultado de la multiplicación\n",
        "# En todos los casos debe ser igual \n",
        "print(reprlib.repr(list_rslt_trans))"
      ],
      "execution_count": 25,
      "outputs": [
        {
          "output_type": "stream",
          "name": "stdout",
          "text": [
            "[[[4497219], [4591184], [4562305], [4507640], [4599633], [4527560], ...], [[9273279], [9122869], [9241203], [9119182], [8974590], [9150701], ...], [[13781659], [13788294], [13761949], [13541317], [13694398], [13758176], ...], [[18121258], [18137245], [18090332], [18347554], [18312979], [17881840], ...]]\n"
          ]
        }
      ]
    },
    {
      "cell_type": "code",
      "metadata": {
        "colab": {
          "base_uri": "https://localhost:8080/"
        },
        "id": "G29e5GaTpzBe",
        "outputId": "f9adab35-e2af-495e-dd1a-78a7ef7ad7c0"
      },
      "source": [
        "# Mostrar lsita con tiempos de ejecución\n",
        "print(list_time_mul_trans) "
      ],
      "execution_count": 26,
      "outputs": [
        {
          "output_type": "stream",
          "name": "stdout",
          "text": [
            "[0.021263817071914673, 0.09333412432670593, 0.21254191398620606, 0.3807892909049988]\n"
          ]
        }
      ]
    },
    {
      "cell_type": "code",
      "metadata": {
        "id": "FlNJDNhDkDhE"
      },
      "source": [
        "# Lista de dimensiones de entradas\n",
        "list_input = ['200','400','600','800']"
      ],
      "execution_count": 27,
      "outputs": []
    },
    {
      "cell_type": "code",
      "metadata": {
        "colab": {
          "base_uri": "https://localhost:8080/"
        },
        "id": "mlAWXc-fo7M1",
        "outputId": "72418816-b423-49e8-8078-037d5217e78e"
      },
      "source": [
        "print('Input        ' + '%s' %list_input)\n",
        "print('Multiply:    ' + '%s' %list_time_mul)\n",
        "print('Interchange: ' + '%s' %list_time_mul_inter)\n",
        "print('Blocking:    ' + '%s' %list_time_mul_block)\n",
        "print('Transpose:   ' + '%s' %list_time_mul_trans)"
      ],
      "execution_count": 28,
      "outputs": [
        {
          "output_type": "stream",
          "name": "stdout",
          "text": [
            "Input        ['200', '400', '600', '800']\n",
            "Multiply:    [0.007140694141387939, 0.028211007595062256, 0.06368245649337768, 0.11429266381263734]\n",
            "Interchange: [0.006988709449768067, 0.02799102067947388, 0.06343248462677002, 0.11448118257522583]\n",
            "Blocking:    [0.007267833232879639, 0.028464110612869263, 0.06466898608207702, 0.1162162697315216]\n",
            "Transpose:   [0.021263817071914673, 0.09333412432670593, 0.21254191398620606, 0.3807892909049988]\n"
          ]
        }
      ]
    },
    {
      "cell_type": "code",
      "metadata": {
        "colab": {
          "base_uri": "https://localhost:8080/"
        },
        "id": "jWEX061rqNz1",
        "outputId": "0a85768c-9a60-4195-a652-fcba42a6b989"
      },
      "source": [
        "print('Comprobar igualdad de multiplicaciones')\n",
        "print('Multiply:    ' + '%s' %list_rslt)\n",
        "print('Interchange: ' + '%s' %list_rslt_inter)\n",
        "print('Blocking:    ' + '%s' %list_rslt_block)\n",
        "print('Transpose:   ' + '%s' %list_rslt_trans)"
      ],
      "execution_count": 29,
      "outputs": [
        {
          "output_type": "stream",
          "name": "stdout",
          "text": [
            "Comprobar igualdad de multiplicaciones\n",
            "Multiply:    [[[4497219], [4591184], [4562305], [4507640], [4599633], [4527560], [4576743], [4594158], [4662456], [4489566], [4557360], [4580949], [4517103], [4593680], [4588907], [4527934], [4485264], [4429941], [4596349], [4616181], [4558035], [4482906], [4571061], [4471577], [4567877], [4619342], [4755457], [4565409], [4523489], [4486615], [4565527], [4501949], [4496723], [4491168], [4530268], [4513424], [4556449], [4567855], [4589314], [4608447], [4471657], [4583556], [4570700], [4377683], [4476865], [4421376], [4379079], [4536108], [4596697], [4603554], [4621665], [4631726], [4506351], [4551423], [4381871], [4558304], [4501538], [4643320], [4587383], [4533623], [4537661], [4532062], [4555890], [4616317], [4488776], [4552247], [4471324], [4604902], [4543802], [4537835], [4518171], [4421392], [4425292], [4488073], [4555866], [4562056], [4560241], [4468448], [4536076], [4495728], [4592821], [4473725], [4610014], [4599722], [4606995], [4552337], [4522087], [4442529], [4598060], [4446306], [4610468], [4636026], [4547620], [4499958], [4521295], [4555696], [4539491], [4456713], [4508906], [4492306], [4504746], [4545395], [4606501], [4517071], [4459740], [4565003], [4578268], [4589742], [4446252], [4548765], [4497760], [4603792], [4506002], [4502609], [4446447], [4722843], [4532944], [4473192], [4641135], [4440387], [4604555], [4482894], [4464033], [4636879], [4589174], [4505870], [4625671], [4475598], [4598661], [4594677], [4447874], [4469063], [4488509], [4470391], [4515070], [4486868], [4584587], [4462390], [4468901], [4418148], [4603782], [4606381], [4474909], [4595804], [4467985], [4412836], [4543215], [4575794], [4478688], [4501340], [4575051], [4602023], [4625812], [4586178], [4512895], [4512763], [4545432], [4478467], [4502662], [4556688], [4571965], [4522017], [4594627], [4531508], [4520805], [4572504], [4522083], [4522500], [4479042], [4515456], [4575785], [4487553], [4529146], [4580615], [4577107], [4576585], [4519596], [4549746], [4534130], [4509127], [4618095], [4453964], [4488250], [4513787], [4645724], [4564017], [4510828], [4570920], [4492559], [4429646], [4433648], [4526900], [4540376], [4554394], [4472460], [4476575], [4487312], [4548193], [4683717], [4526264]], [[9273279], [9122869], [9241203], [9119182], [8974590], [9150701], [9068323], [9005788], [9222737], [9094623], [9013855], [9075930], [8960625], [9134925], [9064401], [9323437], [9055635], [9123690], [9226564], [9139972], [9029989], [9015082], [9275520], [9029949], [9049109], [9083977], [9055980], [9141102], [9035574], [9058314], [9142032], [9174004], [9049010], [9064808], [9031760], [9122830], [9076338], [9223525], [9209595], [9209737], [9318342], [9097897], [9028626], [9150129], [8963584], [9216436], [9112654], [9006226], [8990889], [9209618], [9134696], [9138334], [9032604], [9115897], [8979301], [9272768], [9214944], [8952894], [9216476], [9109115], [9163325], [9008731], [9055026], [9212013], [9224570], [9239058], [9064008], [8985780], [8994145], [9206373], [9156664], [9118505], [9078261], [9181462], [9191924], [9307053], [9130355], [9225765], [9205041], [8999636], [9058136], [9113796], [9242374], [9320494], [8942619], [9206988], [9200072], [9075310], [9118670], [9299935], [9167116], [9108926], [9148830], [9114455], [9031306], [8962878], [9120828], [8968820], [9115371], [9267632], [9178816], [9073905], [9019189], [9081010], [9094143], [9214387], [9061664], [9120113], [9039911], [9212078], [9166132], [9073958], [9104374], [9303289], [9128809], [9126927], [9309458], [9125469], [9242752], [8945794], [9090412], [9077821], [9203165], [9309592], [8879809], [9089401], [9205713], [9109433], [9160824], [9091753], [9121086], [9064241], [9132338], [9224101], [9135835], [9181793], [9136834], [9176447], [9115426], [8997900], [9200081], [8968817], [9246280], [8974589], [9135964], [9146163], [9053800], [9345202], [9070387], [9050080], [9001907], [9047219], [9143739], [9052009], [9005233], [9093250], [9183413], [9098165], [9311718], [9058874], [9254578], [9123171], [9168744], [9071856], [9250498], [9140514], [9283897], [9176075], [9020933], [9073753], [9114132], [9172929], [9030651], [9268768], [9182710], [9099691], [9037957], [9031478], [9208328], [9119467], [9068554], [9185598], [9176769], [9038976], [9214383], [8900117], [8921420], [8983768], [9109846], [9122336], [9148592], [8972327], [9178859], [9252807], [9216714], [9092706], [9157798], [8980388], [9121318], [8968862], [9136790], [9067140], [9184874], [9309752], [9204657], [9273107], [8940125], [9039766], [8983386], [9161274], [9085837], [9184291], [9088004], [9098840], [9038378], [9202827], [9165427], [9082200], [9089528], [9200361], [9055606], [9181860], [9066741], [8946426], [9227844], [9149948], [9131079], [9192266], [9321472], [9065104], [9063816], [8955964], [9136536], [9071124], [9154328], [9052791], [9013482], [9047579], [9178043], [9119409], [9035285], [9202165], [9126437], [9172207], [9202196], [9111333], [9139458], [9266933], [9223791], [9064996], [9074663], [9096620], [9184466], [9162168], [9144891], [9117566], [9215598], [9082057], [9031607], [9105003], [9208093], [9105380], [9007502], [9079052], [9118873], [9121169], [9116503], [9204668], [9120878], [9105716], [9265451], [9025782], [9110514], [9054990], [8984928], [9199642], [9256980], [9220267], [9002721], [9246020], [8999509], [9125101], [9203113], [9186804], [9101025], [9130927], [9131205], [9330837], [9243326], [9173275], [8974823], [9200337], [9222295], [9163175], [8994278], [9161056], [9127221], [8988630], [9074960], [9120441], [9137687], [9261746], [9116382], [9406845], [9103238], [9180141], [9231514], [9005394], [9101814], [8981314], [9141541], [9093816], [9119838], [9019953], [9048454], [9129179], [9171321], [9099539], [8892729], [9032193], [9142721], [9226740], [9194401], [9169348], [8992212], [9241855], [9213933], [9130718], [8928514], [9164637], [8993943], [9076637], [9335018], [9239634], [9205887], [9046730], [9040525], [9166079], [9081052], [9025662], [9274220], [8987841], [9261333], [9355246], [9173594], [9142181], [9219866], [9033326], [9102436], [9071848], [9138093], [9002572], [9180476], [9139729], [9133264], [9115555], [9170258], [9225605], [8975148], [8955383], [8991655], [9120495], [8955731], [8925395], [9143822], [9145272], [9125219], [9218005], [9247239], [9321613], [9126744], [9151100], [9013976], [8984277], [9387275], [9141401], [9235501], [9327030], [9031397], [9205439], [9078113], [9181098], [9091987], [9242712], [9235240], [9118449], [9195544], [9172702], [9030127], [9214678], [9052566], [9041455], [9082361], [9182892], [9123668], [9040330], [8930280], [9184469], [9137170], [9168194]], [[13781659], [13788294], [13761949], [13541317], [13694398], [13758176], [13682562], [13774291], [13798046], [13856689], [13798404], [13622272], [13792719], [13713963], [13752925], [13847517], [13847813], [13687432], [13824906], [13753774], [13827086], [13679277], [13664260], [13902732], [13670628], [13887654], [13595985], [13867984], [13793097], [13474630], [13656851], [13663819], [13788737], [13802254], [13690772], [13596770], [13528534], [13469393], [13722807], [13837158], [13690905], [13702187], [13673079], [13661599], [13761495], [13920711], [13734695], [13752480], [13833630], [13809455], [13718273], [13735079], [13966386], [13581745], [13656300], [13803065], [13624742], [13819148], [13809411], [13520409], [13697302], [13791992], [13833168], [13633648], [13882919], [13809531], [13671454], [13697370], [13708673], [13642650], [13935339], [13791512], [13598711], [13750729], [13783769], [14076919], [13773066], [13744639], [13697585], [13783119], [13800683], [13695069], [13643620], [13820759], [13619325], [13715947], [13837786], [13660677], [13700734], [13867377], [13910312], [13843000], [13757819], [13613109], [13456613], [13681738], [13867489], [13606667], [13823775], [13878169], [13721576], [13675390], [13830732], [13691003], [13686583], [13915167], [13603367], [13779561], [13786409], [13627061], [13708489], [13957362], [13631455], [13785131], [13696504], [13696318], [13829661], [13746083], [13846351], [13632585], [13699296], [13620648], [13803417], [13832427], [13731599], [13710883], [13708310], [13865436], [13760810], [13553938], [13824795], [13720230], [13588070], [13673768], [13712247], [13536774], [13735630], [13799795], [13684054], [13467867], [13755666], [13747971], [13664426], [13855421], [13684521], [13844107], [13837433], [13769688], [13669255], [13583175], [13651615], [13822128], [13558374], [13720454], [13628579], [13594587], [13708753], [13842279], [13840044], [13623331], [13749069], [13716742], [13573451], [13768341], [13670323], [13749471], [13688926], [13810109], [13787303], [13684333], [13956613], [13870641], [13728506], [13856856], [13823465], [13789933], [13608854], [13799723], [13580746], [13759259], [13854799], [13634662], [13618644], [13570701], [13673943], [13884998], [13747187], [13710103], [13589871], [13765131], [13692649], [13691223], [13777384], [13737700], [13670345], [13677588], [13762942], [13810592], [13629476], [13810707], [13670679], [13844375], [13694028], [13670510], [13563573], [14037621], [13745908], [13756078], [13806801], [13827989], [13694954], [13845522], [13722510], [13735273], [13669610], [13654015], [13885866], [13545252], [13895656], [13673744], [13704632], [13780203], [13849995], [13752696], [13641141], [13614066], [13597685], [13630099], [13730655], [13659560], [13660225], [13621821], [13572739], [13806662], [13708015], [13542793], [13472401], [13783361], [13906971], [13619492], [13858010], [13760577], [13747350], [13616052], [13713690], [13650792], [13849842], [13635450], [13598986], [13790882], [13868785], [13753048], [13701497], [13718651], [13697735], [13794735], [13748246], [13571916], [13758578], [13708268], [13871076], [13710127], [14001644], [13707583], [13753030], [13701116], [13718575], [13715599], [13641706], [13717546], [14033622], [13817253], [13623973], [13798246], [13907476], [13651081], [13831403], [13835219], [13812562], [13815678], [13846830], [13744120], [13729154], [13746587], [13616254], [13947467], [13823642], [13683361], [13663660], [13626842], [13722060], [13626816], [13528688], [13711408], [13763386], [13737581], [13708218], [13584650], [13557935], [13757379], [13732404], [13620299], [13648098], [13649638], [13829003], [13651520], [13752965], [13689745], [13747577], [13877387], [13799736], [13547716], [13763992], [13676414], [13556974], [13611568], [13590383], [13885555], [13736892], [13661871], [13715428], [13736725], [13698554], [13726682], [13684432], [13951297], [13608538], [13569899], [13629793], [13654200], [13810714], [13592574], [13724057], [13675837], [13779091], [13595409], [13640766], [13875887], [13820524], [13734971], [13671970], [13602934], [13941935], [13769147], [13786392], [13749200], [13719628], [13634390], [13683691], [13695256], [13829006], [13869008], [13741315], [13635773], [13812577], [13794999], [13677643], [13821525], [13576693], [13563991], [13664588], [13759144], [13678573], [13798096], [13942645], [13744802], [13606295], [13776907], [13442617], [13604635], [13726269], [13600002], [13712240], [13746676], [13838343], [13661858], [13724581], [13795147], [13714219], [13722294], [13798072], [13594730], [13657767], [13798104], [13476794], [13894645], [13688473], [13622577], [13632529], [13678624], [13748940], [13779184], [13703233], [13623744], [13773793], [13822676], [13899986], [13629434], [13693469], [13754470], [13742161], [13694049], [13691187], [13811593], [13849678], [13840777], [13866316], [13757783], [13615944], [13773674], [13750363], [13856487], [13666877], [13641069], [13819941], [13736880], [13677534], [13716521], [13840010], [13441333], [13778727], [13605557], [13697264], [13640365], [13818354], [13818816], [13694110], [13716932], [13476114], [13739356], [13724429], [13632734], [13581957], [13970976], [13696065], [13683587], [13814009], [13584210], [13827741], [13703912], [13787667], [13768579], [13841300], [13717035], [13887219], [13646937], [13580983], [13519859], [13733416], [13528012], [13770353], [13690787], [13666230], [13576808], [13718200], [13656181], [13701992], [13806124], [13844007], [13737256], [13679188], [13805069], [13731679], [13819953], [13754256], [13807343], [13922523], [13651871], [13555381], [13749053], [13640579], [13724354], [13911944], [13876399], [13499345], [13726892], [13604020], [13901171], [13698325], [13860307], [13780180], [13655058], [13699312], [13602043], [13737568], [13755978], [13536610], [13676590], [13453480], [13754559], [13642418], [13739771], [13672175], [13790628], [13579295], [13808895], [13774902], [13621116], [13758936], [13683832], [13683171], [13549369], [13711643], [13844419], [13734877], [13880603], [13711473], [13620791], [13762810], [13818893], [13520474], [13579712], [13703785], [13603010], [13669760], [13822623], [13642334], [13876912], [13879115], [13628781], [13646025], [13804905], [13845631], [13942512], [13797615], [13806351], [13589630], [13825757], [13846745], [13844094], [13689335], [13806139], [13938378], [13571097], [13775556], [13635269], [13638441], [13570552], [13787746], [13681868], [13755926], [13642764], [13808862], [13565317], [13673760], [13651722], [13783793], [13583092], [13982837], [13476287], [13675319], [13704973], [13667433], [13718469], [13852873], [13800829], [13554005], [13637653], [13736843], [13716677], [13610533], [13743939], [13606691], [13641627], [13945981], [13600514], [13532140], [13863767], [13629285], [13805713], [13601413], [13736984], [13648492], [13729386], [13812090], [13503407], [13732539], [13870373], [13676479], [13822986], [13733691], [13771751], [13582238], [13754249], [13856134], [13680316], [13943252], [13664799], [13870549], [13684860], [13704370], [13762242], [13712990], [13635851], [13764602], [13771928], [13831902], [13798424], [13899824], [13973967]], [[18121258], [18137245], [18090332], [18347554], [18312979], [17881840], [18010327], [17986829], [18095526], [18106559], [18114019], [17968110], [18161612], [18174681], [18189530], [18033685], [18128279], [17953905], [17971533], [18278907], [18244846], [18265870], [18023930], [18017252], [18126761], [18094040], [18054203], [18215737], [17947800], [18229464], [18042118], [18348799], [18043246], [18125958], [17975614], [18036691], [18020467], [17980950], [18118925], [17703431], [18075695], [18053451], [18196685], [18004126], [18053517], [18281722], [18317673], [18142229], [18042829], [18116646], [17994941], [17929307], [18242170], [18112169], [18065040], [17934638], [18178084], [17971189], [18108102], [18091557], [17934270], [18198468], [18054195], [18099319], [18228039], [18166967], [18221969], [18419032], [17939620], [18119005], [18157972], [18092524], [18160196], [17938642], [18141087], [18011014], [17975857], [18211706], [18194817], [18043067], [18290882], [18204909], [18183197], [17980324], [17906497], [18124677], [18077644], [18202084], [18082548], [18105765], [18094305], [18140443], [17801224], [18199116], [18072183], [18064709], [18119294], [18214756], [18164598], [18175731], [18192862], [18000554], [18137989], [18020826], [18083218], [17814832], [17999398], [18064864], [18096830], [18293683], [17990445], [18072421], [18125579], [17972886], [17988520], [17890622], [18182186], [18323515], [18293151], [18066809], [17927238], [18149542], [18176463], [17782669], [18138673], [18134929], [17932244], [18111626], [18257451], [18270853], [18083889], [18215920], [17817444], [17980268], [18138147], [18104682], [18053469], [18138676], [18011986], [18140557], [18116586], [18071162], [18182467], [18184041], [18177898], [17992678], [18059955], [18031313], [18067728], [18059095], [18156659], [18233817], [18106640], [18235190], [17956768], [18192663], [18081616], [18102321], [18291446], [18038256], [17852788], [18153685], [18219179], [17991393], [18080754], [18273425], [18215018], [17855161], [18065147], [18284077], [17855959], [17984423], [18088952], [18308597], [17902808], [18209251], [17996196], [18314987], [18144193], [17990565], [17972711], [18241350], [18170995], [18005520], [18094057], [18147165], [18110958], [18017694], [17832359], [18012813], [18050193], [18109486], [18273286], [18163282], [18272207], [17852608], [17925684], [18272542], [18201649], [18349735], [18104837], [18064102], [17934610], [18040514], [17971396], [17891389], [18089697], [18300005], [18161355], [18208093], [17997091], [18023144], [18103455], [18177153], [18241237], [18410539], [18008233], [17958217], [18041457], [18127388], [18251640], [18227018], [18090627], [18013803], [18143762], [17945494], [18049112], [17926020], [17942413], [18121443], [18084729], [18113462], [18174288], [18185517], [17923683], [18040067], [18032561], [17947960], [17900723], [18134840], [18187108], [18158577], [18162351], [18151718], [18023193], [18278256], [17966796], [17910067], [18081465], [18082455], [18051818], [18280467], [17982223], [17951204], [18159019], [18049489], [18011452], [18008004], [18072560], [18032334], [18192885], [17989136], [18051873], [17935039], [18160797], [18229691], [18294249], [18080679], [18058986], [18215102], [18086499], [18006167], [18041793], [18133236], [17998052], [18131575], [18076966], [18077292], [18044564], [18046078], [18210635], [18199850], [18146728], [17921954], [18042429], [18174405], [18038850], [18244902], [18047101], [18039171], [18137065], [18092211], [18177296], [17898718], [18132446], [18238593], [18042622], [18109859], [18251697], [18027456], [17797571], [17993575], [18158260], [17997225], [18153204], [18035774], [18166000], [18163214], [18232544], [18137016], [18284252], [17837808], [18200482], [17785229], [18110839], [18057844], [18134357], [18112838], [17820971], [18120105], [18095723], [18366700], [18203789], [18101106], [18192437], [17854499], [18293994], [18148597], [18026908], [17983969], [18040270], [18163541], [18040857], [18154363], [18131185], [18010171], [18149451], [17971343], [17797723], [17752617], [18194923], [18122841], [18141816], [17910698], [18078480], [17933418], [18029386], [17939043], [17962119], [17978754], [18133034], [18114425], [17996540], [18035201], [18088312], [18105277], [17844355], [18076083], [17958872], [18250957], [18092751], [18205572], [18063663], [18121428], [18279999], [18175575], [18183462], [18083989], [18258868], [17970112], [17954414], [18153098], [18109566], [18091056], [18224685], [18019771], [17972599], [18000379], [18074175], [18234081], [18151939], [18218080], [18098516], [18293193], [18101725], [18112015], [18034006], [18142827], [18144375], [18006941], [18166669], [17938333], [18132305], [18189407], [17976708], [18354407], [17930583], [17891671], [17821297], [18275881], [18302142], [17930581], [18257959], [17970923], [18050966], [18030257], [18222474], [18031587], [18074146], [18258755], [18221933], [18204502], [18074669], [18229649], [18078350], [17993753], [18216262], [18037803], [18146478], [18115295], [18012070], [18061079], [18229874], [18192315], [18086085], [17837390], [17994842], [18034197], [17971435], [17846946], [18337354], [17980354], [18198852], [18133096], [18002823], [18085056], [18091983], [18072179], [18036438], [18086113], [18037262], [17960203], [18029628], [18177537], [18027104], [18106441], [17847621], [18325699], [17950699], [18145348], [18087849], [17920641], [18182912], [18220475], [18004172], [18159626], [18121016], [18121665], [18067198], [17949436], [17891555], [18105222], [18103286], [18083897], [17996917], [18318012], [18131480], [18106197], [18022155], [18059222], [18003623], [18272514], [17955803], [18100746], [18188035], [18090712], [18158638], [18176678], [18117452], [18122774], [18046270], [18031923], [18123913], [18085012], [18109860], [17998292], [18097829], [18028034], [18167930], [18112218], [18118693], [17892405], [18010853], [18167464], [18318347], [18229976], [18145355], [18109764], [17943338], [18095058], [17877472], [17860033], [18089338], [18216690], [17961488], [18192743], [18198272], [18098578], [17926530], [18304724], [18250109], [18231690], [18214580], [18270234], [18022442], [18047715], [17862827], [17930474], [18204123], [18099660], [17976364], [18082469], [18086667], [17836724], [18094138], [17956109], [18104053], [18122016], [17999939], [18087057], [17966309], [18079136], [17961355], [18335121], [18062064], [18223005], [18007044], [18019622], [17811004], [17953753], [18113754], [18218675], [18076064], [18520117], [18279879], [18013550], [18066581], [18147064], [18030308], [18048902], [18110895], [18074715], [18149858], [18181651], [18314702], [18118412], [18284943], [18075486], [18077873], [18322620], [18131068], [18222798], [18119584], [18167267], [17994372], [18098071], [18103182], [18109809], [17856461], [18031995], [18274041], [18079607], [17912293], [18158011], [18123817], [18083657], [18114907], [18019642], [18357861], [18091922], [18120427], [18207747], [18126292], [18048552], [18026026], [17986454], [18004771], [18080184], [18109543], [18315410], [17962190], [18067754], [18448238], [18128960], [17936851], [18108033], [18048641], [18147537], [18264278], [17988671], [18155719], [18131209], [18142644], [17969394], [18069917], [18030146], [18186869], [18117167], [18132209], [18089275], [17999993], [18073716], [18111998], [18099344], [18038052], [18134157], [17973002], [18178945], [18104302], [18419495], [18046534], [18024866], [18122288], [18138819], [17912393], [18095783], [18064675], [18244573], [18005051], [18068841], [18106200], [17887388], [18139622], [17959501], [18185685], [17988515], [17863081], [18145938], [18154136], [18030286], [17994867], [18222110], [18039618], [18209005], [17963215], [17922577], [18027601], [18210470], [17903049], [18042461], [18044898], [18094110], [18163370], [18181576], [18011826], [18272582], [18146135], [18087387], [18202400], [18023954], [18091422], [18093625], [17828435], [18099756], [18053220], [18089145], [18093539], [18052416], [18141555], [18062317], [17812230], [18139200], [18002967], [17871931], [17891770], [17910907], [18176399], [18190310], [18093394], [18103156], [17998114], [17973702], [18049681], [18205371], [18034505], [18052787], [18163484], [18015453], [18004622], [18088145], [17923326], [18159020], [18297645], [18035003], [18041180], [18420760], [18063673], [18196031], [18070880], [18113537], [18066542], [18017928], [17743219], [18013417], [17967791], [17963452], [18007141], [18194424], [18171188], [17923600], [18108785], [18128020], [17933481], [18086057], [18253146], [17880449], [18318284], [18317578], [18212657], [18358500], [18228644], [18194992], [18150118], [18078507], [18156332], [17938138], [17885728], [18189371], [18308055], [18044399], [17885388], [18241826], [18174211], [18109479], [18162396], [18157146], [18029115], [18154453], [18003737], [18202194], [17912310], [17835578], [17955259], [18228868], [18381972], [18183753], [18349216], [17997977], [18271092], [18004554], [17972497], [18214612], [17902029], [18137662], [18175882], [18224371], [18330091], [18159188], [17950095], [18202395], [18218295], [18041635], [18178732], [18110662], [18273697], [18046477], [18226152], [17750071], [17884599], [17824718], [18088733], [18171672], [18132548], [18082566], [18053036], [18006228], [17975652], [17975459], [18227675], [17882296], [17959928], [18255343], [17849092], [17959522], [18169091], [18172976], [18045108], [17975365], [17943589], [18074010], [17870125], [18176898], [18057046], [18069799], [17928948], [17987387], [18030830], [18287601], [18161448], [18036383]]]\n",
            "Interchange: [[[4497219], [4591184], [4562305], [4507640], [4599633], [4527560], [4576743], [4594158], [4662456], [4489566], [4557360], [4580949], [4517103], [4593680], [4588907], [4527934], [4485264], [4429941], [4596349], [4616181], [4558035], [4482906], [4571061], [4471577], [4567877], [4619342], [4755457], [4565409], [4523489], [4486615], [4565527], [4501949], [4496723], [4491168], [4530268], [4513424], [4556449], [4567855], [4589314], [4608447], [4471657], [4583556], [4570700], [4377683], [4476865], [4421376], [4379079], [4536108], [4596697], [4603554], [4621665], [4631726], [4506351], [4551423], [4381871], [4558304], [4501538], [4643320], [4587383], [4533623], [4537661], [4532062], [4555890], [4616317], [4488776], [4552247], [4471324], [4604902], [4543802], [4537835], [4518171], [4421392], [4425292], [4488073], [4555866], [4562056], [4560241], [4468448], [4536076], [4495728], [4592821], [4473725], [4610014], [4599722], [4606995], [4552337], [4522087], [4442529], [4598060], [4446306], [4610468], [4636026], [4547620], [4499958], [4521295], [4555696], [4539491], [4456713], [4508906], [4492306], [4504746], [4545395], [4606501], [4517071], [4459740], [4565003], [4578268], [4589742], [4446252], [4548765], [4497760], [4603792], [4506002], [4502609], [4446447], [4722843], [4532944], [4473192], [4641135], [4440387], [4604555], [4482894], [4464033], [4636879], [4589174], [4505870], [4625671], [4475598], [4598661], [4594677], [4447874], [4469063], [4488509], [4470391], [4515070], [4486868], [4584587], [4462390], [4468901], [4418148], [4603782], [4606381], [4474909], [4595804], [4467985], [4412836], [4543215], [4575794], [4478688], [4501340], [4575051], [4602023], [4625812], [4586178], [4512895], [4512763], [4545432], [4478467], [4502662], [4556688], [4571965], [4522017], [4594627], [4531508], [4520805], [4572504], [4522083], [4522500], [4479042], [4515456], [4575785], [4487553], [4529146], [4580615], [4577107], [4576585], [4519596], [4549746], [4534130], [4509127], [4618095], [4453964], [4488250], [4513787], [4645724], [4564017], [4510828], [4570920], [4492559], [4429646], [4433648], [4526900], [4540376], [4554394], [4472460], [4476575], [4487312], [4548193], [4683717], [4526264]], [[9273279], [9122869], [9241203], [9119182], [8974590], [9150701], [9068323], [9005788], [9222737], [9094623], [9013855], [9075930], [8960625], [9134925], [9064401], [9323437], [9055635], [9123690], [9226564], [9139972], [9029989], [9015082], [9275520], [9029949], [9049109], [9083977], [9055980], [9141102], [9035574], [9058314], [9142032], [9174004], [9049010], [9064808], [9031760], [9122830], [9076338], [9223525], [9209595], [9209737], [9318342], [9097897], [9028626], [9150129], [8963584], [9216436], [9112654], [9006226], [8990889], [9209618], [9134696], [9138334], [9032604], [9115897], [8979301], [9272768], [9214944], [8952894], [9216476], [9109115], [9163325], [9008731], [9055026], [9212013], [9224570], [9239058], [9064008], [8985780], [8994145], [9206373], [9156664], [9118505], [9078261], [9181462], [9191924], [9307053], [9130355], [9225765], [9205041], [8999636], [9058136], [9113796], [9242374], [9320494], [8942619], [9206988], [9200072], [9075310], [9118670], [9299935], [9167116], [9108926], [9148830], [9114455], [9031306], [8962878], [9120828], [8968820], [9115371], [9267632], [9178816], [9073905], [9019189], [9081010], [9094143], [9214387], [9061664], [9120113], [9039911], [9212078], [9166132], [9073958], [9104374], [9303289], [9128809], [9126927], [9309458], [9125469], [9242752], [8945794], [9090412], [9077821], [9203165], [9309592], [8879809], [9089401], [9205713], [9109433], [9160824], [9091753], [9121086], [9064241], [9132338], [9224101], [9135835], [9181793], [9136834], [9176447], [9115426], [8997900], [9200081], [8968817], [9246280], [8974589], [9135964], [9146163], [9053800], [9345202], [9070387], [9050080], [9001907], [9047219], [9143739], [9052009], [9005233], [9093250], [9183413], [9098165], [9311718], [9058874], [9254578], [9123171], [9168744], [9071856], [9250498], [9140514], [9283897], [9176075], [9020933], [9073753], [9114132], [9172929], [9030651], [9268768], [9182710], [9099691], [9037957], [9031478], [9208328], [9119467], [9068554], [9185598], [9176769], [9038976], [9214383], [8900117], [8921420], [8983768], [9109846], [9122336], [9148592], [8972327], [9178859], [9252807], [9216714], [9092706], [9157798], [8980388], [9121318], [8968862], [9136790], [9067140], [9184874], [9309752], [9204657], [9273107], [8940125], [9039766], [8983386], [9161274], [9085837], [9184291], [9088004], [9098840], [9038378], [9202827], [9165427], [9082200], [9089528], [9200361], [9055606], [9181860], [9066741], [8946426], [9227844], [9149948], [9131079], [9192266], [9321472], [9065104], [9063816], [8955964], [9136536], [9071124], [9154328], [9052791], [9013482], [9047579], [9178043], [9119409], [9035285], [9202165], [9126437], [9172207], [9202196], [9111333], [9139458], [9266933], [9223791], [9064996], [9074663], [9096620], [9184466], [9162168], [9144891], [9117566], [9215598], [9082057], [9031607], [9105003], [9208093], [9105380], [9007502], [9079052], [9118873], [9121169], [9116503], [9204668], [9120878], [9105716], [9265451], [9025782], [9110514], [9054990], [8984928], [9199642], [9256980], [9220267], [9002721], [9246020], [8999509], [9125101], [9203113], [9186804], [9101025], [9130927], [9131205], [9330837], [9243326], [9173275], [8974823], [9200337], [9222295], [9163175], [8994278], [9161056], [9127221], [8988630], [9074960], [9120441], [9137687], [9261746], [9116382], [9406845], [9103238], [9180141], [9231514], [9005394], [9101814], [8981314], [9141541], [9093816], [9119838], [9019953], [9048454], [9129179], [9171321], [9099539], [8892729], [9032193], [9142721], [9226740], [9194401], [9169348], [8992212], [9241855], [9213933], [9130718], [8928514], [9164637], [8993943], [9076637], [9335018], [9239634], [9205887], [9046730], [9040525], [9166079], [9081052], [9025662], [9274220], [8987841], [9261333], [9355246], [9173594], [9142181], [9219866], [9033326], [9102436], [9071848], [9138093], [9002572], [9180476], [9139729], [9133264], [9115555], [9170258], [9225605], [8975148], [8955383], [8991655], [9120495], [8955731], [8925395], [9143822], [9145272], [9125219], [9218005], [9247239], [9321613], [9126744], [9151100], [9013976], [8984277], [9387275], [9141401], [9235501], [9327030], [9031397], [9205439], [9078113], [9181098], [9091987], [9242712], [9235240], [9118449], [9195544], [9172702], [9030127], [9214678], [9052566], [9041455], [9082361], [9182892], [9123668], [9040330], [8930280], [9184469], [9137170], [9168194]], [[13781659], [13788294], [13761949], [13541317], [13694398], [13758176], [13682562], [13774291], [13798046], [13856689], [13798404], [13622272], [13792719], [13713963], [13752925], [13847517], [13847813], [13687432], [13824906], [13753774], [13827086], [13679277], [13664260], [13902732], [13670628], [13887654], [13595985], [13867984], [13793097], [13474630], [13656851], [13663819], [13788737], [13802254], [13690772], [13596770], [13528534], [13469393], [13722807], [13837158], [13690905], [13702187], [13673079], [13661599], [13761495], [13920711], [13734695], [13752480], [13833630], [13809455], [13718273], [13735079], [13966386], [13581745], [13656300], [13803065], [13624742], [13819148], [13809411], [13520409], [13697302], [13791992], [13833168], [13633648], [13882919], [13809531], [13671454], [13697370], [13708673], [13642650], [13935339], [13791512], [13598711], [13750729], [13783769], [14076919], [13773066], [13744639], [13697585], [13783119], [13800683], [13695069], [13643620], [13820759], [13619325], [13715947], [13837786], [13660677], [13700734], [13867377], [13910312], [13843000], [13757819], [13613109], [13456613], [13681738], [13867489], [13606667], [13823775], [13878169], [13721576], [13675390], [13830732], [13691003], [13686583], [13915167], [13603367], [13779561], [13786409], [13627061], [13708489], [13957362], [13631455], [13785131], [13696504], [13696318], [13829661], [13746083], [13846351], [13632585], [13699296], [13620648], [13803417], [13832427], [13731599], [13710883], [13708310], [13865436], [13760810], [13553938], [13824795], [13720230], [13588070], [13673768], [13712247], [13536774], [13735630], [13799795], [13684054], [13467867], [13755666], [13747971], [13664426], [13855421], [13684521], [13844107], [13837433], [13769688], [13669255], [13583175], [13651615], [13822128], [13558374], [13720454], [13628579], [13594587], [13708753], [13842279], [13840044], [13623331], [13749069], [13716742], [13573451], [13768341], [13670323], [13749471], [13688926], [13810109], [13787303], [13684333], [13956613], [13870641], [13728506], [13856856], [13823465], [13789933], [13608854], [13799723], [13580746], [13759259], [13854799], [13634662], [13618644], [13570701], [13673943], [13884998], [13747187], [13710103], [13589871], [13765131], [13692649], [13691223], [13777384], [13737700], [13670345], [13677588], [13762942], [13810592], [13629476], [13810707], [13670679], [13844375], [13694028], [13670510], [13563573], [14037621], [13745908], [13756078], [13806801], [13827989], [13694954], [13845522], [13722510], [13735273], [13669610], [13654015], [13885866], [13545252], [13895656], [13673744], [13704632], [13780203], [13849995], [13752696], [13641141], [13614066], [13597685], [13630099], [13730655], [13659560], [13660225], [13621821], [13572739], [13806662], [13708015], [13542793], [13472401], [13783361], [13906971], [13619492], [13858010], [13760577], [13747350], [13616052], [13713690], [13650792], [13849842], [13635450], [13598986], [13790882], [13868785], [13753048], [13701497], [13718651], [13697735], [13794735], [13748246], [13571916], [13758578], [13708268], [13871076], [13710127], [14001644], [13707583], [13753030], [13701116], [13718575], [13715599], [13641706], [13717546], [14033622], [13817253], [13623973], [13798246], [13907476], [13651081], [13831403], [13835219], [13812562], [13815678], [13846830], [13744120], [13729154], [13746587], [13616254], [13947467], [13823642], [13683361], [13663660], [13626842], [13722060], [13626816], [13528688], [13711408], [13763386], [13737581], [13708218], [13584650], [13557935], [13757379], [13732404], [13620299], [13648098], [13649638], [13829003], [13651520], [13752965], [13689745], [13747577], [13877387], [13799736], [13547716], [13763992], [13676414], [13556974], [13611568], [13590383], [13885555], [13736892], [13661871], [13715428], [13736725], [13698554], [13726682], [13684432], [13951297], [13608538], [13569899], [13629793], [13654200], [13810714], [13592574], [13724057], [13675837], [13779091], [13595409], [13640766], [13875887], [13820524], [13734971], [13671970], [13602934], [13941935], [13769147], [13786392], [13749200], [13719628], [13634390], [13683691], [13695256], [13829006], [13869008], [13741315], [13635773], [13812577], [13794999], [13677643], [13821525], [13576693], [13563991], [13664588], [13759144], [13678573], [13798096], [13942645], [13744802], [13606295], [13776907], [13442617], [13604635], [13726269], [13600002], [13712240], [13746676], [13838343], [13661858], [13724581], [13795147], [13714219], [13722294], [13798072], [13594730], [13657767], [13798104], [13476794], [13894645], [13688473], [13622577], [13632529], [13678624], [13748940], [13779184], [13703233], [13623744], [13773793], [13822676], [13899986], [13629434], [13693469], [13754470], [13742161], [13694049], [13691187], [13811593], [13849678], [13840777], [13866316], [13757783], [13615944], [13773674], [13750363], [13856487], [13666877], [13641069], [13819941], [13736880], [13677534], [13716521], [13840010], [13441333], [13778727], [13605557], [13697264], [13640365], [13818354], [13818816], [13694110], [13716932], [13476114], [13739356], [13724429], [13632734], [13581957], [13970976], [13696065], [13683587], [13814009], [13584210], [13827741], [13703912], [13787667], [13768579], [13841300], [13717035], [13887219], [13646937], [13580983], [13519859], [13733416], [13528012], [13770353], [13690787], [13666230], [13576808], [13718200], [13656181], [13701992], [13806124], [13844007], [13737256], [13679188], [13805069], [13731679], [13819953], [13754256], [13807343], [13922523], [13651871], [13555381], [13749053], [13640579], [13724354], [13911944], [13876399], [13499345], [13726892], [13604020], [13901171], [13698325], [13860307], [13780180], [13655058], [13699312], [13602043], [13737568], [13755978], [13536610], [13676590], [13453480], [13754559], [13642418], [13739771], [13672175], [13790628], [13579295], [13808895], [13774902], [13621116], [13758936], [13683832], [13683171], [13549369], [13711643], [13844419], [13734877], [13880603], [13711473], [13620791], [13762810], [13818893], [13520474], [13579712], [13703785], [13603010], [13669760], [13822623], [13642334], [13876912], [13879115], [13628781], [13646025], [13804905], [13845631], [13942512], [13797615], [13806351], [13589630], [13825757], [13846745], [13844094], [13689335], [13806139], [13938378], [13571097], [13775556], [13635269], [13638441], [13570552], [13787746], [13681868], [13755926], [13642764], [13808862], [13565317], [13673760], [13651722], [13783793], [13583092], [13982837], [13476287], [13675319], [13704973], [13667433], [13718469], [13852873], [13800829], [13554005], [13637653], [13736843], [13716677], [13610533], [13743939], [13606691], [13641627], [13945981], [13600514], [13532140], [13863767], [13629285], [13805713], [13601413], [13736984], [13648492], [13729386], [13812090], [13503407], [13732539], [13870373], [13676479], [13822986], [13733691], [13771751], [13582238], [13754249], [13856134], [13680316], [13943252], [13664799], [13870549], [13684860], [13704370], [13762242], [13712990], [13635851], [13764602], [13771928], [13831902], [13798424], [13899824], [13973967]], [[18121258], [18137245], [18090332], [18347554], [18312979], [17881840], [18010327], [17986829], [18095526], [18106559], [18114019], [17968110], [18161612], [18174681], [18189530], [18033685], [18128279], [17953905], [17971533], [18278907], [18244846], [18265870], [18023930], [18017252], [18126761], [18094040], [18054203], [18215737], [17947800], [18229464], [18042118], [18348799], [18043246], [18125958], [17975614], [18036691], [18020467], [17980950], [18118925], [17703431], [18075695], [18053451], [18196685], [18004126], [18053517], [18281722], [18317673], [18142229], [18042829], [18116646], [17994941], [17929307], [18242170], [18112169], [18065040], [17934638], [18178084], [17971189], [18108102], [18091557], [17934270], [18198468], [18054195], [18099319], [18228039], [18166967], [18221969], [18419032], [17939620], [18119005], [18157972], [18092524], [18160196], [17938642], [18141087], [18011014], [17975857], [18211706], [18194817], [18043067], [18290882], [18204909], [18183197], [17980324], [17906497], [18124677], [18077644], [18202084], [18082548], [18105765], [18094305], [18140443], [17801224], [18199116], [18072183], [18064709], [18119294], [18214756], [18164598], [18175731], [18192862], [18000554], [18137989], [18020826], [18083218], [17814832], [17999398], [18064864], [18096830], [18293683], [17990445], [18072421], [18125579], [17972886], [17988520], [17890622], [18182186], [18323515], [18293151], [18066809], [17927238], [18149542], [18176463], [17782669], [18138673], [18134929], [17932244], [18111626], [18257451], [18270853], [18083889], [18215920], [17817444], [17980268], [18138147], [18104682], [18053469], [18138676], [18011986], [18140557], [18116586], [18071162], [18182467], [18184041], [18177898], [17992678], [18059955], [18031313], [18067728], [18059095], [18156659], [18233817], [18106640], [18235190], [17956768], [18192663], [18081616], [18102321], [18291446], [18038256], [17852788], [18153685], [18219179], [17991393], [18080754], [18273425], [18215018], [17855161], [18065147], [18284077], [17855959], [17984423], [18088952], [18308597], [17902808], [18209251], [17996196], [18314987], [18144193], [17990565], [17972711], [18241350], [18170995], [18005520], [18094057], [18147165], [18110958], [18017694], [17832359], [18012813], [18050193], [18109486], [18273286], [18163282], [18272207], [17852608], [17925684], [18272542], [18201649], [18349735], [18104837], [18064102], [17934610], [18040514], [17971396], [17891389], [18089697], [18300005], [18161355], [18208093], [17997091], [18023144], [18103455], [18177153], [18241237], [18410539], [18008233], [17958217], [18041457], [18127388], [18251640], [18227018], [18090627], [18013803], [18143762], [17945494], [18049112], [17926020], [17942413], [18121443], [18084729], [18113462], [18174288], [18185517], [17923683], [18040067], [18032561], [17947960], [17900723], [18134840], [18187108], [18158577], [18162351], [18151718], [18023193], [18278256], [17966796], [17910067], [18081465], [18082455], [18051818], [18280467], [17982223], [17951204], [18159019], [18049489], [18011452], [18008004], [18072560], [18032334], [18192885], [17989136], [18051873], [17935039], [18160797], [18229691], [18294249], [18080679], [18058986], [18215102], [18086499], [18006167], [18041793], [18133236], [17998052], [18131575], [18076966], [18077292], [18044564], [18046078], [18210635], [18199850], [18146728], [17921954], [18042429], [18174405], [18038850], [18244902], [18047101], [18039171], [18137065], [18092211], [18177296], [17898718], [18132446], [18238593], [18042622], [18109859], [18251697], [18027456], [17797571], [17993575], [18158260], [17997225], [18153204], [18035774], [18166000], [18163214], [18232544], [18137016], [18284252], [17837808], [18200482], [17785229], [18110839], [18057844], [18134357], [18112838], [17820971], [18120105], [18095723], [18366700], [18203789], [18101106], [18192437], [17854499], [18293994], [18148597], [18026908], [17983969], [18040270], [18163541], [18040857], [18154363], [18131185], [18010171], [18149451], [17971343], [17797723], [17752617], [18194923], [18122841], [18141816], [17910698], [18078480], [17933418], [18029386], [17939043], [17962119], [17978754], [18133034], [18114425], [17996540], [18035201], [18088312], [18105277], [17844355], [18076083], [17958872], [18250957], [18092751], [18205572], [18063663], [18121428], [18279999], [18175575], [18183462], [18083989], [18258868], [17970112], [17954414], [18153098], [18109566], [18091056], [18224685], [18019771], [17972599], [18000379], [18074175], [18234081], [18151939], [18218080], [18098516], [18293193], [18101725], [18112015], [18034006], [18142827], [18144375], [18006941], [18166669], [17938333], [18132305], [18189407], [17976708], [18354407], [17930583], [17891671], [17821297], [18275881], [18302142], [17930581], [18257959], [17970923], [18050966], [18030257], [18222474], [18031587], [18074146], [18258755], [18221933], [18204502], [18074669], [18229649], [18078350], [17993753], [18216262], [18037803], [18146478], [18115295], [18012070], [18061079], [18229874], [18192315], [18086085], [17837390], [17994842], [18034197], [17971435], [17846946], [18337354], [17980354], [18198852], [18133096], [18002823], [18085056], [18091983], [18072179], [18036438], [18086113], [18037262], [17960203], [18029628], [18177537], [18027104], [18106441], [17847621], [18325699], [17950699], [18145348], [18087849], [17920641], [18182912], [18220475], [18004172], [18159626], [18121016], [18121665], [18067198], [17949436], [17891555], [18105222], [18103286], [18083897], [17996917], [18318012], [18131480], [18106197], [18022155], [18059222], [18003623], [18272514], [17955803], [18100746], [18188035], [18090712], [18158638], [18176678], [18117452], [18122774], [18046270], [18031923], [18123913], [18085012], [18109860], [17998292], [18097829], [18028034], [18167930], [18112218], [18118693], [17892405], [18010853], [18167464], [18318347], [18229976], [18145355], [18109764], [17943338], [18095058], [17877472], [17860033], [18089338], [18216690], [17961488], [18192743], [18198272], [18098578], [17926530], [18304724], [18250109], [18231690], [18214580], [18270234], [18022442], [18047715], [17862827], [17930474], [18204123], [18099660], [17976364], [18082469], [18086667], [17836724], [18094138], [17956109], [18104053], [18122016], [17999939], [18087057], [17966309], [18079136], [17961355], [18335121], [18062064], [18223005], [18007044], [18019622], [17811004], [17953753], [18113754], [18218675], [18076064], [18520117], [18279879], [18013550], [18066581], [18147064], [18030308], [18048902], [18110895], [18074715], [18149858], [18181651], [18314702], [18118412], [18284943], [18075486], [18077873], [18322620], [18131068], [18222798], [18119584], [18167267], [17994372], [18098071], [18103182], [18109809], [17856461], [18031995], [18274041], [18079607], [17912293], [18158011], [18123817], [18083657], [18114907], [18019642], [18357861], [18091922], [18120427], [18207747], [18126292], [18048552], [18026026], [17986454], [18004771], [18080184], [18109543], [18315410], [17962190], [18067754], [18448238], [18128960], [17936851], [18108033], [18048641], [18147537], [18264278], [17988671], [18155719], [18131209], [18142644], [17969394], [18069917], [18030146], [18186869], [18117167], [18132209], [18089275], [17999993], [18073716], [18111998], [18099344], [18038052], [18134157], [17973002], [18178945], [18104302], [18419495], [18046534], [18024866], [18122288], [18138819], [17912393], [18095783], [18064675], [18244573], [18005051], [18068841], [18106200], [17887388], [18139622], [17959501], [18185685], [17988515], [17863081], [18145938], [18154136], [18030286], [17994867], [18222110], [18039618], [18209005], [17963215], [17922577], [18027601], [18210470], [17903049], [18042461], [18044898], [18094110], [18163370], [18181576], [18011826], [18272582], [18146135], [18087387], [18202400], [18023954], [18091422], [18093625], [17828435], [18099756], [18053220], [18089145], [18093539], [18052416], [18141555], [18062317], [17812230], [18139200], [18002967], [17871931], [17891770], [17910907], [18176399], [18190310], [18093394], [18103156], [17998114], [17973702], [18049681], [18205371], [18034505], [18052787], [18163484], [18015453], [18004622], [18088145], [17923326], [18159020], [18297645], [18035003], [18041180], [18420760], [18063673], [18196031], [18070880], [18113537], [18066542], [18017928], [17743219], [18013417], [17967791], [17963452], [18007141], [18194424], [18171188], [17923600], [18108785], [18128020], [17933481], [18086057], [18253146], [17880449], [18318284], [18317578], [18212657], [18358500], [18228644], [18194992], [18150118], [18078507], [18156332], [17938138], [17885728], [18189371], [18308055], [18044399], [17885388], [18241826], [18174211], [18109479], [18162396], [18157146], [18029115], [18154453], [18003737], [18202194], [17912310], [17835578], [17955259], [18228868], [18381972], [18183753], [18349216], [17997977], [18271092], [18004554], [17972497], [18214612], [17902029], [18137662], [18175882], [18224371], [18330091], [18159188], [17950095], [18202395], [18218295], [18041635], [18178732], [18110662], [18273697], [18046477], [18226152], [17750071], [17884599], [17824718], [18088733], [18171672], [18132548], [18082566], [18053036], [18006228], [17975652], [17975459], [18227675], [17882296], [17959928], [18255343], [17849092], [17959522], [18169091], [18172976], [18045108], [17975365], [17943589], [18074010], [17870125], [18176898], [18057046], [18069799], [17928948], [17987387], [18030830], [18287601], [18161448], [18036383]]]\n",
            "Blocking:    [[[4497219], [4591184], [4562305], [4507640], [4599633], [4527560], [4576743], [4594158], [4662456], [4489566], [4557360], [4580949], [4517103], [4593680], [4588907], [4527934], [4485264], [4429941], [4596349], [4616181], [4558035], [4482906], [4571061], [4471577], [4567877], [4619342], [4755457], [4565409], [4523489], [4486615], [4565527], [4501949], [4496723], [4491168], [4530268], [4513424], [4556449], [4567855], [4589314], [4608447], [4471657], [4583556], [4570700], [4377683], [4476865], [4421376], [4379079], [4536108], [4596697], [4603554], [4621665], [4631726], [4506351], [4551423], [4381871], [4558304], [4501538], [4643320], [4587383], [4533623], [4537661], [4532062], [4555890], [4616317], [4488776], [4552247], [4471324], [4604902], [4543802], [4537835], [4518171], [4421392], [4425292], [4488073], [4555866], [4562056], [4560241], [4468448], [4536076], [4495728], [4592821], [4473725], [4610014], [4599722], [4606995], [4552337], [4522087], [4442529], [4598060], [4446306], [4610468], [4636026], [4547620], [4499958], [4521295], [4555696], [4539491], [4456713], [4508906], [4492306], [4504746], [4545395], [4606501], [4517071], [4459740], [4565003], [4578268], [4589742], [4446252], [4548765], [4497760], [4603792], [4506002], [4502609], [4446447], [4722843], [4532944], [4473192], [4641135], [4440387], [4604555], [4482894], [4464033], [4636879], [4589174], [4505870], [4625671], [4475598], [4598661], [4594677], [4447874], [4469063], [4488509], [4470391], [4515070], [4486868], [4584587], [4462390], [4468901], [4418148], [4603782], [4606381], [4474909], [4595804], [4467985], [4412836], [4543215], [4575794], [4478688], [4501340], [4575051], [4602023], [4625812], [4586178], [4512895], [4512763], [4545432], [4478467], [4502662], [4556688], [4571965], [4522017], [4594627], [4531508], [4520805], [4572504], [4522083], [4522500], [4479042], [4515456], [4575785], [4487553], [4529146], [4580615], [4577107], [4576585], [4519596], [4549746], [4534130], [4509127], [4618095], [4453964], [4488250], [4513787], [4645724], [4564017], [4510828], [4570920], [4492559], [4429646], [4433648], [4526900], [4540376], [4554394], [4472460], [4476575], [4487312], [4548193], [4683717], [4526264]], [[9273279], [9122869], [9241203], [9119182], [8974590], [9150701], [9068323], [9005788], [9222737], [9094623], [9013855], [9075930], [8960625], [9134925], [9064401], [9323437], [9055635], [9123690], [9226564], [9139972], [9029989], [9015082], [9275520], [9029949], [9049109], [9083977], [9055980], [9141102], [9035574], [9058314], [9142032], [9174004], [9049010], [9064808], [9031760], [9122830], [9076338], [9223525], [9209595], [9209737], [9318342], [9097897], [9028626], [9150129], [8963584], [9216436], [9112654], [9006226], [8990889], [9209618], [9134696], [9138334], [9032604], [9115897], [8979301], [9272768], [9214944], [8952894], [9216476], [9109115], [9163325], [9008731], [9055026], [9212013], [9224570], [9239058], [9064008], [8985780], [8994145], [9206373], [9156664], [9118505], [9078261], [9181462], [9191924], [9307053], [9130355], [9225765], [9205041], [8999636], [9058136], [9113796], [9242374], [9320494], [8942619], [9206988], [9200072], [9075310], [9118670], [9299935], [9167116], [9108926], [9148830], [9114455], [9031306], [8962878], [9120828], [8968820], [9115371], [9267632], [9178816], [9073905], [9019189], [9081010], [9094143], [9214387], [9061664], [9120113], [9039911], [9212078], [9166132], [9073958], [9104374], [9303289], [9128809], [9126927], [9309458], [9125469], [9242752], [8945794], [9090412], [9077821], [9203165], [9309592], [8879809], [9089401], [9205713], [9109433], [9160824], [9091753], [9121086], [9064241], [9132338], [9224101], [9135835], [9181793], [9136834], [9176447], [9115426], [8997900], [9200081], [8968817], [9246280], [8974589], [9135964], [9146163], [9053800], [9345202], [9070387], [9050080], [9001907], [9047219], [9143739], [9052009], [9005233], [9093250], [9183413], [9098165], [9311718], [9058874], [9254578], [9123171], [9168744], [9071856], [9250498], [9140514], [9283897], [9176075], [9020933], [9073753], [9114132], [9172929], [9030651], [9268768], [9182710], [9099691], [9037957], [9031478], [9208328], [9119467], [9068554], [9185598], [9176769], [9038976], [9214383], [8900117], [8921420], [8983768], [9109846], [9122336], [9148592], [8972327], [9178859], [9252807], [9216714], [9092706], [9157798], [8980388], [9121318], [8968862], [9136790], [9067140], [9184874], [9309752], [9204657], [9273107], [8940125], [9039766], [8983386], [9161274], [9085837], [9184291], [9088004], [9098840], [9038378], [9202827], [9165427], [9082200], [9089528], [9200361], [9055606], [9181860], [9066741], [8946426], [9227844], [9149948], [9131079], [9192266], [9321472], [9065104], [9063816], [8955964], [9136536], [9071124], [9154328], [9052791], [9013482], [9047579], [9178043], [9119409], [9035285], [9202165], [9126437], [9172207], [9202196], [9111333], [9139458], [9266933], [9223791], [9064996], [9074663], [9096620], [9184466], [9162168], [9144891], [9117566], [9215598], [9082057], [9031607], [9105003], [9208093], [9105380], [9007502], [9079052], [9118873], [9121169], [9116503], [9204668], [9120878], [9105716], [9265451], [9025782], [9110514], [9054990], [8984928], [9199642], [9256980], [9220267], [9002721], [9246020], [8999509], [9125101], [9203113], [9186804], [9101025], [9130927], [9131205], [9330837], [9243326], [9173275], [8974823], [9200337], [9222295], [9163175], [8994278], [9161056], [9127221], [8988630], [9074960], [9120441], [9137687], [9261746], [9116382], [9406845], [9103238], [9180141], [9231514], [9005394], [9101814], [8981314], [9141541], [9093816], [9119838], [9019953], [9048454], [9129179], [9171321], [9099539], [8892729], [9032193], [9142721], [9226740], [9194401], [9169348], [8992212], [9241855], [9213933], [9130718], [8928514], [9164637], [8993943], [9076637], [9335018], [9239634], [9205887], [9046730], [9040525], [9166079], [9081052], [9025662], [9274220], [8987841], [9261333], [9355246], [9173594], [9142181], [9219866], [9033326], [9102436], [9071848], [9138093], [9002572], [9180476], [9139729], [9133264], [9115555], [9170258], [9225605], [8975148], [8955383], [8991655], [9120495], [8955731], [8925395], [9143822], [9145272], [9125219], [9218005], [9247239], [9321613], [9126744], [9151100], [9013976], [8984277], [9387275], [9141401], [9235501], [9327030], [9031397], [9205439], [9078113], [9181098], [9091987], [9242712], [9235240], [9118449], [9195544], [9172702], [9030127], [9214678], [9052566], [9041455], [9082361], [9182892], [9123668], [9040330], [8930280], [9184469], [9137170], [9168194]], [[13781659], [13788294], [13761949], [13541317], [13694398], [13758176], [13682562], [13774291], [13798046], [13856689], [13798404], [13622272], [13792719], [13713963], [13752925], [13847517], [13847813], [13687432], [13824906], [13753774], [13827086], [13679277], [13664260], [13902732], [13670628], [13887654], [13595985], [13867984], [13793097], [13474630], [13656851], [13663819], [13788737], [13802254], [13690772], [13596770], [13528534], [13469393], [13722807], [13837158], [13690905], [13702187], [13673079], [13661599], [13761495], [13920711], [13734695], [13752480], [13833630], [13809455], [13718273], [13735079], [13966386], [13581745], [13656300], [13803065], [13624742], [13819148], [13809411], [13520409], [13697302], [13791992], [13833168], [13633648], [13882919], [13809531], [13671454], [13697370], [13708673], [13642650], [13935339], [13791512], [13598711], [13750729], [13783769], [14076919], [13773066], [13744639], [13697585], [13783119], [13800683], [13695069], [13643620], [13820759], [13619325], [13715947], [13837786], [13660677], [13700734], [13867377], [13910312], [13843000], [13757819], [13613109], [13456613], [13681738], [13867489], [13606667], [13823775], [13878169], [13721576], [13675390], [13830732], [13691003], [13686583], [13915167], [13603367], [13779561], [13786409], [13627061], [13708489], [13957362], [13631455], [13785131], [13696504], [13696318], [13829661], [13746083], [13846351], [13632585], [13699296], [13620648], [13803417], [13832427], [13731599], [13710883], [13708310], [13865436], [13760810], [13553938], [13824795], [13720230], [13588070], [13673768], [13712247], [13536774], [13735630], [13799795], [13684054], [13467867], [13755666], [13747971], [13664426], [13855421], [13684521], [13844107], [13837433], [13769688], [13669255], [13583175], [13651615], [13822128], [13558374], [13720454], [13628579], [13594587], [13708753], [13842279], [13840044], [13623331], [13749069], [13716742], [13573451], [13768341], [13670323], [13749471], [13688926], [13810109], [13787303], [13684333], [13956613], [13870641], [13728506], [13856856], [13823465], [13789933], [13608854], [13799723], [13580746], [13759259], [13854799], [13634662], [13618644], [13570701], [13673943], [13884998], [13747187], [13710103], [13589871], [13765131], [13692649], [13691223], [13777384], [13737700], [13670345], [13677588], [13762942], [13810592], [13629476], [13810707], [13670679], [13844375], [13694028], [13670510], [13563573], [14037621], [13745908], [13756078], [13806801], [13827989], [13694954], [13845522], [13722510], [13735273], [13669610], [13654015], [13885866], [13545252], [13895656], [13673744], [13704632], [13780203], [13849995], [13752696], [13641141], [13614066], [13597685], [13630099], [13730655], [13659560], [13660225], [13621821], [13572739], [13806662], [13708015], [13542793], [13472401], [13783361], [13906971], [13619492], [13858010], [13760577], [13747350], [13616052], [13713690], [13650792], [13849842], [13635450], [13598986], [13790882], [13868785], [13753048], [13701497], [13718651], [13697735], [13794735], [13748246], [13571916], [13758578], [13708268], [13871076], [13710127], [14001644], [13707583], [13753030], [13701116], [13718575], [13715599], [13641706], [13717546], [14033622], [13817253], [13623973], [13798246], [13907476], [13651081], [13831403], [13835219], [13812562], [13815678], [13846830], [13744120], [13729154], [13746587], [13616254], [13947467], [13823642], [13683361], [13663660], [13626842], [13722060], [13626816], [13528688], [13711408], [13763386], [13737581], [13708218], [13584650], [13557935], [13757379], [13732404], [13620299], [13648098], [13649638], [13829003], [13651520], [13752965], [13689745], [13747577], [13877387], [13799736], [13547716], [13763992], [13676414], [13556974], [13611568], [13590383], [13885555], [13736892], [13661871], [13715428], [13736725], [13698554], [13726682], [13684432], [13951297], [13608538], [13569899], [13629793], [13654200], [13810714], [13592574], [13724057], [13675837], [13779091], [13595409], [13640766], [13875887], [13820524], [13734971], [13671970], [13602934], [13941935], [13769147], [13786392], [13749200], [13719628], [13634390], [13683691], [13695256], [13829006], [13869008], [13741315], [13635773], [13812577], [13794999], [13677643], [13821525], [13576693], [13563991], [13664588], [13759144], [13678573], [13798096], [13942645], [13744802], [13606295], [13776907], [13442617], [13604635], [13726269], [13600002], [13712240], [13746676], [13838343], [13661858], [13724581], [13795147], [13714219], [13722294], [13798072], [13594730], [13657767], [13798104], [13476794], [13894645], [13688473], [13622577], [13632529], [13678624], [13748940], [13779184], [13703233], [13623744], [13773793], [13822676], [13899986], [13629434], [13693469], [13754470], [13742161], [13694049], [13691187], [13811593], [13849678], [13840777], [13866316], [13757783], [13615944], [13773674], [13750363], [13856487], [13666877], [13641069], [13819941], [13736880], [13677534], [13716521], [13840010], [13441333], [13778727], [13605557], [13697264], [13640365], [13818354], [13818816], [13694110], [13716932], [13476114], [13739356], [13724429], [13632734], [13581957], [13970976], [13696065], [13683587], [13814009], [13584210], [13827741], [13703912], [13787667], [13768579], [13841300], [13717035], [13887219], [13646937], [13580983], [13519859], [13733416], [13528012], [13770353], [13690787], [13666230], [13576808], [13718200], [13656181], [13701992], [13806124], [13844007], [13737256], [13679188], [13805069], [13731679], [13819953], [13754256], [13807343], [13922523], [13651871], [13555381], [13749053], [13640579], [13724354], [13911944], [13876399], [13499345], [13726892], [13604020], [13901171], [13698325], [13860307], [13780180], [13655058], [13699312], [13602043], [13737568], [13755978], [13536610], [13676590], [13453480], [13754559], [13642418], [13739771], [13672175], [13790628], [13579295], [13808895], [13774902], [13621116], [13758936], [13683832], [13683171], [13549369], [13711643], [13844419], [13734877], [13880603], [13711473], [13620791], [13762810], [13818893], [13520474], [13579712], [13703785], [13603010], [13669760], [13822623], [13642334], [13876912], [13879115], [13628781], [13646025], [13804905], [13845631], [13942512], [13797615], [13806351], [13589630], [13825757], [13846745], [13844094], [13689335], [13806139], [13938378], [13571097], [13775556], [13635269], [13638441], [13570552], [13787746], [13681868], [13755926], [13642764], [13808862], [13565317], [13673760], [13651722], [13783793], [13583092], [13982837], [13476287], [13675319], [13704973], [13667433], [13718469], [13852873], [13800829], [13554005], [13637653], [13736843], [13716677], [13610533], [13743939], [13606691], [13641627], [13945981], [13600514], [13532140], [13863767], [13629285], [13805713], [13601413], [13736984], [13648492], [13729386], [13812090], [13503407], [13732539], [13870373], [13676479], [13822986], [13733691], [13771751], [13582238], [13754249], [13856134], [13680316], [13943252], [13664799], [13870549], [13684860], [13704370], [13762242], [13712990], [13635851], [13764602], [13771928], [13831902], [13798424], [13899824], [13973967]], [[18121258], [18137245], [18090332], [18347554], [18312979], [17881840], [18010327], [17986829], [18095526], [18106559], [18114019], [17968110], [18161612], [18174681], [18189530], [18033685], [18128279], [17953905], [17971533], [18278907], [18244846], [18265870], [18023930], [18017252], [18126761], [18094040], [18054203], [18215737], [17947800], [18229464], [18042118], [18348799], [18043246], [18125958], [17975614], [18036691], [18020467], [17980950], [18118925], [17703431], [18075695], [18053451], [18196685], [18004126], [18053517], [18281722], [18317673], [18142229], [18042829], [18116646], [17994941], [17929307], [18242170], [18112169], [18065040], [17934638], [18178084], [17971189], [18108102], [18091557], [17934270], [18198468], [18054195], [18099319], [18228039], [18166967], [18221969], [18419032], [17939620], [18119005], [18157972], [18092524], [18160196], [17938642], [18141087], [18011014], [17975857], [18211706], [18194817], [18043067], [18290882], [18204909], [18183197], [17980324], [17906497], [18124677], [18077644], [18202084], [18082548], [18105765], [18094305], [18140443], [17801224], [18199116], [18072183], [18064709], [18119294], [18214756], [18164598], [18175731], [18192862], [18000554], [18137989], [18020826], [18083218], [17814832], [17999398], [18064864], [18096830], [18293683], [17990445], [18072421], [18125579], [17972886], [17988520], [17890622], [18182186], [18323515], [18293151], [18066809], [17927238], [18149542], [18176463], [17782669], [18138673], [18134929], [17932244], [18111626], [18257451], [18270853], [18083889], [18215920], [17817444], [17980268], [18138147], [18104682], [18053469], [18138676], [18011986], [18140557], [18116586], [18071162], [18182467], [18184041], [18177898], [17992678], [18059955], [18031313], [18067728], [18059095], [18156659], [18233817], [18106640], [18235190], [17956768], [18192663], [18081616], [18102321], [18291446], [18038256], [17852788], [18153685], [18219179], [17991393], [18080754], [18273425], [18215018], [17855161], [18065147], [18284077], [17855959], [17984423], [18088952], [18308597], [17902808], [18209251], [17996196], [18314987], [18144193], [17990565], [17972711], [18241350], [18170995], [18005520], [18094057], [18147165], [18110958], [18017694], [17832359], [18012813], [18050193], [18109486], [18273286], [18163282], [18272207], [17852608], [17925684], [18272542], [18201649], [18349735], [18104837], [18064102], [17934610], [18040514], [17971396], [17891389], [18089697], [18300005], [18161355], [18208093], [17997091], [18023144], [18103455], [18177153], [18241237], [18410539], [18008233], [17958217], [18041457], [18127388], [18251640], [18227018], [18090627], [18013803], [18143762], [17945494], [18049112], [17926020], [17942413], [18121443], [18084729], [18113462], [18174288], [18185517], [17923683], [18040067], [18032561], [17947960], [17900723], [18134840], [18187108], [18158577], [18162351], [18151718], [18023193], [18278256], [17966796], [17910067], [18081465], [18082455], [18051818], [18280467], [17982223], [17951204], [18159019], [18049489], [18011452], [18008004], [18072560], [18032334], [18192885], [17989136], [18051873], [17935039], [18160797], [18229691], [18294249], [18080679], [18058986], [18215102], [18086499], [18006167], [18041793], [18133236], [17998052], [18131575], [18076966], [18077292], [18044564], [18046078], [18210635], [18199850], [18146728], [17921954], [18042429], [18174405], [18038850], [18244902], [18047101], [18039171], [18137065], [18092211], [18177296], [17898718], [18132446], [18238593], [18042622], [18109859], [18251697], [18027456], [17797571], [17993575], [18158260], [17997225], [18153204], [18035774], [18166000], [18163214], [18232544], [18137016], [18284252], [17837808], [18200482], [17785229], [18110839], [18057844], [18134357], [18112838], [17820971], [18120105], [18095723], [18366700], [18203789], [18101106], [18192437], [17854499], [18293994], [18148597], [18026908], [17983969], [18040270], [18163541], [18040857], [18154363], [18131185], [18010171], [18149451], [17971343], [17797723], [17752617], [18194923], [18122841], [18141816], [17910698], [18078480], [17933418], [18029386], [17939043], [17962119], [17978754], [18133034], [18114425], [17996540], [18035201], [18088312], [18105277], [17844355], [18076083], [17958872], [18250957], [18092751], [18205572], [18063663], [18121428], [18279999], [18175575], [18183462], [18083989], [18258868], [17970112], [17954414], [18153098], [18109566], [18091056], [18224685], [18019771], [17972599], [18000379], [18074175], [18234081], [18151939], [18218080], [18098516], [18293193], [18101725], [18112015], [18034006], [18142827], [18144375], [18006941], [18166669], [17938333], [18132305], [18189407], [17976708], [18354407], [17930583], [17891671], [17821297], [18275881], [18302142], [17930581], [18257959], [17970923], [18050966], [18030257], [18222474], [18031587], [18074146], [18258755], [18221933], [18204502], [18074669], [18229649], [18078350], [17993753], [18216262], [18037803], [18146478], [18115295], [18012070], [18061079], [18229874], [18192315], [18086085], [17837390], [17994842], [18034197], [17971435], [17846946], [18337354], [17980354], [18198852], [18133096], [18002823], [18085056], [18091983], [18072179], [18036438], [18086113], [18037262], [17960203], [18029628], [18177537], [18027104], [18106441], [17847621], [18325699], [17950699], [18145348], [18087849], [17920641], [18182912], [18220475], [18004172], [18159626], [18121016], [18121665], [18067198], [17949436], [17891555], [18105222], [18103286], [18083897], [17996917], [18318012], [18131480], [18106197], [18022155], [18059222], [18003623], [18272514], [17955803], [18100746], [18188035], [18090712], [18158638], [18176678], [18117452], [18122774], [18046270], [18031923], [18123913], [18085012], [18109860], [17998292], [18097829], [18028034], [18167930], [18112218], [18118693], [17892405], [18010853], [18167464], [18318347], [18229976], [18145355], [18109764], [17943338], [18095058], [17877472], [17860033], [18089338], [18216690], [17961488], [18192743], [18198272], [18098578], [17926530], [18304724], [18250109], [18231690], [18214580], [18270234], [18022442], [18047715], [17862827], [17930474], [18204123], [18099660], [17976364], [18082469], [18086667], [17836724], [18094138], [17956109], [18104053], [18122016], [17999939], [18087057], [17966309], [18079136], [17961355], [18335121], [18062064], [18223005], [18007044], [18019622], [17811004], [17953753], [18113754], [18218675], [18076064], [18520117], [18279879], [18013550], [18066581], [18147064], [18030308], [18048902], [18110895], [18074715], [18149858], [18181651], [18314702], [18118412], [18284943], [18075486], [18077873], [18322620], [18131068], [18222798], [18119584], [18167267], [17994372], [18098071], [18103182], [18109809], [17856461], [18031995], [18274041], [18079607], [17912293], [18158011], [18123817], [18083657], [18114907], [18019642], [18357861], [18091922], [18120427], [18207747], [18126292], [18048552], [18026026], [17986454], [18004771], [18080184], [18109543], [18315410], [17962190], [18067754], [18448238], [18128960], [17936851], [18108033], [18048641], [18147537], [18264278], [17988671], [18155719], [18131209], [18142644], [17969394], [18069917], [18030146], [18186869], [18117167], [18132209], [18089275], [17999993], [18073716], [18111998], [18099344], [18038052], [18134157], [17973002], [18178945], [18104302], [18419495], [18046534], [18024866], [18122288], [18138819], [17912393], [18095783], [18064675], [18244573], [18005051], [18068841], [18106200], [17887388], [18139622], [17959501], [18185685], [17988515], [17863081], [18145938], [18154136], [18030286], [17994867], [18222110], [18039618], [18209005], [17963215], [17922577], [18027601], [18210470], [17903049], [18042461], [18044898], [18094110], [18163370], [18181576], [18011826], [18272582], [18146135], [18087387], [18202400], [18023954], [18091422], [18093625], [17828435], [18099756], [18053220], [18089145], [18093539], [18052416], [18141555], [18062317], [17812230], [18139200], [18002967], [17871931], [17891770], [17910907], [18176399], [18190310], [18093394], [18103156], [17998114], [17973702], [18049681], [18205371], [18034505], [18052787], [18163484], [18015453], [18004622], [18088145], [17923326], [18159020], [18297645], [18035003], [18041180], [18420760], [18063673], [18196031], [18070880], [18113537], [18066542], [18017928], [17743219], [18013417], [17967791], [17963452], [18007141], [18194424], [18171188], [17923600], [18108785], [18128020], [17933481], [18086057], [18253146], [17880449], [18318284], [18317578], [18212657], [18358500], [18228644], [18194992], [18150118], [18078507], [18156332], [17938138], [17885728], [18189371], [18308055], [18044399], [17885388], [18241826], [18174211], [18109479], [18162396], [18157146], [18029115], [18154453], [18003737], [18202194], [17912310], [17835578], [17955259], [18228868], [18381972], [18183753], [18349216], [17997977], [18271092], [18004554], [17972497], [18214612], [17902029], [18137662], [18175882], [18224371], [18330091], [18159188], [17950095], [18202395], [18218295], [18041635], [18178732], [18110662], [18273697], [18046477], [18226152], [17750071], [17884599], [17824718], [18088733], [18171672], [18132548], [18082566], [18053036], [18006228], [17975652], [17975459], [18227675], [17882296], [17959928], [18255343], [17849092], [17959522], [18169091], [18172976], [18045108], [17975365], [17943589], [18074010], [17870125], [18176898], [18057046], [18069799], [17928948], [17987387], [18030830], [18287601], [18161448], [18036383]]]\n",
            "Transpose:   [[[4497219], [4591184], [4562305], [4507640], [4599633], [4527560], [4576743], [4594158], [4662456], [4489566], [4557360], [4580949], [4517103], [4593680], [4588907], [4527934], [4485264], [4429941], [4596349], [4616181], [4558035], [4482906], [4571061], [4471577], [4567877], [4619342], [4755457], [4565409], [4523489], [4486615], [4565527], [4501949], [4496723], [4491168], [4530268], [4513424], [4556449], [4567855], [4589314], [4608447], [4471657], [4583556], [4570700], [4377683], [4476865], [4421376], [4379079], [4536108], [4596697], [4603554], [4621665], [4631726], [4506351], [4551423], [4381871], [4558304], [4501538], [4643320], [4587383], [4533623], [4537661], [4532062], [4555890], [4616317], [4488776], [4552247], [4471324], [4604902], [4543802], [4537835], [4518171], [4421392], [4425292], [4488073], [4555866], [4562056], [4560241], [4468448], [4536076], [4495728], [4592821], [4473725], [4610014], [4599722], [4606995], [4552337], [4522087], [4442529], [4598060], [4446306], [4610468], [4636026], [4547620], [4499958], [4521295], [4555696], [4539491], [4456713], [4508906], [4492306], [4504746], [4545395], [4606501], [4517071], [4459740], [4565003], [4578268], [4589742], [4446252], [4548765], [4497760], [4603792], [4506002], [4502609], [4446447], [4722843], [4532944], [4473192], [4641135], [4440387], [4604555], [4482894], [4464033], [4636879], [4589174], [4505870], [4625671], [4475598], [4598661], [4594677], [4447874], [4469063], [4488509], [4470391], [4515070], [4486868], [4584587], [4462390], [4468901], [4418148], [4603782], [4606381], [4474909], [4595804], [4467985], [4412836], [4543215], [4575794], [4478688], [4501340], [4575051], [4602023], [4625812], [4586178], [4512895], [4512763], [4545432], [4478467], [4502662], [4556688], [4571965], [4522017], [4594627], [4531508], [4520805], [4572504], [4522083], [4522500], [4479042], [4515456], [4575785], [4487553], [4529146], [4580615], [4577107], [4576585], [4519596], [4549746], [4534130], [4509127], [4618095], [4453964], [4488250], [4513787], [4645724], [4564017], [4510828], [4570920], [4492559], [4429646], [4433648], [4526900], [4540376], [4554394], [4472460], [4476575], [4487312], [4548193], [4683717], [4526264]], [[9273279], [9122869], [9241203], [9119182], [8974590], [9150701], [9068323], [9005788], [9222737], [9094623], [9013855], [9075930], [8960625], [9134925], [9064401], [9323437], [9055635], [9123690], [9226564], [9139972], [9029989], [9015082], [9275520], [9029949], [9049109], [9083977], [9055980], [9141102], [9035574], [9058314], [9142032], [9174004], [9049010], [9064808], [9031760], [9122830], [9076338], [9223525], [9209595], [9209737], [9318342], [9097897], [9028626], [9150129], [8963584], [9216436], [9112654], [9006226], [8990889], [9209618], [9134696], [9138334], [9032604], [9115897], [8979301], [9272768], [9214944], [8952894], [9216476], [9109115], [9163325], [9008731], [9055026], [9212013], [9224570], [9239058], [9064008], [8985780], [8994145], [9206373], [9156664], [9118505], [9078261], [9181462], [9191924], [9307053], [9130355], [9225765], [9205041], [8999636], [9058136], [9113796], [9242374], [9320494], [8942619], [9206988], [9200072], [9075310], [9118670], [9299935], [9167116], [9108926], [9148830], [9114455], [9031306], [8962878], [9120828], [8968820], [9115371], [9267632], [9178816], [9073905], [9019189], [9081010], [9094143], [9214387], [9061664], [9120113], [9039911], [9212078], [9166132], [9073958], [9104374], [9303289], [9128809], [9126927], [9309458], [9125469], [9242752], [8945794], [9090412], [9077821], [9203165], [9309592], [8879809], [9089401], [9205713], [9109433], [9160824], [9091753], [9121086], [9064241], [9132338], [9224101], [9135835], [9181793], [9136834], [9176447], [9115426], [8997900], [9200081], [8968817], [9246280], [8974589], [9135964], [9146163], [9053800], [9345202], [9070387], [9050080], [9001907], [9047219], [9143739], [9052009], [9005233], [9093250], [9183413], [9098165], [9311718], [9058874], [9254578], [9123171], [9168744], [9071856], [9250498], [9140514], [9283897], [9176075], [9020933], [9073753], [9114132], [9172929], [9030651], [9268768], [9182710], [9099691], [9037957], [9031478], [9208328], [9119467], [9068554], [9185598], [9176769], [9038976], [9214383], [8900117], [8921420], [8983768], [9109846], [9122336], [9148592], [8972327], [9178859], [9252807], [9216714], [9092706], [9157798], [8980388], [9121318], [8968862], [9136790], [9067140], [9184874], [9309752], [9204657], [9273107], [8940125], [9039766], [8983386], [9161274], [9085837], [9184291], [9088004], [9098840], [9038378], [9202827], [9165427], [9082200], [9089528], [9200361], [9055606], [9181860], [9066741], [8946426], [9227844], [9149948], [9131079], [9192266], [9321472], [9065104], [9063816], [8955964], [9136536], [9071124], [9154328], [9052791], [9013482], [9047579], [9178043], [9119409], [9035285], [9202165], [9126437], [9172207], [9202196], [9111333], [9139458], [9266933], [9223791], [9064996], [9074663], [9096620], [9184466], [9162168], [9144891], [9117566], [9215598], [9082057], [9031607], [9105003], [9208093], [9105380], [9007502], [9079052], [9118873], [9121169], [9116503], [9204668], [9120878], [9105716], [9265451], [9025782], [9110514], [9054990], [8984928], [9199642], [9256980], [9220267], [9002721], [9246020], [8999509], [9125101], [9203113], [9186804], [9101025], [9130927], [9131205], [9330837], [9243326], [9173275], [8974823], [9200337], [9222295], [9163175], [8994278], [9161056], [9127221], [8988630], [9074960], [9120441], [9137687], [9261746], [9116382], [9406845], [9103238], [9180141], [9231514], [9005394], [9101814], [8981314], [9141541], [9093816], [9119838], [9019953], [9048454], [9129179], [9171321], [9099539], [8892729], [9032193], [9142721], [9226740], [9194401], [9169348], [8992212], [9241855], [9213933], [9130718], [8928514], [9164637], [8993943], [9076637], [9335018], [9239634], [9205887], [9046730], [9040525], [9166079], [9081052], [9025662], [9274220], [8987841], [9261333], [9355246], [9173594], [9142181], [9219866], [9033326], [9102436], [9071848], [9138093], [9002572], [9180476], [9139729], [9133264], [9115555], [9170258], [9225605], [8975148], [8955383], [8991655], [9120495], [8955731], [8925395], [9143822], [9145272], [9125219], [9218005], [9247239], [9321613], [9126744], [9151100], [9013976], [8984277], [9387275], [9141401], [9235501], [9327030], [9031397], [9205439], [9078113], [9181098], [9091987], [9242712], [9235240], [9118449], [9195544], [9172702], [9030127], [9214678], [9052566], [9041455], [9082361], [9182892], [9123668], [9040330], [8930280], [9184469], [9137170], [9168194]], [[13781659], [13788294], [13761949], [13541317], [13694398], [13758176], [13682562], [13774291], [13798046], [13856689], [13798404], [13622272], [13792719], [13713963], [13752925], [13847517], [13847813], [13687432], [13824906], [13753774], [13827086], [13679277], [13664260], [13902732], [13670628], [13887654], [13595985], [13867984], [13793097], [13474630], [13656851], [13663819], [13788737], [13802254], [13690772], [13596770], [13528534], [13469393], [13722807], [13837158], [13690905], [13702187], [13673079], [13661599], [13761495], [13920711], [13734695], [13752480], [13833630], [13809455], [13718273], [13735079], [13966386], [13581745], [13656300], [13803065], [13624742], [13819148], [13809411], [13520409], [13697302], [13791992], [13833168], [13633648], [13882919], [13809531], [13671454], [13697370], [13708673], [13642650], [13935339], [13791512], [13598711], [13750729], [13783769], [14076919], [13773066], [13744639], [13697585], [13783119], [13800683], [13695069], [13643620], [13820759], [13619325], [13715947], [13837786], [13660677], [13700734], [13867377], [13910312], [13843000], [13757819], [13613109], [13456613], [13681738], [13867489], [13606667], [13823775], [13878169], [13721576], [13675390], [13830732], [13691003], [13686583], [13915167], [13603367], [13779561], [13786409], [13627061], [13708489], [13957362], [13631455], [13785131], [13696504], [13696318], [13829661], [13746083], [13846351], [13632585], [13699296], [13620648], [13803417], [13832427], [13731599], [13710883], [13708310], [13865436], [13760810], [13553938], [13824795], [13720230], [13588070], [13673768], [13712247], [13536774], [13735630], [13799795], [13684054], [13467867], [13755666], [13747971], [13664426], [13855421], [13684521], [13844107], [13837433], [13769688], [13669255], [13583175], [13651615], [13822128], [13558374], [13720454], [13628579], [13594587], [13708753], [13842279], [13840044], [13623331], [13749069], [13716742], [13573451], [13768341], [13670323], [13749471], [13688926], [13810109], [13787303], [13684333], [13956613], [13870641], [13728506], [13856856], [13823465], [13789933], [13608854], [13799723], [13580746], [13759259], [13854799], [13634662], [13618644], [13570701], [13673943], [13884998], [13747187], [13710103], [13589871], [13765131], [13692649], [13691223], [13777384], [13737700], [13670345], [13677588], [13762942], [13810592], [13629476], [13810707], [13670679], [13844375], [13694028], [13670510], [13563573], [14037621], [13745908], [13756078], [13806801], [13827989], [13694954], [13845522], [13722510], [13735273], [13669610], [13654015], [13885866], [13545252], [13895656], [13673744], [13704632], [13780203], [13849995], [13752696], [13641141], [13614066], [13597685], [13630099], [13730655], [13659560], [13660225], [13621821], [13572739], [13806662], [13708015], [13542793], [13472401], [13783361], [13906971], [13619492], [13858010], [13760577], [13747350], [13616052], [13713690], [13650792], [13849842], [13635450], [13598986], [13790882], [13868785], [13753048], [13701497], [13718651], [13697735], [13794735], [13748246], [13571916], [13758578], [13708268], [13871076], [13710127], [14001644], [13707583], [13753030], [13701116], [13718575], [13715599], [13641706], [13717546], [14033622], [13817253], [13623973], [13798246], [13907476], [13651081], [13831403], [13835219], [13812562], [13815678], [13846830], [13744120], [13729154], [13746587], [13616254], [13947467], [13823642], [13683361], [13663660], [13626842], [13722060], [13626816], [13528688], [13711408], [13763386], [13737581], [13708218], [13584650], [13557935], [13757379], [13732404], [13620299], [13648098], [13649638], [13829003], [13651520], [13752965], [13689745], [13747577], [13877387], [13799736], [13547716], [13763992], [13676414], [13556974], [13611568], [13590383], [13885555], [13736892], [13661871], [13715428], [13736725], [13698554], [13726682], [13684432], [13951297], [13608538], [13569899], [13629793], [13654200], [13810714], [13592574], [13724057], [13675837], [13779091], [13595409], [13640766], [13875887], [13820524], [13734971], [13671970], [13602934], [13941935], [13769147], [13786392], [13749200], [13719628], [13634390], [13683691], [13695256], [13829006], [13869008], [13741315], [13635773], [13812577], [13794999], [13677643], [13821525], [13576693], [13563991], [13664588], [13759144], [13678573], [13798096], [13942645], [13744802], [13606295], [13776907], [13442617], [13604635], [13726269], [13600002], [13712240], [13746676], [13838343], [13661858], [13724581], [13795147], [13714219], [13722294], [13798072], [13594730], [13657767], [13798104], [13476794], [13894645], [13688473], [13622577], [13632529], [13678624], [13748940], [13779184], [13703233], [13623744], [13773793], [13822676], [13899986], [13629434], [13693469], [13754470], [13742161], [13694049], [13691187], [13811593], [13849678], [13840777], [13866316], [13757783], [13615944], [13773674], [13750363], [13856487], [13666877], [13641069], [13819941], [13736880], [13677534], [13716521], [13840010], [13441333], [13778727], [13605557], [13697264], [13640365], [13818354], [13818816], [13694110], [13716932], [13476114], [13739356], [13724429], [13632734], [13581957], [13970976], [13696065], [13683587], [13814009], [13584210], [13827741], [13703912], [13787667], [13768579], [13841300], [13717035], [13887219], [13646937], [13580983], [13519859], [13733416], [13528012], [13770353], [13690787], [13666230], [13576808], [13718200], [13656181], [13701992], [13806124], [13844007], [13737256], [13679188], [13805069], [13731679], [13819953], [13754256], [13807343], [13922523], [13651871], [13555381], [13749053], [13640579], [13724354], [13911944], [13876399], [13499345], [13726892], [13604020], [13901171], [13698325], [13860307], [13780180], [13655058], [13699312], [13602043], [13737568], [13755978], [13536610], [13676590], [13453480], [13754559], [13642418], [13739771], [13672175], [13790628], [13579295], [13808895], [13774902], [13621116], [13758936], [13683832], [13683171], [13549369], [13711643], [13844419], [13734877], [13880603], [13711473], [13620791], [13762810], [13818893], [13520474], [13579712], [13703785], [13603010], [13669760], [13822623], [13642334], [13876912], [13879115], [13628781], [13646025], [13804905], [13845631], [13942512], [13797615], [13806351], [13589630], [13825757], [13846745], [13844094], [13689335], [13806139], [13938378], [13571097], [13775556], [13635269], [13638441], [13570552], [13787746], [13681868], [13755926], [13642764], [13808862], [13565317], [13673760], [13651722], [13783793], [13583092], [13982837], [13476287], [13675319], [13704973], [13667433], [13718469], [13852873], [13800829], [13554005], [13637653], [13736843], [13716677], [13610533], [13743939], [13606691], [13641627], [13945981], [13600514], [13532140], [13863767], [13629285], [13805713], [13601413], [13736984], [13648492], [13729386], [13812090], [13503407], [13732539], [13870373], [13676479], [13822986], [13733691], [13771751], [13582238], [13754249], [13856134], [13680316], [13943252], [13664799], [13870549], [13684860], [13704370], [13762242], [13712990], [13635851], [13764602], [13771928], [13831902], [13798424], [13899824], [13973967]], [[18121258], [18137245], [18090332], [18347554], [18312979], [17881840], [18010327], [17986829], [18095526], [18106559], [18114019], [17968110], [18161612], [18174681], [18189530], [18033685], [18128279], [17953905], [17971533], [18278907], [18244846], [18265870], [18023930], [18017252], [18126761], [18094040], [18054203], [18215737], [17947800], [18229464], [18042118], [18348799], [18043246], [18125958], [17975614], [18036691], [18020467], [17980950], [18118925], [17703431], [18075695], [18053451], [18196685], [18004126], [18053517], [18281722], [18317673], [18142229], [18042829], [18116646], [17994941], [17929307], [18242170], [18112169], [18065040], [17934638], [18178084], [17971189], [18108102], [18091557], [17934270], [18198468], [18054195], [18099319], [18228039], [18166967], [18221969], [18419032], [17939620], [18119005], [18157972], [18092524], [18160196], [17938642], [18141087], [18011014], [17975857], [18211706], [18194817], [18043067], [18290882], [18204909], [18183197], [17980324], [17906497], [18124677], [18077644], [18202084], [18082548], [18105765], [18094305], [18140443], [17801224], [18199116], [18072183], [18064709], [18119294], [18214756], [18164598], [18175731], [18192862], [18000554], [18137989], [18020826], [18083218], [17814832], [17999398], [18064864], [18096830], [18293683], [17990445], [18072421], [18125579], [17972886], [17988520], [17890622], [18182186], [18323515], [18293151], [18066809], [17927238], [18149542], [18176463], [17782669], [18138673], [18134929], [17932244], [18111626], [18257451], [18270853], [18083889], [18215920], [17817444], [17980268], [18138147], [18104682], [18053469], [18138676], [18011986], [18140557], [18116586], [18071162], [18182467], [18184041], [18177898], [17992678], [18059955], [18031313], [18067728], [18059095], [18156659], [18233817], [18106640], [18235190], [17956768], [18192663], [18081616], [18102321], [18291446], [18038256], [17852788], [18153685], [18219179], [17991393], [18080754], [18273425], [18215018], [17855161], [18065147], [18284077], [17855959], [17984423], [18088952], [18308597], [17902808], [18209251], [17996196], [18314987], [18144193], [17990565], [17972711], [18241350], [18170995], [18005520], [18094057], [18147165], [18110958], [18017694], [17832359], [18012813], [18050193], [18109486], [18273286], [18163282], [18272207], [17852608], [17925684], [18272542], [18201649], [18349735], [18104837], [18064102], [17934610], [18040514], [17971396], [17891389], [18089697], [18300005], [18161355], [18208093], [17997091], [18023144], [18103455], [18177153], [18241237], [18410539], [18008233], [17958217], [18041457], [18127388], [18251640], [18227018], [18090627], [18013803], [18143762], [17945494], [18049112], [17926020], [17942413], [18121443], [18084729], [18113462], [18174288], [18185517], [17923683], [18040067], [18032561], [17947960], [17900723], [18134840], [18187108], [18158577], [18162351], [18151718], [18023193], [18278256], [17966796], [17910067], [18081465], [18082455], [18051818], [18280467], [17982223], [17951204], [18159019], [18049489], [18011452], [18008004], [18072560], [18032334], [18192885], [17989136], [18051873], [17935039], [18160797], [18229691], [18294249], [18080679], [18058986], [18215102], [18086499], [18006167], [18041793], [18133236], [17998052], [18131575], [18076966], [18077292], [18044564], [18046078], [18210635], [18199850], [18146728], [17921954], [18042429], [18174405], [18038850], [18244902], [18047101], [18039171], [18137065], [18092211], [18177296], [17898718], [18132446], [18238593], [18042622], [18109859], [18251697], [18027456], [17797571], [17993575], [18158260], [17997225], [18153204], [18035774], [18166000], [18163214], [18232544], [18137016], [18284252], [17837808], [18200482], [17785229], [18110839], [18057844], [18134357], [18112838], [17820971], [18120105], [18095723], [18366700], [18203789], [18101106], [18192437], [17854499], [18293994], [18148597], [18026908], [17983969], [18040270], [18163541], [18040857], [18154363], [18131185], [18010171], [18149451], [17971343], [17797723], [17752617], [18194923], [18122841], [18141816], [17910698], [18078480], [17933418], [18029386], [17939043], [17962119], [17978754], [18133034], [18114425], [17996540], [18035201], [18088312], [18105277], [17844355], [18076083], [17958872], [18250957], [18092751], [18205572], [18063663], [18121428], [18279999], [18175575], [18183462], [18083989], [18258868], [17970112], [17954414], [18153098], [18109566], [18091056], [18224685], [18019771], [17972599], [18000379], [18074175], [18234081], [18151939], [18218080], [18098516], [18293193], [18101725], [18112015], [18034006], [18142827], [18144375], [18006941], [18166669], [17938333], [18132305], [18189407], [17976708], [18354407], [17930583], [17891671], [17821297], [18275881], [18302142], [17930581], [18257959], [17970923], [18050966], [18030257], [18222474], [18031587], [18074146], [18258755], [18221933], [18204502], [18074669], [18229649], [18078350], [17993753], [18216262], [18037803], [18146478], [18115295], [18012070], [18061079], [18229874], [18192315], [18086085], [17837390], [17994842], [18034197], [17971435], [17846946], [18337354], [17980354], [18198852], [18133096], [18002823], [18085056], [18091983], [18072179], [18036438], [18086113], [18037262], [17960203], [18029628], [18177537], [18027104], [18106441], [17847621], [18325699], [17950699], [18145348], [18087849], [17920641], [18182912], [18220475], [18004172], [18159626], [18121016], [18121665], [18067198], [17949436], [17891555], [18105222], [18103286], [18083897], [17996917], [18318012], [18131480], [18106197], [18022155], [18059222], [18003623], [18272514], [17955803], [18100746], [18188035], [18090712], [18158638], [18176678], [18117452], [18122774], [18046270], [18031923], [18123913], [18085012], [18109860], [17998292], [18097829], [18028034], [18167930], [18112218], [18118693], [17892405], [18010853], [18167464], [18318347], [18229976], [18145355], [18109764], [17943338], [18095058], [17877472], [17860033], [18089338], [18216690], [17961488], [18192743], [18198272], [18098578], [17926530], [18304724], [18250109], [18231690], [18214580], [18270234], [18022442], [18047715], [17862827], [17930474], [18204123], [18099660], [17976364], [18082469], [18086667], [17836724], [18094138], [17956109], [18104053], [18122016], [17999939], [18087057], [17966309], [18079136], [17961355], [18335121], [18062064], [18223005], [18007044], [18019622], [17811004], [17953753], [18113754], [18218675], [18076064], [18520117], [18279879], [18013550], [18066581], [18147064], [18030308], [18048902], [18110895], [18074715], [18149858], [18181651], [18314702], [18118412], [18284943], [18075486], [18077873], [18322620], [18131068], [18222798], [18119584], [18167267], [17994372], [18098071], [18103182], [18109809], [17856461], [18031995], [18274041], [18079607], [17912293], [18158011], [18123817], [18083657], [18114907], [18019642], [18357861], [18091922], [18120427], [18207747], [18126292], [18048552], [18026026], [17986454], [18004771], [18080184], [18109543], [18315410], [17962190], [18067754], [18448238], [18128960], [17936851], [18108033], [18048641], [18147537], [18264278], [17988671], [18155719], [18131209], [18142644], [17969394], [18069917], [18030146], [18186869], [18117167], [18132209], [18089275], [17999993], [18073716], [18111998], [18099344], [18038052], [18134157], [17973002], [18178945], [18104302], [18419495], [18046534], [18024866], [18122288], [18138819], [17912393], [18095783], [18064675], [18244573], [18005051], [18068841], [18106200], [17887388], [18139622], [17959501], [18185685], [17988515], [17863081], [18145938], [18154136], [18030286], [17994867], [18222110], [18039618], [18209005], [17963215], [17922577], [18027601], [18210470], [17903049], [18042461], [18044898], [18094110], [18163370], [18181576], [18011826], [18272582], [18146135], [18087387], [18202400], [18023954], [18091422], [18093625], [17828435], [18099756], [18053220], [18089145], [18093539], [18052416], [18141555], [18062317], [17812230], [18139200], [18002967], [17871931], [17891770], [17910907], [18176399], [18190310], [18093394], [18103156], [17998114], [17973702], [18049681], [18205371], [18034505], [18052787], [18163484], [18015453], [18004622], [18088145], [17923326], [18159020], [18297645], [18035003], [18041180], [18420760], [18063673], [18196031], [18070880], [18113537], [18066542], [18017928], [17743219], [18013417], [17967791], [17963452], [18007141], [18194424], [18171188], [17923600], [18108785], [18128020], [17933481], [18086057], [18253146], [17880449], [18318284], [18317578], [18212657], [18358500], [18228644], [18194992], [18150118], [18078507], [18156332], [17938138], [17885728], [18189371], [18308055], [18044399], [17885388], [18241826], [18174211], [18109479], [18162396], [18157146], [18029115], [18154453], [18003737], [18202194], [17912310], [17835578], [17955259], [18228868], [18381972], [18183753], [18349216], [17997977], [18271092], [18004554], [17972497], [18214612], [17902029], [18137662], [18175882], [18224371], [18330091], [18159188], [17950095], [18202395], [18218295], [18041635], [18178732], [18110662], [18273697], [18046477], [18226152], [17750071], [17884599], [17824718], [18088733], [18171672], [18132548], [18082566], [18053036], [18006228], [17975652], [17975459], [18227675], [17882296], [17959928], [18255343], [17849092], [17959522], [18169091], [18172976], [18045108], [17975365], [17943589], [18074010], [17870125], [18176898], [18057046], [18069799], [17928948], [17987387], [18030830], [18287601], [18161448], [18036383]]]\n"
          ]
        }
      ]
    },
    {
      "cell_type": "code",
      "metadata": {
        "colab": {
          "base_uri": "https://localhost:8080/",
          "height": 513
        },
        "id": "YlEqyJOLY41k",
        "outputId": "08ef6469-9878-4187-a47b-c3b9daa13983"
      },
      "source": [
        "plt.figure(figsize=(8, 8))\n",
        "plt.plot(list_input, list_time_mul, 'r-o', label='Multiply')\n",
        "plt.plot(list_input, list_time_mul_inter, 'y-s', label='Interchange')\n",
        "plt.plot(list_input, list_time_mul_block, 'b-d', label='Blocking')\n",
        "plt.plot(list_input, list_time_mul_trans, 'm-p', label='Transpose')\n",
        "#plt.plot(sizes, tos, 'c-o', label='Os')\n",
        "plt.title('Big O')\n",
        "plt.xlabel('Input size')\n",
        "plt.ylabel('Time')\n",
        "plt.legend()\n",
        "plt.show()"
      ],
      "execution_count": 30,
      "outputs": [
        {
          "output_type": "display_data",
          "data": {
            "image/png": "[encoded data removed]",
            "text/plain": [
              "<Figure size 576x576 with 1 Axes>"
            ]
          },
          "metadata": {
            "needs_background": "light"
          }
        }
      ]
    }
  ]
}