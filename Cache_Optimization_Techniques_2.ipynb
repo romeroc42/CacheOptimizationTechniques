{
  "nbformat": 4,
  "nbformat_minor": 0,
  "metadata": {
    "colab": {
      "name": "Cache-Optimization-Techniques-2",
      "provenance": [],
      "collapsed_sections": []
    },
    "kernelspec": {
      "display_name": "Python 3",
      "name": "python3"
    },
    "language_info": {
      "name": "python"
    }
  },
  "cells": [
    {
      "cell_type": "code",
      "metadata": {
        "id": "QMI4SMn5Mcx8"
      },
      "source": [
        "# Agregar Librerías\n",
        "import time #Medir tiempo\n",
        "import random #Crear valores aleatorios                         \n",
        "import matplotlib.pyplot as plt #Graficar\n",
        "import reprlib  #Mostrar caracteres limitados"
      ],
      "execution_count": 1,
      "outputs": []
    },
    {
      "cell_type": "code",
      "metadata": {
        "id": "HQVgENwG44Af"
      },
      "source": [
        "# Función Crear Matriz de m x n https://www.dreamincode.net/forums/topic/413327-creating-nxm-matrix-without-numpy/\n",
        "def makeCostMatrix(m,n):\n",
        "    return [[random.randint(100, 200) for row in range(n)] for column in range(m)]"
      ],
      "execution_count": 2,
      "outputs": []
    },
    {
      "cell_type": "code",
      "metadata": {
        "colab": {
          "base_uri": "https://localhost:8080/"
        },
        "id": "Ue1qcZU5cMRC",
        "outputId": "b63c3ed3-22d8-4fd7-898f-209efbc758b0"
      },
      "source": [
        "# Crear Lista de Matrices y Vectores\n",
        "list_mtx = [0,0,0,0]\n",
        "list_vct = [0,0,0,0]\n",
        "\n",
        "# Crear Matrices y Vectores con contenido aleatorio\n",
        "for w in range(4):\n",
        "  m = ((w+1)*200) # Dimensiones para filas \n",
        "  n = ((w+1)*200) # Dimensiones para columnas\n",
        "  list_mtx[w] = makeCostMatrix(m,n) # Crear Matriz con contenido aleatorio\n",
        "  list_vct[w] = makeCostMatrix(n,1) # Crear Vector con contenido aleatorio\n",
        "  print('Matriz %s' %w) # Nombre de Matriz\n",
        "  print(reprlib.repr(list_mtx[w])) # Mostrar\n",
        "  row_mtx = len(list_mtx[w]) # Número de filas\n",
        "  col_mtx = len(list_mtx[w][0]) # Número de columnas\n",
        "  print('%s x %s' % (row_mtx,col_mtx)) # Mostrar dimensiones\n",
        "  print('Vector %s' %w)  # Nombre de Vector\n",
        "  print(reprlib.repr(list_vct[w])) # Mostrar\n",
        "  row_vct = len(list_vct[w]) # Número de filas\n",
        "  col_vct = len(list_vct[w][0]) # Número de columnas\n",
        "  print('%s x %s' % (row_vct,col_vct)) # Mostrar dimensiones\n",
        "  print(' ')\n",
        "print('Lista de Matrices') # Mostrar listas de Matrices y Vectores\n",
        "print(reprlib.repr(list_mtx))\n",
        "print(reprlib.repr(list_vct))"
      ],
      "execution_count": 3,
      "outputs": [
        {
          "output_type": "stream",
          "name": "stdout",
          "text": [
            "Matriz 0\n",
            "[[159, 146, 126, 200, 175, 179, ...], [199, 100, 112, 156, 159, 139, ...], [152, 154, 116, 124, 149, 114, ...], [198, 177, 139, 127, 126, 136, ...], [192, 149, 149, 169, 146, 123, ...], [156, 181, 174, 123, 123, 162, ...], ...]\n",
            "200 x 200\n",
            "Vector 0\n",
            "[[193], [118], [184], [113], [189], [187], ...]\n",
            "200 x 1\n",
            " \n",
            "Matriz 1\n",
            "[[200, 159, 149, 184, 137, 111, ...], [158, 200, 148, 193, 133, 197, ...], [157, 140, 146, 173, 193, 107, ...], [134, 137, 156, 187, 112, 132, ...], [136, 153, 123, 124, 165, 137, ...], [143, 111, 197, 174, 176, 159, ...], ...]\n",
            "400 x 400\n",
            "Vector 1\n",
            "[[119], [137], [166], [118], [186], [189], ...]\n",
            "400 x 1\n",
            " \n",
            "Matriz 2\n",
            "[[130, 125, 125, 147, 111, 110, ...], [159, 129, 125, 104, 156, 177, ...], [194, 165, 197, 137, 118, 142, ...], [125, 136, 196, 163, 184, 198, ...], [111, 175, 133, 179, 132, 182, ...], [118, 105, 122, 138, 163, 159, ...], ...]\n",
            "600 x 600\n",
            "Vector 2\n",
            "[[131], [160], [119], [151], [137], [101], ...]\n",
            "600 x 1\n",
            " \n",
            "Matriz 3\n",
            "[[133, 194, 118, 149, 176, 103, ...], [134, 171, 180, 176, 193, 187, ...], [115, 176, 188, 109, 135, 131, ...], [127, 125, 197, 163, 100, 114, ...], [182, 164, 147, 179, 152, 112, ...], [140, 104, 100, 175, 185, 105, ...], ...]\n",
            "800 x 800\n",
            "Vector 3\n",
            "[[142], [133], [113], [163], [155], [131], ...]\n",
            "800 x 1\n",
            " \n",
            "Lista de Matrices\n",
            "[[[159, 146, 126, 200, 175, 179, ...], [199, 100, 112, 156, 159, 139, ...], [152, 154, 116, 124, 149, 114, ...], [198, 177, 139, 127, 126, 136, ...], [192, 149, 149, 169, 146, 123, ...], [156, 181, 174, 123, 123, 162, ...], ...], [[200, 159, 149, 184, 137, 111, ...], [158, 200, 148, 193, 133, 197, ...], [157, 140, 146, 173, 193, 107, ...], [134, 137, 156, 187, 112, 132, ...], [136, 153, 123, 124, 165, 137, ...], [143, 111, 197, 174, 176, 159, ...], ...], [[130, 125, 125, 147, 111, 110, ...], [159, 129, 125, 104, 156, 177, ...], [194, 165, 197, 137, 118, 142, ...], [125, 136, 196, 163, 184, 198, ...], [111, 175, 133, 179, 132, 182, ...], [118, 105, 122, 138, 163, 159, ...], ...], [[133, 194, 118, 149, 176, 103, ...], [134, 171, 180, 176, 193, 187, ...], [115, 176, 188, 109, 135, 131, ...], [127, 125, 197, 163, 100, 114, ...], [182, 164, 147, 179, 152, 112, ...], [140, 104, 100, 175, 185, 105, ...], ...]]\n",
            "[[[193], [118], [184], [113], [189], [187], ...], [[119], [137], [166], [118], [186], [189], ...], [[131], [160], [119], [151], [137], [101], ...], [[142], [133], [113], [163], [155], [131], ...]]\n"
          ]
        }
      ]
    },
    {
      "cell_type": "code",
      "metadata": {
        "id": "4nzxLoLF4q3C"
      },
      "source": [
        "# Función matriz con elementos ceros con filas y columnas específicas\n",
        "def zeros_matrix(rows, cols):\n",
        "    \"\"\"\n",
        "    Creates a matrix filled with zeros.\n",
        "        :param rows: the number of rows the matrix should have\n",
        "        :param cols: the number of columns the matrix should have\n",
        " \n",
        "        :return: list of lists that form the matrix\n",
        "    https://integratedmlai.com/basic-linear-algebra-tools-in-pure-python-without-numpy-or-scipy/\n",
        "    \"\"\"\n",
        "    M = []\n",
        "    while len(M) < rows:\n",
        "        M.append([])\n",
        "        while len(M[-1]) < cols:\n",
        "            M[-1].append(0.0)\n",
        " \n",
        "    return M"
      ],
      "execution_count": 4,
      "outputs": []
    },
    {
      "cell_type": "code",
      "metadata": {
        "id": "PorPYkVvpoIL"
      },
      "source": [
        "# Función para multiplicar dos matrices \n",
        "# Row-Major\n",
        "def matrix_multiply(A, B):\n",
        "    \"\"\"\n",
        "    Returns the product of the matrix A * B\n",
        "        :param A: The first matrix - ORDER MATTERS!\n",
        "        :param B: The second matrix\n",
        " \n",
        "        :return: The product of the two matrices\n",
        "    https://integratedmlai.com/basic-linear-algebra-tools-in-pure-python-without-numpy-or-scipy/\n",
        "    \"\"\"\n",
        "    # Section 1: Ensure A & B dimensions are correct for multiplication\n",
        "    rowsA = len(A)\n",
        "    colsA = len(A[0])\n",
        "    rowsB = len(B)\n",
        "    colsB = len(B[0])\n",
        "    if colsA != rowsB:\n",
        "        raise ArithmeticError(\n",
        "            'Number of A columns must equal number of B rows.')\n",
        " \n",
        "    # Section 2: Store matrix multiplication in a new matrix\n",
        "    C = zeros_matrix(rowsA, colsB)\n",
        "    for i in range(rowsA):\n",
        "        for j in range(colsB):\n",
        "            total = 0\n",
        "            for ii in range(colsA):\n",
        "                total += A[i][ii] * B[ii][j]\n",
        "            C[i][j] = total\n",
        " \n",
        "    return C"
      ],
      "execution_count": 5,
      "outputs": []
    },
    {
      "cell_type": "code",
      "metadata": {
        "id": "1BaUys4YX51y"
      },
      "source": [
        "# Se harán mil iteraciones, es decir, mil multiplicaciones para cada caso\n",
        "# Luego hallar el promedio del tiempo (Tiempo Promedio = Tiempo Total / Iteraciones)\n",
        "iter = 10"
      ],
      "execution_count": 6,
      "outputs": []
    },
    {
      "cell_type": "code",
      "metadata": {
        "id": "x_HWsf-k7jcA"
      },
      "source": [
        "# Crear una lista para almacenar datos de tiempo\n",
        "list_time_mul = [0,0,0,0]\n",
        "# Crear una lista para almacenar resultados de multiplicación\n",
        "list_rslt = [0,0,0,0]"
      ],
      "execution_count": 7,
      "outputs": []
    },
    {
      "cell_type": "code",
      "metadata": {
        "colab": {
          "base_uri": "https://localhost:8080/"
        },
        "id": "MJfIeHNG17QZ",
        "outputId": "0b1a27e2-5d02-4328-ba8a-85606345968a"
      },
      "source": [
        "# Prueba de la multiplicación de matrices y vectores de las listas creadas\n",
        "for v in range(4):  \n",
        "  start_time = time.time()  # Registro de tiempo de inicio\n",
        "  for z in range(iter): # Número de operaciones\n",
        "    list_rslt[v] = matrix_multiply(list_mtx[v], list_vct[v])  # Multiplicación de matriz y vector\n",
        "  stop_time = time.time() - start_time  # Registro de tiempo de parada\n",
        "  avg_time = stop_time/iter # Tiempo promedio\n",
        "  list_time_mul[v] = avg_time # Guardar tiempo promedio en lista\n",
        "  print(\"average time: %s seconds\" % (avg_time))  # Mostrar tiempo promedio"
      ],
      "execution_count": 8,
      "outputs": [
        {
          "output_type": "stream",
          "name": "stdout",
          "text": [
            "average time: 0.008411645889282227 seconds\n",
            "average time: 0.03338212966918945 seconds\n",
            "average time: 0.07929000854492188 seconds\n",
            "average time: 0.13749899864196777 seconds\n"
          ]
        }
      ]
    },
    {
      "cell_type": "code",
      "metadata": {
        "colab": {
          "base_uri": "https://localhost:8080/"
        },
        "id": "3C-cBFauz2O7",
        "outputId": "bbd29f02-7bfb-474c-ec7c-b484d35caf46"
      },
      "source": [
        "# Mostrar resultado de la multiplicación\n",
        "# En todos los casos debe ser igual \n",
        "print(reprlib.repr(list_rslt))"
      ],
      "execution_count": 9,
      "outputs": [
        {
          "output_type": "stream",
          "name": "stdout",
          "text": [
            "[[[4502170], [4721226], [4743899], [4757511], [4684769], [4682160], ...], [[9161735], [9082030], [9112895], [9123978], [9195065], [9065544], ...], [[13589438], [13608353], [13456442], [13416586], [13355007], [13526290], ...], [[18073236], [17872632], [18000783], [17757942], [18241454], [17947803], ...]]\n"
          ]
        }
      ]
    },
    {
      "cell_type": "code",
      "metadata": {
        "colab": {
          "base_uri": "https://localhost:8080/"
        },
        "id": "8KxGEKXNg-GW",
        "outputId": "fba87eb1-052a-482e-c767-a74ec5d74078"
      },
      "source": [
        "# Mostrar lsita con tiempos de ejecución\n",
        "print(list_time_mul) "
      ],
      "execution_count": 10,
      "outputs": [
        {
          "output_type": "stream",
          "name": "stdout",
          "text": [
            "[0.008411645889282227, 0.03338212966918945, 0.07929000854492188, 0.13749899864196777]\n"
          ]
        }
      ]
    },
    {
      "cell_type": "markdown",
      "metadata": {
        "id": "9m0mBqWOBg-s"
      },
      "source": [
        "#Data Access Optimizations - Loop Interchange"
      ]
    },
    {
      "cell_type": "code",
      "metadata": {
        "id": "V9V0p_hF6IxD"
      },
      "source": [
        "# Función para multiplicar dos matrices con Loop Interchange\n",
        "# Column-Major\n",
        "def matrix_multiply_interchange(A, B):\n",
        "    \"\"\"\n",
        "    Returns the product of the matrix A * B\n",
        "        :param A: The first matrix - ORDER MATTERS!\n",
        "        :param B: The second matrix\n",
        " \n",
        "        :return: The product of the two matrices\n",
        "    https://integratedmlai.com/basic-linear-algebra-tools-in-pure-python-without-numpy-or-scipy/\n",
        "    \"\"\"\n",
        "    # Section 1: Ensure A & B dimensions are correct for multiplication\n",
        "    rowsA = len(A)\n",
        "    colsA = len(A[0])\n",
        "    rowsB = len(B)\n",
        "    colsB = len(B[0])\n",
        "    if colsA != rowsB:\n",
        "        raise ArithmeticError(\n",
        "            'Number of A columns must equal number of B rows.')\n",
        " \n",
        "    # Section 2: Store matrix multiplication in a new matrix\n",
        "    C = zeros_matrix(rowsA, colsB)\n",
        "    for j in range(colsB):\n",
        "        for i in range(rowsA):\n",
        "            total = 0\n",
        "            for ii in range(colsA):\n",
        "                total += A[i][ii] * B[ii][j]\n",
        "            C[i][j] = total\n",
        " \n",
        "    return C"
      ],
      "execution_count": 11,
      "outputs": []
    },
    {
      "cell_type": "code",
      "metadata": {
        "id": "KSOLqgBjhdaO"
      },
      "source": [
        "# Crear una lista para almacenar datos de tiempo\n",
        "list_time_mul_inter = [0,0,0,0]\n",
        "# Crear una lista para almacenar resultados de multiplicación\n",
        "list_rslt_inter = [0,0,0,0]"
      ],
      "execution_count": 12,
      "outputs": []
    },
    {
      "cell_type": "code",
      "metadata": {
        "colab": {
          "base_uri": "https://localhost:8080/"
        },
        "id": "y26zp0Ud6c_R",
        "outputId": "14155652-a517-4b9d-b9bc-8035082d9303"
      },
      "source": [
        "# Prueba de la multiplicación de matrices y vectores de las listas creadas\n",
        "for v in range(4):  \n",
        "  start_time = time.time()  # Registro de tiempo de inicio\n",
        "  for z in range(iter): # Número de operaciones\n",
        "    list_rslt_inter[v] = matrix_multiply_interchange(list_mtx[v], list_vct[v])  # Multiplicación de matriz y vector\n",
        "  stop_time = time.time() - start_time  # Registro de tiempo de parada\n",
        "  avg_time = stop_time/iter # Tiempo promedio\n",
        "  list_time_mul_inter[v] = avg_time # Guardar tiempo promedio en lista\n",
        "  print(\"average time: %s seconds\" % (avg_time))  # Mostrar tiempo promedio"
      ],
      "execution_count": 13,
      "outputs": [
        {
          "output_type": "stream",
          "name": "stdout",
          "text": [
            "average time: 0.008383870124816895 seconds\n",
            "average time: 0.033588624000549315 seconds\n",
            "average time: 0.07449276447296142 seconds\n",
            "average time: 0.13014445304870606 seconds\n"
          ]
        }
      ]
    },
    {
      "cell_type": "code",
      "metadata": {
        "colab": {
          "base_uri": "https://localhost:8080/"
        },
        "id": "5plO4vE06hdq",
        "outputId": "7c791182-844f-48fc-ca0d-c318e8b2ec04"
      },
      "source": [
        "# Mostrar resultado de la multiplicación\n",
        "# En todos los casos debe ser igual \n",
        "print(reprlib.repr(list_rslt_inter))"
      ],
      "execution_count": 14,
      "outputs": [
        {
          "output_type": "stream",
          "name": "stdout",
          "text": [
            "[[[4502170], [4721226], [4743899], [4757511], [4684769], [4682160], ...], [[9161735], [9082030], [9112895], [9123978], [9195065], [9065544], ...], [[13589438], [13608353], [13456442], [13416586], [13355007], [13526290], ...], [[18073236], [17872632], [18000783], [17757942], [18241454], [17947803], ...]]\n"
          ]
        }
      ]
    },
    {
      "cell_type": "code",
      "metadata": {
        "colab": {
          "base_uri": "https://localhost:8080/"
        },
        "id": "yfP9HWW2iSEE",
        "outputId": "93955387-e467-4582-e28e-db6921dd3e5f"
      },
      "source": [
        "# Mostrar lsita con tiempos de ejecución\n",
        "print(list_time_mul_inter) "
      ],
      "execution_count": 15,
      "outputs": [
        {
          "output_type": "stream",
          "name": "stdout",
          "text": [
            "[0.008383870124816895, 0.033588624000549315, 0.07449276447296142, 0.13014445304870606]\n"
          ]
        }
      ]
    },
    {
      "cell_type": "markdown",
      "metadata": {
        "id": "6w8vYcDQ2OjJ"
      },
      "source": [
        "#Data Access Optimizations - Loop Blocking"
      ]
    },
    {
      "cell_type": "code",
      "metadata": {
        "id": "dQ5tDThZE2T-"
      },
      "source": [
        "def matrix_multiply_blocking(A, B):\n",
        "    \"\"\"\n",
        "    Returns the product of the matrix A * B\n",
        "        :param A: The first matrix - ORDER MATTERS!\n",
        "        :param B: The second matrix\n",
        " \n",
        "        :return: The product of the two matrices\n",
        "    https://integratedmlai.com/basic-linear-algebra-tools-in-pure-python-without-numpy-or-scipy/\n",
        "    \"\"\"\n",
        "    # Section 1: Ensure A & B dimensions are correct for multiplication\n",
        "    rowsA = len(A)\n",
        "    colsA = len(A[0])\n",
        "    rowsB = len(B)\n",
        "    colsB = len(B[0])\n",
        "    if colsA != rowsB:\n",
        "        raise ArithmeticError(\n",
        "            'Number of A columns must equal number of B rows.')\n",
        " \n",
        "    # Section 2: Store matrix multiplication in a new matrix\n",
        "    C = zeros_matrix(rowsA, colsB)\n",
        "    new_rowsA = int(rowsA/2) \n",
        "    new_colsB = int(colsB/2) \n",
        "    \n",
        "    for i in range(new_rowsA):\n",
        "        for j in range(new_colsB):\n",
        "              total = 0\n",
        "              for ii in range(colsA):\n",
        "                  total += A[i][ii] * B[ii][j]\n",
        "              C[i][j] = total\n",
        "    for i in range(new_rowsA):\n",
        "        for j in range(new_colsB, colsB):\n",
        "              total = 0\n",
        "              for ii in range(colsA):\n",
        "                  total += A[i][ii] * B[ii][j]\n",
        "              C[i][j] = total\n",
        "    for i in range(new_rowsA, rowsA):\n",
        "        for j in range(new_colsB):\n",
        "              total = 0\n",
        "              for ii in range(colsA):\n",
        "                  total += A[i][ii] * B[ii][j]\n",
        "              C[i][j] = total\n",
        "    for i in range(new_rowsA, rowsA):\n",
        "        for j in range(new_colsB, colsB):\n",
        "              total = 0\n",
        "              for ii in range(colsA):\n",
        "                  total += A[i][ii] * B[ii][j]\n",
        "              C[i][j] = total\n",
        "    \n",
        "    return C"
      ],
      "execution_count": 16,
      "outputs": []
    },
    {
      "cell_type": "code",
      "metadata": {
        "id": "1X-8csGTizZE"
      },
      "source": [
        "# Crear una lista para almacenar datos de tiempo\n",
        "list_time_mul_block = [0,0,0,0]\n",
        "# Crear una lista para almacenar resultados de multiplicación\n",
        "list_rslt_block = [0,0,0,0]"
      ],
      "execution_count": 17,
      "outputs": []
    },
    {
      "cell_type": "code",
      "metadata": {
        "colab": {
          "base_uri": "https://localhost:8080/"
        },
        "id": "xT5Dgl9oGe1R",
        "outputId": "a15a6667-6e2d-40b1-8def-3b807f711df5"
      },
      "source": [
        "# Prueba de la multiplicación de matrices y vectores de las listas creadas\n",
        "for v in range(4):  \n",
        "  start_time = time.time()  # Registro de tiempo de inicio\n",
        "  for z in range(iter): # Número de operaciones\n",
        "    list_rslt_block[v] = matrix_multiply_blocking(list_mtx[v], list_vct[v])  # Multiplicación de matriz y vector\n",
        "  stop_time = time.time() - start_time  # Registro de tiempo de parada\n",
        "  avg_time = stop_time/iter # Tiempo promedio\n",
        "  list_time_mul_block[v] = avg_time # Guardar tiempo promedio en lista\n",
        "  print(\"average time: %s seconds\" % (avg_time))  # Mostrar tiempo promedio"
      ],
      "execution_count": 18,
      "outputs": [
        {
          "output_type": "stream",
          "name": "stdout",
          "text": [
            "average time: 0.008304905891418458 seconds\n",
            "average time: 0.03439421653747558 seconds\n",
            "average time: 0.0763784646987915 seconds\n",
            "average time: 0.1286177158355713 seconds\n"
          ]
        }
      ]
    },
    {
      "cell_type": "code",
      "metadata": {
        "colab": {
          "base_uri": "https://localhost:8080/"
        },
        "id": "xCM608X3Gg8s",
        "outputId": "37227974-13e9-4fff-9af5-35229254659e"
      },
      "source": [
        "# Mostrar resultado de la multiplicación\n",
        "# En todos los casos debe ser igual\n",
        "print(reprlib.repr(list_rslt_block))"
      ],
      "execution_count": 19,
      "outputs": [
        {
          "output_type": "stream",
          "name": "stdout",
          "text": [
            "[[[4502170], [4721226], [4743899], [4757511], [4684769], [4682160], ...], [[9161735], [9082030], [9112895], [9123978], [9195065], [9065544], ...], [[13589438], [13608353], [13456442], [13416586], [13355007], [13526290], ...], [[18073236], [17872632], [18000783], [17757942], [18241454], [17947803], ...]]\n"
          ]
        }
      ]
    },
    {
      "cell_type": "code",
      "metadata": {
        "colab": {
          "base_uri": "https://localhost:8080/"
        },
        "id": "u8__kfDCpScH",
        "outputId": "5f00f028-5d8f-43e4-f639-8c9ac400eacd"
      },
      "source": [
        "# Mostrar lsita con tiempos de ejecución\n",
        "print(list_time_mul_block) "
      ],
      "execution_count": 20,
      "outputs": [
        {
          "output_type": "stream",
          "name": "stdout",
          "text": [
            "[0.008304905891418458, 0.03439421653747558, 0.0763784646987915, 0.1286177158355713]\n"
          ]
        }
      ]
    },
    {
      "cell_type": "markdown",
      "metadata": {
        "id": "FSavDffuyOXe"
      },
      "source": [
        "#Data Layout Optimizations - Array Transpose"
      ]
    },
    {
      "cell_type": "code",
      "metadata": {
        "id": "xnHIdcA5yNSw"
      },
      "source": [
        "def transpose(M):\n",
        "    \"\"\"\n",
        "    Returns a transpose of a matrix.\n",
        "        :param M: The matrix to be transposed\n",
        " \n",
        "        :return: The transpose of the given matrix\n",
        "        https://integratedmlai.com/basic-linear-algebra-tools-in-pure-python-without-numpy-or-scipy/\n",
        "    \"\"\"\n",
        "    # Section 1: if a 1D array, convert to a 2D array = matrix\n",
        "    if not isinstance(M[0],list):\n",
        "        M = [M]\n",
        " \n",
        "    # Section 2: Get dimensions\n",
        "    rows = len(M)\n",
        "    cols = len(M[0])\n",
        " \n",
        "    # Section 3: MT is zeros matrix with transposed dimensions\n",
        "    MT = zeros_matrix(cols, rows)\n",
        " \n",
        "    # Section 4: Copy values from M to it's transpose MT\n",
        "    for i in range(rows):\n",
        "        for j in range(cols):\n",
        "            MT[j][i] = M[i][j]\n",
        " \n",
        "    return MT"
      ],
      "execution_count": 21,
      "outputs": []
    },
    {
      "cell_type": "code",
      "metadata": {
        "id": "Tmdvc28GytiO"
      },
      "source": [
        "def matrix_multiply_transpose(A, B):\n",
        "    \"\"\"\n",
        "    Returns the product of the matrix A * B\n",
        "        :param A: The first matrix - ORDER MATTERS!\n",
        "        :param B: The second matrix\n",
        " \n",
        "        :return: The product of the two matrices\n",
        "    https://integratedmlai.com/basic-linear-algebra-tools-in-pure-python-without-numpy-or-scipy/\n",
        "    \"\"\"\n",
        "    B = transpose(B)\n",
        "    A = transpose(A)\n",
        "        # Section 1: Ensure A & B dimensions are correct for multiplication\n",
        "    rowsB = len(B)\n",
        "    colsB = len(B[0])\n",
        "    rowsA = len(A)\n",
        "    colsA = len(A[0])\n",
        "    if colsB != rowsA:\n",
        "        raise ArithmeticError(\n",
        "            'Number of A columns must equal number of B rows.')\n",
        " \n",
        "    # Section 2: Store matrix multiplication in a new matrix\n",
        "    C = zeros_matrix(rowsB, colsA)\n",
        "    for i in range(rowsB):\n",
        "        for j in range(colsA):\n",
        "            total = 0\n",
        "            for ii in range(colsB):\n",
        "                total += B[i][ii] * A[ii][j]\n",
        "            C[i][j] = total\n",
        " \n",
        "    return transpose(C)"
      ],
      "execution_count": 22,
      "outputs": []
    },
    {
      "cell_type": "code",
      "metadata": {
        "id": "Rsv4afDUjjB7"
      },
      "source": [
        "# Crear una lista para almacenar datos de tiempo\n",
        "list_time_mul_trans = [0,0,0,0]\n",
        "# Crear una lista para almacenar resultados de multiplicación\n",
        "list_rslt_trans = [0,0,0,0]"
      ],
      "execution_count": 23,
      "outputs": []
    },
    {
      "cell_type": "code",
      "metadata": {
        "colab": {
          "base_uri": "https://localhost:8080/"
        },
        "id": "25TaBJ8bzG2a",
        "outputId": "fa249f27-3a58-4533-e28e-7d10586e7d9e"
      },
      "source": [
        "# Prueba de la multiplicación de matrices y vectores de las listas creadas\n",
        "for v in range(4):  \n",
        "  start_time = time.time()  # Registro de tiempo de inicio\n",
        "  for z in range(iter): # Número de operaciones\n",
        "    list_rslt_trans[v] = matrix_multiply_transpose(list_mtx[v], list_vct[v])  # Multiplicación de matriz y vector\n",
        "  stop_time = time.time() - start_time  # Registro de tiempo de parada\n",
        "  avg_time = stop_time/iter # Tiempo promedio\n",
        "  list_time_mul_trans[v] = avg_time # Guardar tiempo promedio en lista\n",
        "  print(\"average time: %s seconds\" % (avg_time))  # Mostrar tiempo promedio"
      ],
      "execution_count": 24,
      "outputs": [
        {
          "output_type": "stream",
          "name": "stdout",
          "text": [
            "average time: 0.02361481189727783 seconds\n",
            "average time: 0.11232481002807618 seconds\n",
            "average time: 0.21940085887908936 seconds\n",
            "average time: 0.40910232067108154 seconds\n"
          ]
        }
      ]
    },
    {
      "cell_type": "code",
      "metadata": {
        "colab": {
          "base_uri": "https://localhost:8080/"
        },
        "id": "F5Hjf9g7zM32",
        "outputId": "ad1f1847-28c4-4bee-e450-0222a25ae471"
      },
      "source": [
        "# Mostrar resultado de la multiplicación\n",
        "# En todos los casos debe ser igual \n",
        "print(reprlib.repr(list_rslt_trans))"
      ],
      "execution_count": 25,
      "outputs": [
        {
          "output_type": "stream",
          "name": "stdout",
          "text": [
            "[[[4502170], [4721226], [4743899], [4757511], [4684769], [4682160], ...], [[9161735], [9082030], [9112895], [9123978], [9195065], [9065544], ...], [[13589438], [13608353], [13456442], [13416586], [13355007], [13526290], ...], [[18073236], [17872632], [18000783], [17757942], [18241454], [17947803], ...]]\n"
          ]
        }
      ]
    },
    {
      "cell_type": "code",
      "metadata": {
        "colab": {
          "base_uri": "https://localhost:8080/"
        },
        "id": "G29e5GaTpzBe",
        "outputId": "3793df05-f93f-42a3-ba99-399b5d851b32"
      },
      "source": [
        "# Mostrar lsita con tiempos de ejecución\n",
        "print(list_time_mul_trans) "
      ],
      "execution_count": 26,
      "outputs": [
        {
          "output_type": "stream",
          "name": "stdout",
          "text": [
            "[0.02361481189727783, 0.11232481002807618, 0.21940085887908936, 0.40910232067108154]\n"
          ]
        }
      ]
    },
    {
      "cell_type": "code",
      "metadata": {
        "id": "FlNJDNhDkDhE"
      },
      "source": [
        "# Lista de dimensiones de entradas\n",
        "list_input = ['200^3','400^3','600^3','800^3']"
      ],
      "execution_count": 36,
      "outputs": []
    },
    {
      "cell_type": "code",
      "metadata": {
        "colab": {
          "base_uri": "https://localhost:8080/"
        },
        "id": "mlAWXc-fo7M1",
        "outputId": "72e3f567-2311-47af-de19-792b9cb9bfaa"
      },
      "source": [
        "print('Input        ' + '%s' %list_input)\n",
        "print('Multiply:    ' + '%s' %list_time_mul)\n",
        "print('Interchange: ' + '%s' %list_time_mul_inter)\n",
        "print('Blocking:    ' + '%s' %list_time_mul_block)\n",
        "print('Transpose:   ' + '%s' %list_time_mul_trans)"
      ],
      "execution_count": 37,
      "outputs": [
        {
          "output_type": "stream",
          "name": "stdout",
          "text": [
            "Input        ['200^3', '400^3', '600^3', '800^3']\n",
            "Multiply:    [0.008411645889282227, 0.03338212966918945, 0.07929000854492188, 0.13749899864196777]\n",
            "Interchange: [0.008383870124816895, 0.033588624000549315, 0.07449276447296142, 0.13014445304870606]\n",
            "Blocking:    [0.008304905891418458, 0.03439421653747558, 0.0763784646987915, 0.1286177158355713]\n",
            "Transpose:   [0.02361481189727783, 0.11232481002807618, 0.21940085887908936, 0.40910232067108154]\n"
          ]
        }
      ]
    },
    {
      "cell_type": "code",
      "metadata": {
        "colab": {
          "base_uri": "https://localhost:8080/"
        },
        "id": "jWEX061rqNz1",
        "outputId": "3e1ddad0-2c0a-4f85-c6d9-a01cca285de4"
      },
      "source": [
        "print('Comprobar igualdad de multiplicaciones')\n",
        "print('Multiply:    ' + '%s' %list_rslt)\n",
        "print('Interchange: ' + '%s' %list_rslt_inter)\n",
        "print('Blocking:    ' + '%s' %list_rslt_block)\n",
        "print('Transpose:   ' + '%s' %list_rslt_trans)"
      ],
      "execution_count": 38,
      "outputs": [
        {
          "output_type": "stream",
          "name": "stdout",
          "text": [
            "Comprobar igualdad de multiplicaciones\n",
            "Multiply:    [[[4502170], [4721226], [4743899], [4757511], [4684769], [4682160], [4731198], [4712801], [4709409], [4679621], [4770087], [4817766], [4635072], [4609159], [4798105], [4642366], [4821067], [4622946], [4615358], [4581156], [4770383], [4685586], [4748618], [4698724], [4615706], [4698577], [4703460], [4597336], [4674534], [4622062], [4703411], [4701405], [4660033], [4636735], [4619211], [4653257], [4732088], [4761351], [4582287], [4568979], [4669703], [4706058], [4697657], [4699352], [4779946], [4641554], [4641773], [4703812], [4729749], [4564230], [4632668], [4619624], [4678315], [4728363], [4796999], [4687786], [4798842], [4618461], [4699043], [4595250], [4563574], [4690838], [4684907], [4721133], [4612288], [4694758], [4713908], [4604966], [4617919], [4633433], [4657388], [4601705], [4693190], [4753637], [4747518], [4640547], [4598459], [4602287], [4637105], [4683978], [4546519], [4660716], [4716545], [4638786], [4661214], [4668789], [4678586], [4715312], [4599485], [4682608], [4674030], [4576266], [4776410], [4833948], [4719890], [4657056], [4640643], [4727357], [4664107], [4529856], [4817794], [4645463], [4622721], [4720741], [4738826], [4616868], [4612965], [4670941], [4771178], [4737600], [4630361], [4662541], [4605006], [4802773], [4721530], [4585534], [4721457], [4738630], [4582374], [4496020], [4671646], [4672921], [4500105], [4686640], [4727851], [4682875], [4728672], [4583655], [4533122], [4687840], [4701422], [4711227], [4704780], [4657184], [4544247], [4644538], [4459388], [4634911], [4655036], [4656623], [4608446], [4693396], [4716978], [4734909], [4533894], [4604392], [4642137], [4678016], [4671819], [4711005], [4605995], [4600024], [4708476], [4647043], [4761513], [4614619], [4574922], [4753255], [4769356], [4674760], [4787310], [4630609], [4741400], [4602835], [4680399], [4571194], [4702038], [4556762], [4710232], [4696415], [4609880], [4637000], [4735161], [4693560], [4727082], [4551059], [4688743], [4769996], [4655894], [4701713], [4706643], [4716195], [4662111], [4689232], [4686827], [4785317], [4576730], [4781640], [4732194], [4582671], [4677360], [4695568], [4684799], [4638250], [4627197], [4744704], [4601908], [4706769], [4681872], [4686549]], [[9161735], [9082030], [9112895], [9123978], [9195065], [9065544], [9192274], [9186379], [9115891], [9177115], [9203083], [9046582], [9142647], [9196457], [9091203], [9085312], [9149747], [9107663], [9196944], [9118045], [9080566], [9214186], [9308375], [9057402], [9055906], [9172349], [9073174], [9139923], [9077226], [9227143], [9162113], [9155285], [9076811], [9290435], [9124199], [9171411], [9322724], [9184923], [9215910], [9109013], [9145589], [9254528], [9152740], [9202829], [8933540], [9077560], [9177419], [9061091], [8968352], [9176365], [9134425], [9216055], [9018912], [9156161], [9142523], [9184698], [8982939], [9123500], [9190255], [9014282], [9215481], [9035345], [8978945], [9140395], [8999796], [9209325], [8997889], [9112936], [9153543], [9224526], [9082440], [9113440], [9095753], [9183321], [9134430], [9001251], [9259822], [9152321], [9082985], [9056315], [9194418], [9152252], [9024762], [9235370], [9211170], [9096096], [9219121], [9205026], [9208165], [9161011], [9221824], [9001275], [9110907], [9258862], [9239182], [9138338], [9092258], [9166254], [9073936], [9210622], [9212267], [8879812], [9193974], [9227203], [9124022], [9123729], [9040453], [9186206], [9088291], [9063324], [9055989], [9130396], [9029938], [9062903], [9239038], [9109071], [9153671], [9135100], [9038332], [8993732], [9242986], [9102037], [9146103], [9111145], [9066415], [9094197], [9176691], [9153132], [9202901], [9174534], [9135720], [8925266], [9032572], [9300597], [9194539], [9141510], [9137889], [9144006], [9107669], [9200069], [9036682], [9157046], [9068756], [9034038], [8967816], [9136396], [9116687], [9213860], [9235358], [9256205], [9160008], [9276815], [9315359], [9187574], [9242479], [9146552], [9151358], [9025037], [9031375], [8975899], [9199980], [9197615], [9249895], [8959874], [9147565], [9185802], [9184667], [9270111], [9127708], [9038527], [9181465], [9127725], [9049463], [9059982], [9131969], [9295828], [9176497], [8914005], [9273595], [9126621], [9017890], [9244259], [9172429], [9146967], [9117791], [9278648], [9180063], [9156002], [9086550], [9092435], [9229337], [8951641], [9213608], [9150867], [9174363], [9006660], [9134844], [9036071], [9082634], [9129133], [9275450], [9129104], [9213493], [9131396], [9257333], [9047013], [9122763], [9111573], [9015129], [9060047], [9223625], [8981445], [9162580], [9130606], [9169733], [9100818], [9075534], [9154102], [9284283], [8871158], [9145612], [9147675], [9092153], [9189232], [9156515], [9113524], [9189810], [9239401], [9172491], [9069336], [9113529], [9096960], [9096447], [9114852], [9109077], [9127421], [9271013], [9148543], [9266351], [9024673], [8938041], [9197338], [9202265], [9097611], [9324041], [9151918], [9085186], [9173092], [9006590], [9032094], [9253242], [9131383], [9149175], [9062011], [9178820], [9121675], [9062718], [9042082], [9083260], [9039004], [9150901], [9117344], [9117539], [9111589], [9030644], [9076686], [9129323], [9073891], [9155118], [9142082], [9131173], [8892741], [9163518], [9215483], [9148785], [9085185], [9026574], [9246348], [9067026], [9193783], [9090970], [9232577], [9087925], [9040577], [9009958], [9131920], [9062822], [8990717], [9006970], [9081169], [9164414], [9130554], [9100094], [9141236], [9030236], [9083469], [9166272], [9152651], [9056565], [9276500], [9141397], [9008804], [9063165], [9025296], [9097228], [9122936], [8814162], [9273131], [9058404], [8994464], [9049987], [9250420], [9170988], [9144151], [9177803], [9211448], [9117353], [9054909], [9242617], [9073303], [8994234], [9060860], [8962538], [9088175], [9180777], [9223456], [9220277], [8829218], [9108857], [9192449], [9165710], [9234522], [9223080], [9022823], [8933576], [9127945], [9159936], [9086210], [9112213], [9167732], [9113695], [9079794], [9067708], [9085675], [9138050], [9090909], [9032286], [9166155], [9060932], [9097547], [8993125], [9205014], [9162468], [9092012], [9160516], [9089272], [9265193], [9025673], [9237056], [9030605], [9077007], [9145897], [9113602], [9076630], [9124191], [9242478], [9235120], [9139344], [9123944], [9301514], [9071690], [9159917], [9175410], [8974774], [9158345], [9143476], [9116322], [8963761], [9164775], [9120657], [9112006], [9048454], [9051624], [9040394], [9045789], [9181664], [9088441], [9103373], [9139110], [9228819], [9101331], [9140420], [9145670], [9208638], [9120778], [8938896], [9316376], [9121056], [9100721], [9282902]], [[13589438], [13608353], [13456442], [13416586], [13355007], [13526290], [13532615], [13449000], [13542494], [13697047], [13220038], [13463086], [13441782], [13457400], [13641869], [13578917], [13572806], [13426048], [13558325], [13447168], [13601640], [13576562], [13439542], [13546404], [13561371], [13556990], [13534693], [13573228], [13550143], [13420501], [13320389], [13595768], [13536231], [13682567], [13508502], [13252421], [13568065], [13525389], [13662017], [13543280], [13575843], [13445039], [13464012], [13439825], [13548539], [13753264], [13351474], [13409650], [13597961], [13660097], [13405594], [13653384], [13671346], [13520124], [13526577], [13670091], [13572543], [13364843], [13271483], [13525557], [13620874], [13519046], [13659107], [13230763], [13540849], [13625175], [13463301], [13598519], [13509959], [13457113], [13482475], [13478915], [13468855], [13535139], [13586485], [13626892], [13442649], [13574980], [13689919], [13643428], [13599117], [13484142], [13652222], [13678629], [13581447], [13369197], [13625909], [13577037], [13402922], [13718103], [13455585], [13608259], [13454118], [13531664], [13268697], [13590805], [13568547], [13408601], [13568415], [13453685], [13431551], [13537965], [13632171], [13519206], [13223632], [13384136], [13423750], [13512870], [13424980], [13607322], [13374487], [13524357], [13488013], [13490045], [13421351], [13419162], [13584424], [13440162], [13299185], [13374376], [13466145], [13370783], [13518504], [13407907], [13401234], [13598331], [13627161], [13526281], [13613463], [13641891], [13412377], [13630755], [13382033], [13518017], [13557992], [13447823], [13535234], [13357790], [13548834], [13665046], [13560990], [13413256], [13397165], [13691357], [13579525], [13394664], [13297319], [13275343], [13458769], [13576067], [13667524], [13548345], [13468096], [13558267], [13607064], [13620061], [13417378], [13476298], [13447817], [13474395], [13410692], [13594137], [13536781], [13296993], [13577711], [13561627], [13489495], [13433672], [13375315], [13400977], [13609863], [13543872], [13566113], [13578921], [13540880], [13524842], [13496943], [13514724], [13376572], [13402284], [13635342], [13423904], [13353362], [13484048], [13475351], [13264580], [13327200], [13508339], [13305864], [13672785], [13469912], [13498021], [13443050], [13602916], [13433184], [13368069], [13353343], [13329323], [13508583], [13491095], [13512525], [13205455], [13351236], [13303495], [13537868], [13546675], [13637144], [13514591], [13488682], [13447958], [13551326], [13585919], [13376699], [13509484], [13527987], [13347808], [13559893], [13613827], [13578476], [13483744], [13399471], [13595869], [13427349], [13538086], [13484120], [13536606], [13593799], [13678562], [13347687], [13511013], [13486568], [13479325], [13485902], [13326129], [13304792], [13494109], [13552584], [13524999], [13482671], [13378750], [13348841], [13442291], [13523757], [13612205], [13387708], [13566971], [13520404], [13522613], [13438820], [13381148], [13256653], [13416531], [13511276], [13684376], [13428426], [13545981], [13519702], [13372070], [13573575], [13456076], [13445705], [13551300], [13538043], [13405016], [13511054], [13367883], [13422236], [13585949], [13525426], [13576588], [13527264], [13318446], [13550506], [13438141], [13646604], [13474720], [13470553], [13530115], [13548686], [13406250], [13344844], [13472053], [13570560], [13608732], [13549222], [13476174], [13678615], [13526956], [13589337], [13413009], [13481551], [13541784], [13641837], [13546579], [13601689], [13394122], [13431511], [13452625], [13538214], [13621650], [13520034], [13407986], [13380366], [13545363], [13583417], [13573682], [13292263], [13359978], [13455137], [13544402], [13409622], [13559115], [13530951], [13459896], [13524612], [13455574], [13319595], [13566479], [13635851], [13540645], [13303592], [13632147], [13615692], [13634905], [13537821], [13653732], [13514424], [13624526], [13630723], [13495959], [13793030], [13379020], [13476805], [13505097], [13561828], [13300310], [13726679], [13378036], [13640491], [13508426], [13507825], [13436753], [13593446], [13444052], [13466031], [13445121], [13377267], [13319849], [13521394], [13762613], [13667391], [13612922], [13620021], [13617105], [13649233], [13566139], [13532335], [13526944], [13431897], [13430159], [13503755], [13547676], [13573155], [13448937], [13607362], [13569494], [13307196], [13551011], [13301911], [13839592], [13398250], [13384142], [13453978], [13610662], [13497415], [13495239], [13563103], [13498628], [13555119], [13379447], [13498929], [13559603], [13605567], [13537664], [13310631], [13602052], [13454383], [13506160], [13634306], [13473720], [13430993], [13551510], [13407319], [13630983], [13391497], [13412698], [13528848], [13573447], [13438226], [13473811], [13511563], [13456589], [13564769], [13425059], [13324506], [13347712], [13561125], [13524305], [13562353], [13368477], [13367615], [13524543], [13506714], [13469468], [13504212], [13565223], [13568126], [13453378], [13451637], [13622798], [13439347], [13350541], [13620292], [13516876], [13409790], [13529065], [13422890], [13504215], [13367295], [13372387], [13606927], [13385625], [13617924], [13574394], [13553253], [13593977], [13406577], [13274702], [13603952], [13390409], [13459029], [13508917], [13607365], [13492105], [13563787], [13588292], [13351460], [13386630], [13576080], [13640587], [13306128], [13508433], [13351872], [13552302], [13704866], [13420155], [13711454], [13478000], [13332027], [13229526], [13548470], [13519349], [13514434], [13505657], [13415001], [13578990], [13663703], [13320786], [13398036], [13756938], [13343666], [13539612], [13642977], [13537641], [13644779], [13444381], [13463237], [13437914], [13274401], [13599133], [13468877], [13532131], [13642086], [13564508], [13636412], [13430105], [13490359], [13267814], [13369075], [13445166], [13532344], [13391086], [13542404], [13442016], [13528884], [13472424], [13474781], [13422353], [13335947], [13430460], [13426127], [13458820], [13369004], [13412493], [13595357], [13455453], [13319130], [13458103], [13512559], [13446970], [13530210], [13749865], [13579831], [13499683], [13450172], [13730442], [13276817], [13646457], [13523983], [13646893], [13538920], [13474480], [13468871], [13424878], [13341024], [13520764], [13667798], [13578231], [13309756], [13321529], [13680116], [13341208], [13456603], [13499690], [13627651], [13571835], [13683749], [13499888], [13509067], [13514662], [13501414], [13515176], [13606224], [13364005], [13436319], [13570973], [13513358], [13414185], [13376967], [13377512], [13510197], [13573531], [13483671], [13321272], [13551669], [13402511], [13445326], [13498339], [13499100], [13335119], [13481108], [13512155], [13319582], [13512451], [13577148], [13502900], [13532251], [13520126], [13547387], [13527864], [13510768], [13412305], [13556161], [13679306], [13581295], [13521064], [13382966], [13364255], [13590317], [13529414], [13499739], [13445325], [13447974], [13466004], [13554158], [13482694], [13621196], [13402229], [13332391], [13499741], [13643709], [13465581], [13467864], [13338426], [13412349], [13450994], [13561372], [13350334], [13792072], [13308283]], [[18073236], [17872632], [18000783], [17757942], [18241454], [17947803], [17986309], [18096266], [17927073], [17861351], [17998182], [17846740], [17740577], [18041891], [18209601], [17817237], [18050350], [18089639], [18114600], [18121523], [18000190], [18001321], [18075850], [17973847], [17911558], [18109905], [17816768], [17869548], [17923423], [17994412], [18104419], [18066077], [17844864], [18116737], [18099403], [18167247], [17857618], [18018676], [18188452], [17928224], [18210073], [18019390], [17911046], [18055714], [18094283], [18054158], [18192449], [17996546], [18078590], [17974419], [18332469], [18076428], [17929853], [18041066], [17932471], [18125919], [18372100], [18226286], [17905590], [17925362], [17920704], [18092073], [18068040], [17987845], [18040805], [18072906], [18095263], [18066096], [17900197], [17970569], [18096202], [18061465], [18099878], [18073253], [18117229], [17989300], [17836756], [17900836], [18005084], [18058510], [18013202], [17973553], [18034723], [17957018], [18038014], [18128089], [18005970], [17827077], [18165013], [18166602], [17964681], [18138347], [17944935], [17860558], [18096355], [18004525], [18006212], [18221643], [18081315], [17933073], [18013959], [17922105], [17986906], [17961993], [18019772], [17999134], [17988269], [18061191], [18024584], [18204531], [18231772], [18004297], [17928675], [18181681], [17830325], [17848531], [18203919], [17845503], [18131706], [18167667], [18028113], [18124044], [17971976], [17798832], [18235723], [18031656], [18008979], [18014318], [18119464], [18132669], [18024723], [18179277], [18000566], [18055306], [18125642], [17921056], [18050655], [18162709], [17949544], [17895706], [18036727], [18008594], [18044532], [18236512], [18081144], [17873483], [18005401], [18278014], [18055578], [18010284], [17963468], [18136605], [18066175], [17969805], [18219519], [18013174], [17785565], [17961934], [18040605], [17957101], [17829061], [18045115], [18132813], [17508072], [17946315], [18056071], [18103043], [18066625], [18019859], [18292533], [18064333], [18070777], [17992656], [18237880], [17975282], [17816492], [17917869], [17919741], [18090762], [17933139], [18166660], [17973126], [17942348], [17938866], [18239167], [17927562], [18265677], [17816647], [17995537], [18246142], [18105490], [18189060], [18148162], [17971712], [17924025], [18173030], [17840405], [17936155], [17900751], [17886722], [18327734], [18088067], [18026180], [18027610], [18037525], [17937787], [17792271], [18046974], [17978690], [17935756], [18001572], [18040331], [17866861], [18069829], [17996764], [17801336], [17902276], [17925744], [17969607], [18020681], [18120042], [17973514], [18155364], [17993531], [18254858], [17908328], [17903560], [18158766], [18029075], [17995543], [18175940], [18031838], [18175136], [18034963], [18043274], [18177963], [17969151], [18048230], [18175550], [17989582], [18125413], [17999656], [18118988], [17984105], [18000605], [18033004], [17941943], [18070703], [18041427], [18147439], [17992024], [18235098], [17849559], [17877532], [17932320], [18121221], [17936492], [18018748], [18104248], [17984225], [18079807], [17913498], [18098284], [18070477], [18077084], [18217280], [17905506], [17823392], [18179925], [17980664], [18190441], [18096471], [18032628], [18123825], [18048042], [18073669], [17921976], [18207877], [18124404], [18139685], [18065182], [18124203], [18066906], [17936773], [18085164], [18133473], [17996209], [18094074], [17987782], [17957391], [17940900], [17949537], [18048340], [17982338], [17996926], [17955392], [18269733], [18072028], [18122260], [18110314], [17986899], [18101731], [17994065], [17942632], [18139943], [17874980], [18199593], [18135609], [18221257], [18014706], [18056757], [17835414], [18041631], [18002938], [17977084], [18010262], [18015578], [17951443], [18167125], [18282908], [17784257], [18062552], [18173140], [17921478], [18075895], [18022769], [18079129], [17990686], [18015601], [18082795], [18085239], [17786758], [17951906], [17845510], [18080964], [18015332], [18037946], [18028851], [18311725], [17907771], [17926787], [18097795], [18030873], [17799460], [17892076], [17921868], [18176000], [18115262], [18206994], [18292965], [18037645], [17953449], [18176866], [18214708], [18059250], [18237864], [18077629], [18140088], [18168492], [18052617], [18107511], [18222088], [18237488], [17863417], [17876661], [17994408], [17999149], [18004036], [17919326], [18203091], [17724836], [18216151], [17927623], [18107764], [18217084], [18207116], [17905328], [17940891], [17821416], [17967197], [17816964], [17961469], [17890667], [18283514], [18004945], [17917375], [17785102], [17847090], [18083788], [17785568], [17985775], [17983571], [18013168], [18108924], [18039207], [18065779], [18088731], [17813941], [17939475], [18221517], [17896486], [18236020], [18123850], [18034930], [18023132], [18016591], [18093837], [17959144], [17894501], [18230520], [18277483], [17980973], [17885952], [18008165], [18031794], [18207963], [17920410], [18077425], [18102227], [17764121], [17962595], [18089602], [17905135], [18285413], [17883912], [17952323], [18013270], [18218820], [18063197], [18218596], [18065630], [18051197], [18024081], [18116971], [18053149], [18275913], [18133405], [17858521], [17892179], [17987870], [18276904], [17975858], [17975004], [18033941], [17966393], [17892264], [17875376], [18047329], [18036363], [18053274], [18025635], [17885217], [18070928], [17952307], [18037179], [17961227], [17859874], [18001381], [18303861], [18163997], [18190948], [18015088], [18019380], [17862326], [17922975], [18130872], [18064216], [18091986], [18029328], [17830024], [18154584], [17878174], [18003217], [18169145], [18125095], [18105897], [17937743], [18015279], [17847873], [17868633], [18111157], [18068601], [17765367], [18018208], [17820275], [17998035], [17919033], [17889878], [18048711], [18120563], [18019551], [17938931], [17917463], [17859329], [17930230], [17935382], [18044617], [18208587], [18129692], [17830131], [18010876], [17580681], [18055888], [17719353], [17714526], [18119668], [17908143], [18142829], [17943648], [18233958], [18022083], [17998346], [17967031], [18007398], [17956235], [18036316], [18158987], [17853492], [18210957], [18083076], [17993028], [18079369], [17903079], [18071859], [18016511], [18001737], [18001911], [18125595], [18140795], [17928695], [17937166], [18265504], [18108696], [18095039], [18019445], [18063283], [17935189], [18145911], [18198006], [18051683], [17825111], [17853586], [17971109], [17996721], [18109418], [18136923], [18183099], [17830079], [18121478], [18009423], [18221318], [17989248], [17898468], [17964914], [18197124], [18032119], [17896251], [18202729], [18059551], [17952991], [18080375], [18005941], [17937080], [17952185], [18122245], [17934299], [18118799], [18046503], [18144702], [17860095], [17973724], [18041354], [18164274], [17764056], [18005627], [17999399], [18150031], [18136679], [18161225], [18034904], [18065359], [18035821], [18084048], [18061144], [17782489], [17944069], [17890494], [18046382], [18148907], [18156740], [18051794], [18095352], [18074387], [18118625], [17871719], [18169740], [18161484], [17942640], [18123031], [17789847], [17952387], [17836410], [18224384], [17827884], [18090101], [18003581], [17993022], [18172959], [18189667], [17923572], [17938309], [18101362], [17942226], [18173045], [17990133], [18268983], [18088979], [17882238], [17928326], [18083204], [18023105], [17968024], [18137168], [18033947], [18066006], [17869820], [18027687], [18129634], [18280202], [18148705], [17844107], [18062817], [18049528], [17998164], [17988078], [17840732], [18193340], [17848072], [17941299], [17928156], [17875899], [18112048], [18035093], [18012954], [18017960], [18130980], [17916577], [17914619], [18044659], [18094575], [18173595], [18057571], [18041337], [18189476], [17862517], [18013279], [18020084], [18170971], [17776566], [18174796], [17769440], [17936096], [17718872], [17795494], [18064059], [18241490], [18265337], [18024218], [17946714], [17637582], [17890674], [18187409], [18016859], [17928028], [18106909], [18030983], [17976321], [17994898], [18039305], [17911788], [18030920], [17812232], [18113566], [18069623], [18127040], [18069318], [18126646], [17925326], [17959998], [18138569], [17989388], [17744416], [18182585], [18059411], [18316422], [18008171], [17927257], [18051698], [17861317], [18040011], [17951860], [18120045], [18269888], [17909245], [17972338], [17923813], [18085614], [18233266], [17987319], [17988740], [17881307], [17954323], [18151100], [18010317], [17833767], [18207256], [17759340], [18106324], [18056856], [17951178], [17978306], [18102309], [17915400], [18068123], [17841905], [18056507], [17818217], [18187453], [17820130], [17950908], [17969056], [18092635], [17969559], [18236431], [17966054], [18045577], [18067365], [17882656], [17939382], [17861831], [18038563], [17915279], [17905622], [18099706], [17803816], [17897771], [17933193], [18002715], [18029209], [17846955], [17957760], [18109811], [18064361], [17929956], [17908217], [18120558], [18126748], [17972725], [18167283], [18147100], [18307467], [18047715], [17841517], [18002438], [18144316], [18080084], [18097381], [18029188], [18298032], [17765525], [18160243], [17934094], [18061549], [18116993], [18093565], [18127294], [18087226], [17941730], [18108767], [18154731], [18037823], [18095579], [17984183], [18238792], [18009076], [17893515], [17799136], [18203278], [17965664], [18191769], [17957325], [17752374], [18033257], [17966882], [18012360], [18300709], [17910381], [17875760], [17964839], [18214709]]]\n",
            "Interchange: [[[4502170], [4721226], [4743899], [4757511], [4684769], [4682160], [4731198], [4712801], [4709409], [4679621], [4770087], [4817766], [4635072], [4609159], [4798105], [4642366], [4821067], [4622946], [4615358], [4581156], [4770383], [4685586], [4748618], [4698724], [4615706], [4698577], [4703460], [4597336], [4674534], [4622062], [4703411], [4701405], [4660033], [4636735], [4619211], [4653257], [4732088], [4761351], [4582287], [4568979], [4669703], [4706058], [4697657], [4699352], [4779946], [4641554], [4641773], [4703812], [4729749], [4564230], [4632668], [4619624], [4678315], [4728363], [4796999], [4687786], [4798842], [4618461], [4699043], [4595250], [4563574], [4690838], [4684907], [4721133], [4612288], [4694758], [4713908], [4604966], [4617919], [4633433], [4657388], [4601705], [4693190], [4753637], [4747518], [4640547], [4598459], [4602287], [4637105], [4683978], [4546519], [4660716], [4716545], [4638786], [4661214], [4668789], [4678586], [4715312], [4599485], [4682608], [4674030], [4576266], [4776410], [4833948], [4719890], [4657056], [4640643], [4727357], [4664107], [4529856], [4817794], [4645463], [4622721], [4720741], [4738826], [4616868], [4612965], [4670941], [4771178], [4737600], [4630361], [4662541], [4605006], [4802773], [4721530], [4585534], [4721457], [4738630], [4582374], [4496020], [4671646], [4672921], [4500105], [4686640], [4727851], [4682875], [4728672], [4583655], [4533122], [4687840], [4701422], [4711227], [4704780], [4657184], [4544247], [4644538], [4459388], [4634911], [4655036], [4656623], [4608446], [4693396], [4716978], [4734909], [4533894], [4604392], [4642137], [4678016], [4671819], [4711005], [4605995], [4600024], [4708476], [4647043], [4761513], [4614619], [4574922], [4753255], [4769356], [4674760], [4787310], [4630609], [4741400], [4602835], [4680399], [4571194], [4702038], [4556762], [4710232], [4696415], [4609880], [4637000], [4735161], [4693560], [4727082], [4551059], [4688743], [4769996], [4655894], [4701713], [4706643], [4716195], [4662111], [4689232], [4686827], [4785317], [4576730], [4781640], [4732194], [4582671], [4677360], [4695568], [4684799], [4638250], [4627197], [4744704], [4601908], [4706769], [4681872], [4686549]], [[9161735], [9082030], [9112895], [9123978], [9195065], [9065544], [9192274], [9186379], [9115891], [9177115], [9203083], [9046582], [9142647], [9196457], [9091203], [9085312], [9149747], [9107663], [9196944], [9118045], [9080566], [9214186], [9308375], [9057402], [9055906], [9172349], [9073174], [9139923], [9077226], [9227143], [9162113], [9155285], [9076811], [9290435], [9124199], [9171411], [9322724], [9184923], [9215910], [9109013], [9145589], [9254528], [9152740], [9202829], [8933540], [9077560], [9177419], [9061091], [8968352], [9176365], [9134425], [9216055], [9018912], [9156161], [9142523], [9184698], [8982939], [9123500], [9190255], [9014282], [9215481], [9035345], [8978945], [9140395], [8999796], [9209325], [8997889], [9112936], [9153543], [9224526], [9082440], [9113440], [9095753], [9183321], [9134430], [9001251], [9259822], [9152321], [9082985], [9056315], [9194418], [9152252], [9024762], [9235370], [9211170], [9096096], [9219121], [9205026], [9208165], [9161011], [9221824], [9001275], [9110907], [9258862], [9239182], [9138338], [9092258], [9166254], [9073936], [9210622], [9212267], [8879812], [9193974], [9227203], [9124022], [9123729], [9040453], [9186206], [9088291], [9063324], [9055989], [9130396], [9029938], [9062903], [9239038], [9109071], [9153671], [9135100], [9038332], [8993732], [9242986], [9102037], [9146103], [9111145], [9066415], [9094197], [9176691], [9153132], [9202901], [9174534], [9135720], [8925266], [9032572], [9300597], [9194539], [9141510], [9137889], [9144006], [9107669], [9200069], [9036682], [9157046], [9068756], [9034038], [8967816], [9136396], [9116687], [9213860], [9235358], [9256205], [9160008], [9276815], [9315359], [9187574], [9242479], [9146552], [9151358], [9025037], [9031375], [8975899], [9199980], [9197615], [9249895], [8959874], [9147565], [9185802], [9184667], [9270111], [9127708], [9038527], [9181465], [9127725], [9049463], [9059982], [9131969], [9295828], [9176497], [8914005], [9273595], [9126621], [9017890], [9244259], [9172429], [9146967], [9117791], [9278648], [9180063], [9156002], [9086550], [9092435], [9229337], [8951641], [9213608], [9150867], [9174363], [9006660], [9134844], [9036071], [9082634], [9129133], [9275450], [9129104], [9213493], [9131396], [9257333], [9047013], [9122763], [9111573], [9015129], [9060047], [9223625], [8981445], [9162580], [9130606], [9169733], [9100818], [9075534], [9154102], [9284283], [8871158], [9145612], [9147675], [9092153], [9189232], [9156515], [9113524], [9189810], [9239401], [9172491], [9069336], [9113529], [9096960], [9096447], [9114852], [9109077], [9127421], [9271013], [9148543], [9266351], [9024673], [8938041], [9197338], [9202265], [9097611], [9324041], [9151918], [9085186], [9173092], [9006590], [9032094], [9253242], [9131383], [9149175], [9062011], [9178820], [9121675], [9062718], [9042082], [9083260], [9039004], [9150901], [9117344], [9117539], [9111589], [9030644], [9076686], [9129323], [9073891], [9155118], [9142082], [9131173], [8892741], [9163518], [9215483], [9148785], [9085185], [9026574], [9246348], [9067026], [9193783], [9090970], [9232577], [9087925], [9040577], [9009958], [9131920], [9062822], [8990717], [9006970], [9081169], [9164414], [9130554], [9100094], [9141236], [9030236], [9083469], [9166272], [9152651], [9056565], [9276500], [9141397], [9008804], [9063165], [9025296], [9097228], [9122936], [8814162], [9273131], [9058404], [8994464], [9049987], [9250420], [9170988], [9144151], [9177803], [9211448], [9117353], [9054909], [9242617], [9073303], [8994234], [9060860], [8962538], [9088175], [9180777], [9223456], [9220277], [8829218], [9108857], [9192449], [9165710], [9234522], [9223080], [9022823], [8933576], [9127945], [9159936], [9086210], [9112213], [9167732], [9113695], [9079794], [9067708], [9085675], [9138050], [9090909], [9032286], [9166155], [9060932], [9097547], [8993125], [9205014], [9162468], [9092012], [9160516], [9089272], [9265193], [9025673], [9237056], [9030605], [9077007], [9145897], [9113602], [9076630], [9124191], [9242478], [9235120], [9139344], [9123944], [9301514], [9071690], [9159917], [9175410], [8974774], [9158345], [9143476], [9116322], [8963761], [9164775], [9120657], [9112006], [9048454], [9051624], [9040394], [9045789], [9181664], [9088441], [9103373], [9139110], [9228819], [9101331], [9140420], [9145670], [9208638], [9120778], [8938896], [9316376], [9121056], [9100721], [9282902]], [[13589438], [13608353], [13456442], [13416586], [13355007], [13526290], [13532615], [13449000], [13542494], [13697047], [13220038], [13463086], [13441782], [13457400], [13641869], [13578917], [13572806], [13426048], [13558325], [13447168], [13601640], [13576562], [13439542], [13546404], [13561371], [13556990], [13534693], [13573228], [13550143], [13420501], [13320389], [13595768], [13536231], [13682567], [13508502], [13252421], [13568065], [13525389], [13662017], [13543280], [13575843], [13445039], [13464012], [13439825], [13548539], [13753264], [13351474], [13409650], [13597961], [13660097], [13405594], [13653384], [13671346], [13520124], [13526577], [13670091], [13572543], [13364843], [13271483], [13525557], [13620874], [13519046], [13659107], [13230763], [13540849], [13625175], [13463301], [13598519], [13509959], [13457113], [13482475], [13478915], [13468855], [13535139], [13586485], [13626892], [13442649], [13574980], [13689919], [13643428], [13599117], [13484142], [13652222], [13678629], [13581447], [13369197], [13625909], [13577037], [13402922], [13718103], [13455585], [13608259], [13454118], [13531664], [13268697], [13590805], [13568547], [13408601], [13568415], [13453685], [13431551], [13537965], [13632171], [13519206], [13223632], [13384136], [13423750], [13512870], [13424980], [13607322], [13374487], [13524357], [13488013], [13490045], [13421351], [13419162], [13584424], [13440162], [13299185], [13374376], [13466145], [13370783], [13518504], [13407907], [13401234], [13598331], [13627161], [13526281], [13613463], [13641891], [13412377], [13630755], [13382033], [13518017], [13557992], [13447823], [13535234], [13357790], [13548834], [13665046], [13560990], [13413256], [13397165], [13691357], [13579525], [13394664], [13297319], [13275343], [13458769], [13576067], [13667524], [13548345], [13468096], [13558267], [13607064], [13620061], [13417378], [13476298], [13447817], [13474395], [13410692], [13594137], [13536781], [13296993], [13577711], [13561627], [13489495], [13433672], [13375315], [13400977], [13609863], [13543872], [13566113], [13578921], [13540880], [13524842], [13496943], [13514724], [13376572], [13402284], [13635342], [13423904], [13353362], [13484048], [13475351], [13264580], [13327200], [13508339], [13305864], [13672785], [13469912], [13498021], [13443050], [13602916], [13433184], [13368069], [13353343], [13329323], [13508583], [13491095], [13512525], [13205455], [13351236], [13303495], [13537868], [13546675], [13637144], [13514591], [13488682], [13447958], [13551326], [13585919], [13376699], [13509484], [13527987], [13347808], [13559893], [13613827], [13578476], [13483744], [13399471], [13595869], [13427349], [13538086], [13484120], [13536606], [13593799], [13678562], [13347687], [13511013], [13486568], [13479325], [13485902], [13326129], [13304792], [13494109], [13552584], [13524999], [13482671], [13378750], [13348841], [13442291], [13523757], [13612205], [13387708], [13566971], [13520404], [13522613], [13438820], [13381148], [13256653], [13416531], [13511276], [13684376], [13428426], [13545981], [13519702], [13372070], [13573575], [13456076], [13445705], [13551300], [13538043], [13405016], [13511054], [13367883], [13422236], [13585949], [13525426], [13576588], [13527264], [13318446], [13550506], [13438141], [13646604], [13474720], [13470553], [13530115], [13548686], [13406250], [13344844], [13472053], [13570560], [13608732], [13549222], [13476174], [13678615], [13526956], [13589337], [13413009], [13481551], [13541784], [13641837], [13546579], [13601689], [13394122], [13431511], [13452625], [13538214], [13621650], [13520034], [13407986], [13380366], [13545363], [13583417], [13573682], [13292263], [13359978], [13455137], [13544402], [13409622], [13559115], [13530951], [13459896], [13524612], [13455574], [13319595], [13566479], [13635851], [13540645], [13303592], [13632147], [13615692], [13634905], [13537821], [13653732], [13514424], [13624526], [13630723], [13495959], [13793030], [13379020], [13476805], [13505097], [13561828], [13300310], [13726679], [13378036], [13640491], [13508426], [13507825], [13436753], [13593446], [13444052], [13466031], [13445121], [13377267], [13319849], [13521394], [13762613], [13667391], [13612922], [13620021], [13617105], [13649233], [13566139], [13532335], [13526944], [13431897], [13430159], [13503755], [13547676], [13573155], [13448937], [13607362], [13569494], [13307196], [13551011], [13301911], [13839592], [13398250], [13384142], [13453978], [13610662], [13497415], [13495239], [13563103], [13498628], [13555119], [13379447], [13498929], [13559603], [13605567], [13537664], [13310631], [13602052], [13454383], [13506160], [13634306], [13473720], [13430993], [13551510], [13407319], [13630983], [13391497], [13412698], [13528848], [13573447], [13438226], [13473811], [13511563], [13456589], [13564769], [13425059], [13324506], [13347712], [13561125], [13524305], [13562353], [13368477], [13367615], [13524543], [13506714], [13469468], [13504212], [13565223], [13568126], [13453378], [13451637], [13622798], [13439347], [13350541], [13620292], [13516876], [13409790], [13529065], [13422890], [13504215], [13367295], [13372387], [13606927], [13385625], [13617924], [13574394], [13553253], [13593977], [13406577], [13274702], [13603952], [13390409], [13459029], [13508917], [13607365], [13492105], [13563787], [13588292], [13351460], [13386630], [13576080], [13640587], [13306128], [13508433], [13351872], [13552302], [13704866], [13420155], [13711454], [13478000], [13332027], [13229526], [13548470], [13519349], [13514434], [13505657], [13415001], [13578990], [13663703], [13320786], [13398036], [13756938], [13343666], [13539612], [13642977], [13537641], [13644779], [13444381], [13463237], [13437914], [13274401], [13599133], [13468877], [13532131], [13642086], [13564508], [13636412], [13430105], [13490359], [13267814], [13369075], [13445166], [13532344], [13391086], [13542404], [13442016], [13528884], [13472424], [13474781], [13422353], [13335947], [13430460], [13426127], [13458820], [13369004], [13412493], [13595357], [13455453], [13319130], [13458103], [13512559], [13446970], [13530210], [13749865], [13579831], [13499683], [13450172], [13730442], [13276817], [13646457], [13523983], [13646893], [13538920], [13474480], [13468871], [13424878], [13341024], [13520764], [13667798], [13578231], [13309756], [13321529], [13680116], [13341208], [13456603], [13499690], [13627651], [13571835], [13683749], [13499888], [13509067], [13514662], [13501414], [13515176], [13606224], [13364005], [13436319], [13570973], [13513358], [13414185], [13376967], [13377512], [13510197], [13573531], [13483671], [13321272], [13551669], [13402511], [13445326], [13498339], [13499100], [13335119], [13481108], [13512155], [13319582], [13512451], [13577148], [13502900], [13532251], [13520126], [13547387], [13527864], [13510768], [13412305], [13556161], [13679306], [13581295], [13521064], [13382966], [13364255], [13590317], [13529414], [13499739], [13445325], [13447974], [13466004], [13554158], [13482694], [13621196], [13402229], [13332391], [13499741], [13643709], [13465581], [13467864], [13338426], [13412349], [13450994], [13561372], [13350334], [13792072], [13308283]], [[18073236], [17872632], [18000783], [17757942], [18241454], [17947803], [17986309], [18096266], [17927073], [17861351], [17998182], [17846740], [17740577], [18041891], [18209601], [17817237], [18050350], [18089639], [18114600], [18121523], [18000190], [18001321], [18075850], [17973847], [17911558], [18109905], [17816768], [17869548], [17923423], [17994412], [18104419], [18066077], [17844864], [18116737], [18099403], [18167247], [17857618], [18018676], [18188452], [17928224], [18210073], [18019390], [17911046], [18055714], [18094283], [18054158], [18192449], [17996546], [18078590], [17974419], [18332469], [18076428], [17929853], [18041066], [17932471], [18125919], [18372100], [18226286], [17905590], [17925362], [17920704], [18092073], [18068040], [17987845], [18040805], [18072906], [18095263], [18066096], [17900197], [17970569], [18096202], [18061465], [18099878], [18073253], [18117229], [17989300], [17836756], [17900836], [18005084], [18058510], [18013202], [17973553], [18034723], [17957018], [18038014], [18128089], [18005970], [17827077], [18165013], [18166602], [17964681], [18138347], [17944935], [17860558], [18096355], [18004525], [18006212], [18221643], [18081315], [17933073], [18013959], [17922105], [17986906], [17961993], [18019772], [17999134], [17988269], [18061191], [18024584], [18204531], [18231772], [18004297], [17928675], [18181681], [17830325], [17848531], [18203919], [17845503], [18131706], [18167667], [18028113], [18124044], [17971976], [17798832], [18235723], [18031656], [18008979], [18014318], [18119464], [18132669], [18024723], [18179277], [18000566], [18055306], [18125642], [17921056], [18050655], [18162709], [17949544], [17895706], [18036727], [18008594], [18044532], [18236512], [18081144], [17873483], [18005401], [18278014], [18055578], [18010284], [17963468], [18136605], [18066175], [17969805], [18219519], [18013174], [17785565], [17961934], [18040605], [17957101], [17829061], [18045115], [18132813], [17508072], [17946315], [18056071], [18103043], [18066625], [18019859], [18292533], [18064333], [18070777], [17992656], [18237880], [17975282], [17816492], [17917869], [17919741], [18090762], [17933139], [18166660], [17973126], [17942348], [17938866], [18239167], [17927562], [18265677], [17816647], [17995537], [18246142], [18105490], [18189060], [18148162], [17971712], [17924025], [18173030], [17840405], [17936155], [17900751], [17886722], [18327734], [18088067], [18026180], [18027610], [18037525], [17937787], [17792271], [18046974], [17978690], [17935756], [18001572], [18040331], [17866861], [18069829], [17996764], [17801336], [17902276], [17925744], [17969607], [18020681], [18120042], [17973514], [18155364], [17993531], [18254858], [17908328], [17903560], [18158766], [18029075], [17995543], [18175940], [18031838], [18175136], [18034963], [18043274], [18177963], [17969151], [18048230], [18175550], [17989582], [18125413], [17999656], [18118988], [17984105], [18000605], [18033004], [17941943], [18070703], [18041427], [18147439], [17992024], [18235098], [17849559], [17877532], [17932320], [18121221], [17936492], [18018748], [18104248], [17984225], [18079807], [17913498], [18098284], [18070477], [18077084], [18217280], [17905506], [17823392], [18179925], [17980664], [18190441], [18096471], [18032628], [18123825], [18048042], [18073669], [17921976], [18207877], [18124404], [18139685], [18065182], [18124203], [18066906], [17936773], [18085164], [18133473], [17996209], [18094074], [17987782], [17957391], [17940900], [17949537], [18048340], [17982338], [17996926], [17955392], [18269733], [18072028], [18122260], [18110314], [17986899], [18101731], [17994065], [17942632], [18139943], [17874980], [18199593], [18135609], [18221257], [18014706], [18056757], [17835414], [18041631], [18002938], [17977084], [18010262], [18015578], [17951443], [18167125], [18282908], [17784257], [18062552], [18173140], [17921478], [18075895], [18022769], [18079129], [17990686], [18015601], [18082795], [18085239], [17786758], [17951906], [17845510], [18080964], [18015332], [18037946], [18028851], [18311725], [17907771], [17926787], [18097795], [18030873], [17799460], [17892076], [17921868], [18176000], [18115262], [18206994], [18292965], [18037645], [17953449], [18176866], [18214708], [18059250], [18237864], [18077629], [18140088], [18168492], [18052617], [18107511], [18222088], [18237488], [17863417], [17876661], [17994408], [17999149], [18004036], [17919326], [18203091], [17724836], [18216151], [17927623], [18107764], [18217084], [18207116], [17905328], [17940891], [17821416], [17967197], [17816964], [17961469], [17890667], [18283514], [18004945], [17917375], [17785102], [17847090], [18083788], [17785568], [17985775], [17983571], [18013168], [18108924], [18039207], [18065779], [18088731], [17813941], [17939475], [18221517], [17896486], [18236020], [18123850], [18034930], [18023132], [18016591], [18093837], [17959144], [17894501], [18230520], [18277483], [17980973], [17885952], [18008165], [18031794], [18207963], [17920410], [18077425], [18102227], [17764121], [17962595], [18089602], [17905135], [18285413], [17883912], [17952323], [18013270], [18218820], [18063197], [18218596], [18065630], [18051197], [18024081], [18116971], [18053149], [18275913], [18133405], [17858521], [17892179], [17987870], [18276904], [17975858], [17975004], [18033941], [17966393], [17892264], [17875376], [18047329], [18036363], [18053274], [18025635], [17885217], [18070928], [17952307], [18037179], [17961227], [17859874], [18001381], [18303861], [18163997], [18190948], [18015088], [18019380], [17862326], [17922975], [18130872], [18064216], [18091986], [18029328], [17830024], [18154584], [17878174], [18003217], [18169145], [18125095], [18105897], [17937743], [18015279], [17847873], [17868633], [18111157], [18068601], [17765367], [18018208], [17820275], [17998035], [17919033], [17889878], [18048711], [18120563], [18019551], [17938931], [17917463], [17859329], [17930230], [17935382], [18044617], [18208587], [18129692], [17830131], [18010876], [17580681], [18055888], [17719353], [17714526], [18119668], [17908143], [18142829], [17943648], [18233958], [18022083], [17998346], [17967031], [18007398], [17956235], [18036316], [18158987], [17853492], [18210957], [18083076], [17993028], [18079369], [17903079], [18071859], [18016511], [18001737], [18001911], [18125595], [18140795], [17928695], [17937166], [18265504], [18108696], [18095039], [18019445], [18063283], [17935189], [18145911], [18198006], [18051683], [17825111], [17853586], [17971109], [17996721], [18109418], [18136923], [18183099], [17830079], [18121478], [18009423], [18221318], [17989248], [17898468], [17964914], [18197124], [18032119], [17896251], [18202729], [18059551], [17952991], [18080375], [18005941], [17937080], [17952185], [18122245], [17934299], [18118799], [18046503], [18144702], [17860095], [17973724], [18041354], [18164274], [17764056], [18005627], [17999399], [18150031], [18136679], [18161225], [18034904], [18065359], [18035821], [18084048], [18061144], [17782489], [17944069], [17890494], [18046382], [18148907], [18156740], [18051794], [18095352], [18074387], [18118625], [17871719], [18169740], [18161484], [17942640], [18123031], [17789847], [17952387], [17836410], [18224384], [17827884], [18090101], [18003581], [17993022], [18172959], [18189667], [17923572], [17938309], [18101362], [17942226], [18173045], [17990133], [18268983], [18088979], [17882238], [17928326], [18083204], [18023105], [17968024], [18137168], [18033947], [18066006], [17869820], [18027687], [18129634], [18280202], [18148705], [17844107], [18062817], [18049528], [17998164], [17988078], [17840732], [18193340], [17848072], [17941299], [17928156], [17875899], [18112048], [18035093], [18012954], [18017960], [18130980], [17916577], [17914619], [18044659], [18094575], [18173595], [18057571], [18041337], [18189476], [17862517], [18013279], [18020084], [18170971], [17776566], [18174796], [17769440], [17936096], [17718872], [17795494], [18064059], [18241490], [18265337], [18024218], [17946714], [17637582], [17890674], [18187409], [18016859], [17928028], [18106909], [18030983], [17976321], [17994898], [18039305], [17911788], [18030920], [17812232], [18113566], [18069623], [18127040], [18069318], [18126646], [17925326], [17959998], [18138569], [17989388], [17744416], [18182585], [18059411], [18316422], [18008171], [17927257], [18051698], [17861317], [18040011], [17951860], [18120045], [18269888], [17909245], [17972338], [17923813], [18085614], [18233266], [17987319], [17988740], [17881307], [17954323], [18151100], [18010317], [17833767], [18207256], [17759340], [18106324], [18056856], [17951178], [17978306], [18102309], [17915400], [18068123], [17841905], [18056507], [17818217], [18187453], [17820130], [17950908], [17969056], [18092635], [17969559], [18236431], [17966054], [18045577], [18067365], [17882656], [17939382], [17861831], [18038563], [17915279], [17905622], [18099706], [17803816], [17897771], [17933193], [18002715], [18029209], [17846955], [17957760], [18109811], [18064361], [17929956], [17908217], [18120558], [18126748], [17972725], [18167283], [18147100], [18307467], [18047715], [17841517], [18002438], [18144316], [18080084], [18097381], [18029188], [18298032], [17765525], [18160243], [17934094], [18061549], [18116993], [18093565], [18127294], [18087226], [17941730], [18108767], [18154731], [18037823], [18095579], [17984183], [18238792], [18009076], [17893515], [17799136], [18203278], [17965664], [18191769], [17957325], [17752374], [18033257], [17966882], [18012360], [18300709], [17910381], [17875760], [17964839], [18214709]]]\n",
            "Blocking:    [[[4502170], [4721226], [4743899], [4757511], [4684769], [4682160], [4731198], [4712801], [4709409], [4679621], [4770087], [4817766], [4635072], [4609159], [4798105], [4642366], [4821067], [4622946], [4615358], [4581156], [4770383], [4685586], [4748618], [4698724], [4615706], [4698577], [4703460], [4597336], [4674534], [4622062], [4703411], [4701405], [4660033], [4636735], [4619211], [4653257], [4732088], [4761351], [4582287], [4568979], [4669703], [4706058], [4697657], [4699352], [4779946], [4641554], [4641773], [4703812], [4729749], [4564230], [4632668], [4619624], [4678315], [4728363], [4796999], [4687786], [4798842], [4618461], [4699043], [4595250], [4563574], [4690838], [4684907], [4721133], [4612288], [4694758], [4713908], [4604966], [4617919], [4633433], [4657388], [4601705], [4693190], [4753637], [4747518], [4640547], [4598459], [4602287], [4637105], [4683978], [4546519], [4660716], [4716545], [4638786], [4661214], [4668789], [4678586], [4715312], [4599485], [4682608], [4674030], [4576266], [4776410], [4833948], [4719890], [4657056], [4640643], [4727357], [4664107], [4529856], [4817794], [4645463], [4622721], [4720741], [4738826], [4616868], [4612965], [4670941], [4771178], [4737600], [4630361], [4662541], [4605006], [4802773], [4721530], [4585534], [4721457], [4738630], [4582374], [4496020], [4671646], [4672921], [4500105], [4686640], [4727851], [4682875], [4728672], [4583655], [4533122], [4687840], [4701422], [4711227], [4704780], [4657184], [4544247], [4644538], [4459388], [4634911], [4655036], [4656623], [4608446], [4693396], [4716978], [4734909], [4533894], [4604392], [4642137], [4678016], [4671819], [4711005], [4605995], [4600024], [4708476], [4647043], [4761513], [4614619], [4574922], [4753255], [4769356], [4674760], [4787310], [4630609], [4741400], [4602835], [4680399], [4571194], [4702038], [4556762], [4710232], [4696415], [4609880], [4637000], [4735161], [4693560], [4727082], [4551059], [4688743], [4769996], [4655894], [4701713], [4706643], [4716195], [4662111], [4689232], [4686827], [4785317], [4576730], [4781640], [4732194], [4582671], [4677360], [4695568], [4684799], [4638250], [4627197], [4744704], [4601908], [4706769], [4681872], [4686549]], [[9161735], [9082030], [9112895], [9123978], [9195065], [9065544], [9192274], [9186379], [9115891], [9177115], [9203083], [9046582], [9142647], [9196457], [9091203], [9085312], [9149747], [9107663], [9196944], [9118045], [9080566], [9214186], [9308375], [9057402], [9055906], [9172349], [9073174], [9139923], [9077226], [9227143], [9162113], [9155285], [9076811], [9290435], [9124199], [9171411], [9322724], [9184923], [9215910], [9109013], [9145589], [9254528], [9152740], [9202829], [8933540], [9077560], [9177419], [9061091], [8968352], [9176365], [9134425], [9216055], [9018912], [9156161], [9142523], [9184698], [8982939], [9123500], [9190255], [9014282], [9215481], [9035345], [8978945], [9140395], [8999796], [9209325], [8997889], [9112936], [9153543], [9224526], [9082440], [9113440], [9095753], [9183321], [9134430], [9001251], [9259822], [9152321], [9082985], [9056315], [9194418], [9152252], [9024762], [9235370], [9211170], [9096096], [9219121], [9205026], [9208165], [9161011], [9221824], [9001275], [9110907], [9258862], [9239182], [9138338], [9092258], [9166254], [9073936], [9210622], [9212267], [8879812], [9193974], [9227203], [9124022], [9123729], [9040453], [9186206], [9088291], [9063324], [9055989], [9130396], [9029938], [9062903], [9239038], [9109071], [9153671], [9135100], [9038332], [8993732], [9242986], [9102037], [9146103], [9111145], [9066415], [9094197], [9176691], [9153132], [9202901], [9174534], [9135720], [8925266], [9032572], [9300597], [9194539], [9141510], [9137889], [9144006], [9107669], [9200069], [9036682], [9157046], [9068756], [9034038], [8967816], [9136396], [9116687], [9213860], [9235358], [9256205], [9160008], [9276815], [9315359], [9187574], [9242479], [9146552], [9151358], [9025037], [9031375], [8975899], [9199980], [9197615], [9249895], [8959874], [9147565], [9185802], [9184667], [9270111], [9127708], [9038527], [9181465], [9127725], [9049463], [9059982], [9131969], [9295828], [9176497], [8914005], [9273595], [9126621], [9017890], [9244259], [9172429], [9146967], [9117791], [9278648], [9180063], [9156002], [9086550], [9092435], [9229337], [8951641], [9213608], [9150867], [9174363], [9006660], [9134844], [9036071], [9082634], [9129133], [9275450], [9129104], [9213493], [9131396], [9257333], [9047013], [9122763], [9111573], [9015129], [9060047], [9223625], [8981445], [9162580], [9130606], [9169733], [9100818], [9075534], [9154102], [9284283], [8871158], [9145612], [9147675], [9092153], [9189232], [9156515], [9113524], [9189810], [9239401], [9172491], [9069336], [9113529], [9096960], [9096447], [9114852], [9109077], [9127421], [9271013], [9148543], [9266351], [9024673], [8938041], [9197338], [9202265], [9097611], [9324041], [9151918], [9085186], [9173092], [9006590], [9032094], [9253242], [9131383], [9149175], [9062011], [9178820], [9121675], [9062718], [9042082], [9083260], [9039004], [9150901], [9117344], [9117539], [9111589], [9030644], [9076686], [9129323], [9073891], [9155118], [9142082], [9131173], [8892741], [9163518], [9215483], [9148785], [9085185], [9026574], [9246348], [9067026], [9193783], [9090970], [9232577], [9087925], [9040577], [9009958], [9131920], [9062822], [8990717], [9006970], [9081169], [9164414], [9130554], [9100094], [9141236], [9030236], [9083469], [9166272], [9152651], [9056565], [9276500], [9141397], [9008804], [9063165], [9025296], [9097228], [9122936], [8814162], [9273131], [9058404], [8994464], [9049987], [9250420], [9170988], [9144151], [9177803], [9211448], [9117353], [9054909], [9242617], [9073303], [8994234], [9060860], [8962538], [9088175], [9180777], [9223456], [9220277], [8829218], [9108857], [9192449], [9165710], [9234522], [9223080], [9022823], [8933576], [9127945], [9159936], [9086210], [9112213], [9167732], [9113695], [9079794], [9067708], [9085675], [9138050], [9090909], [9032286], [9166155], [9060932], [9097547], [8993125], [9205014], [9162468], [9092012], [9160516], [9089272], [9265193], [9025673], [9237056], [9030605], [9077007], [9145897], [9113602], [9076630], [9124191], [9242478], [9235120], [9139344], [9123944], [9301514], [9071690], [9159917], [9175410], [8974774], [9158345], [9143476], [9116322], [8963761], [9164775], [9120657], [9112006], [9048454], [9051624], [9040394], [9045789], [9181664], [9088441], [9103373], [9139110], [9228819], [9101331], [9140420], [9145670], [9208638], [9120778], [8938896], [9316376], [9121056], [9100721], [9282902]], [[13589438], [13608353], [13456442], [13416586], [13355007], [13526290], [13532615], [13449000], [13542494], [13697047], [13220038], [13463086], [13441782], [13457400], [13641869], [13578917], [13572806], [13426048], [13558325], [13447168], [13601640], [13576562], [13439542], [13546404], [13561371], [13556990], [13534693], [13573228], [13550143], [13420501], [13320389], [13595768], [13536231], [13682567], [13508502], [13252421], [13568065], [13525389], [13662017], [13543280], [13575843], [13445039], [13464012], [13439825], [13548539], [13753264], [13351474], [13409650], [13597961], [13660097], [13405594], [13653384], [13671346], [13520124], [13526577], [13670091], [13572543], [13364843], [13271483], [13525557], [13620874], [13519046], [13659107], [13230763], [13540849], [13625175], [13463301], [13598519], [13509959], [13457113], [13482475], [13478915], [13468855], [13535139], [13586485], [13626892], [13442649], [13574980], [13689919], [13643428], [13599117], [13484142], [13652222], [13678629], [13581447], [13369197], [13625909], [13577037], [13402922], [13718103], [13455585], [13608259], [13454118], [13531664], [13268697], [13590805], [13568547], [13408601], [13568415], [13453685], [13431551], [13537965], [13632171], [13519206], [13223632], [13384136], [13423750], [13512870], [13424980], [13607322], [13374487], [13524357], [13488013], [13490045], [13421351], [13419162], [13584424], [13440162], [13299185], [13374376], [13466145], [13370783], [13518504], [13407907], [13401234], [13598331], [13627161], [13526281], [13613463], [13641891], [13412377], [13630755], [13382033], [13518017], [13557992], [13447823], [13535234], [13357790], [13548834], [13665046], [13560990], [13413256], [13397165], [13691357], [13579525], [13394664], [13297319], [13275343], [13458769], [13576067], [13667524], [13548345], [13468096], [13558267], [13607064], [13620061], [13417378], [13476298], [13447817], [13474395], [13410692], [13594137], [13536781], [13296993], [13577711], [13561627], [13489495], [13433672], [13375315], [13400977], [13609863], [13543872], [13566113], [13578921], [13540880], [13524842], [13496943], [13514724], [13376572], [13402284], [13635342], [13423904], [13353362], [13484048], [13475351], [13264580], [13327200], [13508339], [13305864], [13672785], [13469912], [13498021], [13443050], [13602916], [13433184], [13368069], [13353343], [13329323], [13508583], [13491095], [13512525], [13205455], [13351236], [13303495], [13537868], [13546675], [13637144], [13514591], [13488682], [13447958], [13551326], [13585919], [13376699], [13509484], [13527987], [13347808], [13559893], [13613827], [13578476], [13483744], [13399471], [13595869], [13427349], [13538086], [13484120], [13536606], [13593799], [13678562], [13347687], [13511013], [13486568], [13479325], [13485902], [13326129], [13304792], [13494109], [13552584], [13524999], [13482671], [13378750], [13348841], [13442291], [13523757], [13612205], [13387708], [13566971], [13520404], [13522613], [13438820], [13381148], [13256653], [13416531], [13511276], [13684376], [13428426], [13545981], [13519702], [13372070], [13573575], [13456076], [13445705], [13551300], [13538043], [13405016], [13511054], [13367883], [13422236], [13585949], [13525426], [13576588], [13527264], [13318446], [13550506], [13438141], [13646604], [13474720], [13470553], [13530115], [13548686], [13406250], [13344844], [13472053], [13570560], [13608732], [13549222], [13476174], [13678615], [13526956], [13589337], [13413009], [13481551], [13541784], [13641837], [13546579], [13601689], [13394122], [13431511], [13452625], [13538214], [13621650], [13520034], [13407986], [13380366], [13545363], [13583417], [13573682], [13292263], [13359978], [13455137], [13544402], [13409622], [13559115], [13530951], [13459896], [13524612], [13455574], [13319595], [13566479], [13635851], [13540645], [13303592], [13632147], [13615692], [13634905], [13537821], [13653732], [13514424], [13624526], [13630723], [13495959], [13793030], [13379020], [13476805], [13505097], [13561828], [13300310], [13726679], [13378036], [13640491], [13508426], [13507825], [13436753], [13593446], [13444052], [13466031], [13445121], [13377267], [13319849], [13521394], [13762613], [13667391], [13612922], [13620021], [13617105], [13649233], [13566139], [13532335], [13526944], [13431897], [13430159], [13503755], [13547676], [13573155], [13448937], [13607362], [13569494], [13307196], [13551011], [13301911], [13839592], [13398250], [13384142], [13453978], [13610662], [13497415], [13495239], [13563103], [13498628], [13555119], [13379447], [13498929], [13559603], [13605567], [13537664], [13310631], [13602052], [13454383], [13506160], [13634306], [13473720], [13430993], [13551510], [13407319], [13630983], [13391497], [13412698], [13528848], [13573447], [13438226], [13473811], [13511563], [13456589], [13564769], [13425059], [13324506], [13347712], [13561125], [13524305], [13562353], [13368477], [13367615], [13524543], [13506714], [13469468], [13504212], [13565223], [13568126], [13453378], [13451637], [13622798], [13439347], [13350541], [13620292], [13516876], [13409790], [13529065], [13422890], [13504215], [13367295], [13372387], [13606927], [13385625], [13617924], [13574394], [13553253], [13593977], [13406577], [13274702], [13603952], [13390409], [13459029], [13508917], [13607365], [13492105], [13563787], [13588292], [13351460], [13386630], [13576080], [13640587], [13306128], [13508433], [13351872], [13552302], [13704866], [13420155], [13711454], [13478000], [13332027], [13229526], [13548470], [13519349], [13514434], [13505657], [13415001], [13578990], [13663703], [13320786], [13398036], [13756938], [13343666], [13539612], [13642977], [13537641], [13644779], [13444381], [13463237], [13437914], [13274401], [13599133], [13468877], [13532131], [13642086], [13564508], [13636412], [13430105], [13490359], [13267814], [13369075], [13445166], [13532344], [13391086], [13542404], [13442016], [13528884], [13472424], [13474781], [13422353], [13335947], [13430460], [13426127], [13458820], [13369004], [13412493], [13595357], [13455453], [13319130], [13458103], [13512559], [13446970], [13530210], [13749865], [13579831], [13499683], [13450172], [13730442], [13276817], [13646457], [13523983], [13646893], [13538920], [13474480], [13468871], [13424878], [13341024], [13520764], [13667798], [13578231], [13309756], [13321529], [13680116], [13341208], [13456603], [13499690], [13627651], [13571835], [13683749], [13499888], [13509067], [13514662], [13501414], [13515176], [13606224], [13364005], [13436319], [13570973], [13513358], [13414185], [13376967], [13377512], [13510197], [13573531], [13483671], [13321272], [13551669], [13402511], [13445326], [13498339], [13499100], [13335119], [13481108], [13512155], [13319582], [13512451], [13577148], [13502900], [13532251], [13520126], [13547387], [13527864], [13510768], [13412305], [13556161], [13679306], [13581295], [13521064], [13382966], [13364255], [13590317], [13529414], [13499739], [13445325], [13447974], [13466004], [13554158], [13482694], [13621196], [13402229], [13332391], [13499741], [13643709], [13465581], [13467864], [13338426], [13412349], [13450994], [13561372], [13350334], [13792072], [13308283]], [[18073236], [17872632], [18000783], [17757942], [18241454], [17947803], [17986309], [18096266], [17927073], [17861351], [17998182], [17846740], [17740577], [18041891], [18209601], [17817237], [18050350], [18089639], [18114600], [18121523], [18000190], [18001321], [18075850], [17973847], [17911558], [18109905], [17816768], [17869548], [17923423], [17994412], [18104419], [18066077], [17844864], [18116737], [18099403], [18167247], [17857618], [18018676], [18188452], [17928224], [18210073], [18019390], [17911046], [18055714], [18094283], [18054158], [18192449], [17996546], [18078590], [17974419], [18332469], [18076428], [17929853], [18041066], [17932471], [18125919], [18372100], [18226286], [17905590], [17925362], [17920704], [18092073], [18068040], [17987845], [18040805], [18072906], [18095263], [18066096], [17900197], [17970569], [18096202], [18061465], [18099878], [18073253], [18117229], [17989300], [17836756], [17900836], [18005084], [18058510], [18013202], [17973553], [18034723], [17957018], [18038014], [18128089], [18005970], [17827077], [18165013], [18166602], [17964681], [18138347], [17944935], [17860558], [18096355], [18004525], [18006212], [18221643], [18081315], [17933073], [18013959], [17922105], [17986906], [17961993], [18019772], [17999134], [17988269], [18061191], [18024584], [18204531], [18231772], [18004297], [17928675], [18181681], [17830325], [17848531], [18203919], [17845503], [18131706], [18167667], [18028113], [18124044], [17971976], [17798832], [18235723], [18031656], [18008979], [18014318], [18119464], [18132669], [18024723], [18179277], [18000566], [18055306], [18125642], [17921056], [18050655], [18162709], [17949544], [17895706], [18036727], [18008594], [18044532], [18236512], [18081144], [17873483], [18005401], [18278014], [18055578], [18010284], [17963468], [18136605], [18066175], [17969805], [18219519], [18013174], [17785565], [17961934], [18040605], [17957101], [17829061], [18045115], [18132813], [17508072], [17946315], [18056071], [18103043], [18066625], [18019859], [18292533], [18064333], [18070777], [17992656], [18237880], [17975282], [17816492], [17917869], [17919741], [18090762], [17933139], [18166660], [17973126], [17942348], [17938866], [18239167], [17927562], [18265677], [17816647], [17995537], [18246142], [18105490], [18189060], [18148162], [17971712], [17924025], [18173030], [17840405], [17936155], [17900751], [17886722], [18327734], [18088067], [18026180], [18027610], [18037525], [17937787], [17792271], [18046974], [17978690], [17935756], [18001572], [18040331], [17866861], [18069829], [17996764], [17801336], [17902276], [17925744], [17969607], [18020681], [18120042], [17973514], [18155364], [17993531], [18254858], [17908328], [17903560], [18158766], [18029075], [17995543], [18175940], [18031838], [18175136], [18034963], [18043274], [18177963], [17969151], [18048230], [18175550], [17989582], [18125413], [17999656], [18118988], [17984105], [18000605], [18033004], [17941943], [18070703], [18041427], [18147439], [17992024], [18235098], [17849559], [17877532], [17932320], [18121221], [17936492], [18018748], [18104248], [17984225], [18079807], [17913498], [18098284], [18070477], [18077084], [18217280], [17905506], [17823392], [18179925], [17980664], [18190441], [18096471], [18032628], [18123825], [18048042], [18073669], [17921976], [18207877], [18124404], [18139685], [18065182], [18124203], [18066906], [17936773], [18085164], [18133473], [17996209], [18094074], [17987782], [17957391], [17940900], [17949537], [18048340], [17982338], [17996926], [17955392], [18269733], [18072028], [18122260], [18110314], [17986899], [18101731], [17994065], [17942632], [18139943], [17874980], [18199593], [18135609], [18221257], [18014706], [18056757], [17835414], [18041631], [18002938], [17977084], [18010262], [18015578], [17951443], [18167125], [18282908], [17784257], [18062552], [18173140], [17921478], [18075895], [18022769], [18079129], [17990686], [18015601], [18082795], [18085239], [17786758], [17951906], [17845510], [18080964], [18015332], [18037946], [18028851], [18311725], [17907771], [17926787], [18097795], [18030873], [17799460], [17892076], [17921868], [18176000], [18115262], [18206994], [18292965], [18037645], [17953449], [18176866], [18214708], [18059250], [18237864], [18077629], [18140088], [18168492], [18052617], [18107511], [18222088], [18237488], [17863417], [17876661], [17994408], [17999149], [18004036], [17919326], [18203091], [17724836], [18216151], [17927623], [18107764], [18217084], [18207116], [17905328], [17940891], [17821416], [17967197], [17816964], [17961469], [17890667], [18283514], [18004945], [17917375], [17785102], [17847090], [18083788], [17785568], [17985775], [17983571], [18013168], [18108924], [18039207], [18065779], [18088731], [17813941], [17939475], [18221517], [17896486], [18236020], [18123850], [18034930], [18023132], [18016591], [18093837], [17959144], [17894501], [18230520], [18277483], [17980973], [17885952], [18008165], [18031794], [18207963], [17920410], [18077425], [18102227], [17764121], [17962595], [18089602], [17905135], [18285413], [17883912], [17952323], [18013270], [18218820], [18063197], [18218596], [18065630], [18051197], [18024081], [18116971], [18053149], [18275913], [18133405], [17858521], [17892179], [17987870], [18276904], [17975858], [17975004], [18033941], [17966393], [17892264], [17875376], [18047329], [18036363], [18053274], [18025635], [17885217], [18070928], [17952307], [18037179], [17961227], [17859874], [18001381], [18303861], [18163997], [18190948], [18015088], [18019380], [17862326], [17922975], [18130872], [18064216], [18091986], [18029328], [17830024], [18154584], [17878174], [18003217], [18169145], [18125095], [18105897], [17937743], [18015279], [17847873], [17868633], [18111157], [18068601], [17765367], [18018208], [17820275], [17998035], [17919033], [17889878], [18048711], [18120563], [18019551], [17938931], [17917463], [17859329], [17930230], [17935382], [18044617], [18208587], [18129692], [17830131], [18010876], [17580681], [18055888], [17719353], [17714526], [18119668], [17908143], [18142829], [17943648], [18233958], [18022083], [17998346], [17967031], [18007398], [17956235], [18036316], [18158987], [17853492], [18210957], [18083076], [17993028], [18079369], [17903079], [18071859], [18016511], [18001737], [18001911], [18125595], [18140795], [17928695], [17937166], [18265504], [18108696], [18095039], [18019445], [18063283], [17935189], [18145911], [18198006], [18051683], [17825111], [17853586], [17971109], [17996721], [18109418], [18136923], [18183099], [17830079], [18121478], [18009423], [18221318], [17989248], [17898468], [17964914], [18197124], [18032119], [17896251], [18202729], [18059551], [17952991], [18080375], [18005941], [17937080], [17952185], [18122245], [17934299], [18118799], [18046503], [18144702], [17860095], [17973724], [18041354], [18164274], [17764056], [18005627], [17999399], [18150031], [18136679], [18161225], [18034904], [18065359], [18035821], [18084048], [18061144], [17782489], [17944069], [17890494], [18046382], [18148907], [18156740], [18051794], [18095352], [18074387], [18118625], [17871719], [18169740], [18161484], [17942640], [18123031], [17789847], [17952387], [17836410], [18224384], [17827884], [18090101], [18003581], [17993022], [18172959], [18189667], [17923572], [17938309], [18101362], [17942226], [18173045], [17990133], [18268983], [18088979], [17882238], [17928326], [18083204], [18023105], [17968024], [18137168], [18033947], [18066006], [17869820], [18027687], [18129634], [18280202], [18148705], [17844107], [18062817], [18049528], [17998164], [17988078], [17840732], [18193340], [17848072], [17941299], [17928156], [17875899], [18112048], [18035093], [18012954], [18017960], [18130980], [17916577], [17914619], [18044659], [18094575], [18173595], [18057571], [18041337], [18189476], [17862517], [18013279], [18020084], [18170971], [17776566], [18174796], [17769440], [17936096], [17718872], [17795494], [18064059], [18241490], [18265337], [18024218], [17946714], [17637582], [17890674], [18187409], [18016859], [17928028], [18106909], [18030983], [17976321], [17994898], [18039305], [17911788], [18030920], [17812232], [18113566], [18069623], [18127040], [18069318], [18126646], [17925326], [17959998], [18138569], [17989388], [17744416], [18182585], [18059411], [18316422], [18008171], [17927257], [18051698], [17861317], [18040011], [17951860], [18120045], [18269888], [17909245], [17972338], [17923813], [18085614], [18233266], [17987319], [17988740], [17881307], [17954323], [18151100], [18010317], [17833767], [18207256], [17759340], [18106324], [18056856], [17951178], [17978306], [18102309], [17915400], [18068123], [17841905], [18056507], [17818217], [18187453], [17820130], [17950908], [17969056], [18092635], [17969559], [18236431], [17966054], [18045577], [18067365], [17882656], [17939382], [17861831], [18038563], [17915279], [17905622], [18099706], [17803816], [17897771], [17933193], [18002715], [18029209], [17846955], [17957760], [18109811], [18064361], [17929956], [17908217], [18120558], [18126748], [17972725], [18167283], [18147100], [18307467], [18047715], [17841517], [18002438], [18144316], [18080084], [18097381], [18029188], [18298032], [17765525], [18160243], [17934094], [18061549], [18116993], [18093565], [18127294], [18087226], [17941730], [18108767], [18154731], [18037823], [18095579], [17984183], [18238792], [18009076], [17893515], [17799136], [18203278], [17965664], [18191769], [17957325], [17752374], [18033257], [17966882], [18012360], [18300709], [17910381], [17875760], [17964839], [18214709]]]\n",
            "Transpose:   [[[4502170], [4721226], [4743899], [4757511], [4684769], [4682160], [4731198], [4712801], [4709409], [4679621], [4770087], [4817766], [4635072], [4609159], [4798105], [4642366], [4821067], [4622946], [4615358], [4581156], [4770383], [4685586], [4748618], [4698724], [4615706], [4698577], [4703460], [4597336], [4674534], [4622062], [4703411], [4701405], [4660033], [4636735], [4619211], [4653257], [4732088], [4761351], [4582287], [4568979], [4669703], [4706058], [4697657], [4699352], [4779946], [4641554], [4641773], [4703812], [4729749], [4564230], [4632668], [4619624], [4678315], [4728363], [4796999], [4687786], [4798842], [4618461], [4699043], [4595250], [4563574], [4690838], [4684907], [4721133], [4612288], [4694758], [4713908], [4604966], [4617919], [4633433], [4657388], [4601705], [4693190], [4753637], [4747518], [4640547], [4598459], [4602287], [4637105], [4683978], [4546519], [4660716], [4716545], [4638786], [4661214], [4668789], [4678586], [4715312], [4599485], [4682608], [4674030], [4576266], [4776410], [4833948], [4719890], [4657056], [4640643], [4727357], [4664107], [4529856], [4817794], [4645463], [4622721], [4720741], [4738826], [4616868], [4612965], [4670941], [4771178], [4737600], [4630361], [4662541], [4605006], [4802773], [4721530], [4585534], [4721457], [4738630], [4582374], [4496020], [4671646], [4672921], [4500105], [4686640], [4727851], [4682875], [4728672], [4583655], [4533122], [4687840], [4701422], [4711227], [4704780], [4657184], [4544247], [4644538], [4459388], [4634911], [4655036], [4656623], [4608446], [4693396], [4716978], [4734909], [4533894], [4604392], [4642137], [4678016], [4671819], [4711005], [4605995], [4600024], [4708476], [4647043], [4761513], [4614619], [4574922], [4753255], [4769356], [4674760], [4787310], [4630609], [4741400], [4602835], [4680399], [4571194], [4702038], [4556762], [4710232], [4696415], [4609880], [4637000], [4735161], [4693560], [4727082], [4551059], [4688743], [4769996], [4655894], [4701713], [4706643], [4716195], [4662111], [4689232], [4686827], [4785317], [4576730], [4781640], [4732194], [4582671], [4677360], [4695568], [4684799], [4638250], [4627197], [4744704], [4601908], [4706769], [4681872], [4686549]], [[9161735], [9082030], [9112895], [9123978], [9195065], [9065544], [9192274], [9186379], [9115891], [9177115], [9203083], [9046582], [9142647], [9196457], [9091203], [9085312], [9149747], [9107663], [9196944], [9118045], [9080566], [9214186], [9308375], [9057402], [9055906], [9172349], [9073174], [9139923], [9077226], [9227143], [9162113], [9155285], [9076811], [9290435], [9124199], [9171411], [9322724], [9184923], [9215910], [9109013], [9145589], [9254528], [9152740], [9202829], [8933540], [9077560], [9177419], [9061091], [8968352], [9176365], [9134425], [9216055], [9018912], [9156161], [9142523], [9184698], [8982939], [9123500], [9190255], [9014282], [9215481], [9035345], [8978945], [9140395], [8999796], [9209325], [8997889], [9112936], [9153543], [9224526], [9082440], [9113440], [9095753], [9183321], [9134430], [9001251], [9259822], [9152321], [9082985], [9056315], [9194418], [9152252], [9024762], [9235370], [9211170], [9096096], [9219121], [9205026], [9208165], [9161011], [9221824], [9001275], [9110907], [9258862], [9239182], [9138338], [9092258], [9166254], [9073936], [9210622], [9212267], [8879812], [9193974], [9227203], [9124022], [9123729], [9040453], [9186206], [9088291], [9063324], [9055989], [9130396], [9029938], [9062903], [9239038], [9109071], [9153671], [9135100], [9038332], [8993732], [9242986], [9102037], [9146103], [9111145], [9066415], [9094197], [9176691], [9153132], [9202901], [9174534], [9135720], [8925266], [9032572], [9300597], [9194539], [9141510], [9137889], [9144006], [9107669], [9200069], [9036682], [9157046], [9068756], [9034038], [8967816], [9136396], [9116687], [9213860], [9235358], [9256205], [9160008], [9276815], [9315359], [9187574], [9242479], [9146552], [9151358], [9025037], [9031375], [8975899], [9199980], [9197615], [9249895], [8959874], [9147565], [9185802], [9184667], [9270111], [9127708], [9038527], [9181465], [9127725], [9049463], [9059982], [9131969], [9295828], [9176497], [8914005], [9273595], [9126621], [9017890], [9244259], [9172429], [9146967], [9117791], [9278648], [9180063], [9156002], [9086550], [9092435], [9229337], [8951641], [9213608], [9150867], [9174363], [9006660], [9134844], [9036071], [9082634], [9129133], [9275450], [9129104], [9213493], [9131396], [9257333], [9047013], [9122763], [9111573], [9015129], [9060047], [9223625], [8981445], [9162580], [9130606], [9169733], [9100818], [9075534], [9154102], [9284283], [8871158], [9145612], [9147675], [9092153], [9189232], [9156515], [9113524], [9189810], [9239401], [9172491], [9069336], [9113529], [9096960], [9096447], [9114852], [9109077], [9127421], [9271013], [9148543], [9266351], [9024673], [8938041], [9197338], [9202265], [9097611], [9324041], [9151918], [9085186], [9173092], [9006590], [9032094], [9253242], [9131383], [9149175], [9062011], [9178820], [9121675], [9062718], [9042082], [9083260], [9039004], [9150901], [9117344], [9117539], [9111589], [9030644], [9076686], [9129323], [9073891], [9155118], [9142082], [9131173], [8892741], [9163518], [9215483], [9148785], [9085185], [9026574], [9246348], [9067026], [9193783], [9090970], [9232577], [9087925], [9040577], [9009958], [9131920], [9062822], [8990717], [9006970], [9081169], [9164414], [9130554], [9100094], [9141236], [9030236], [9083469], [9166272], [9152651], [9056565], [9276500], [9141397], [9008804], [9063165], [9025296], [9097228], [9122936], [8814162], [9273131], [9058404], [8994464], [9049987], [9250420], [9170988], [9144151], [9177803], [9211448], [9117353], [9054909], [9242617], [9073303], [8994234], [9060860], [8962538], [9088175], [9180777], [9223456], [9220277], [8829218], [9108857], [9192449], [9165710], [9234522], [9223080], [9022823], [8933576], [9127945], [9159936], [9086210], [9112213], [9167732], [9113695], [9079794], [9067708], [9085675], [9138050], [9090909], [9032286], [9166155], [9060932], [9097547], [8993125], [9205014], [9162468], [9092012], [9160516], [9089272], [9265193], [9025673], [9237056], [9030605], [9077007], [9145897], [9113602], [9076630], [9124191], [9242478], [9235120], [9139344], [9123944], [9301514], [9071690], [9159917], [9175410], [8974774], [9158345], [9143476], [9116322], [8963761], [9164775], [9120657], [9112006], [9048454], [9051624], [9040394], [9045789], [9181664], [9088441], [9103373], [9139110], [9228819], [9101331], [9140420], [9145670], [9208638], [9120778], [8938896], [9316376], [9121056], [9100721], [9282902]], [[13589438], [13608353], [13456442], [13416586], [13355007], [13526290], [13532615], [13449000], [13542494], [13697047], [13220038], [13463086], [13441782], [13457400], [13641869], [13578917], [13572806], [13426048], [13558325], [13447168], [13601640], [13576562], [13439542], [13546404], [13561371], [13556990], [13534693], [13573228], [13550143], [13420501], [13320389], [13595768], [13536231], [13682567], [13508502], [13252421], [13568065], [13525389], [13662017], [13543280], [13575843], [13445039], [13464012], [13439825], [13548539], [13753264], [13351474], [13409650], [13597961], [13660097], [13405594], [13653384], [13671346], [13520124], [13526577], [13670091], [13572543], [13364843], [13271483], [13525557], [13620874], [13519046], [13659107], [13230763], [13540849], [13625175], [13463301], [13598519], [13509959], [13457113], [13482475], [13478915], [13468855], [13535139], [13586485], [13626892], [13442649], [13574980], [13689919], [13643428], [13599117], [13484142], [13652222], [13678629], [13581447], [13369197], [13625909], [13577037], [13402922], [13718103], [13455585], [13608259], [13454118], [13531664], [13268697], [13590805], [13568547], [13408601], [13568415], [13453685], [13431551], [13537965], [13632171], [13519206], [13223632], [13384136], [13423750], [13512870], [13424980], [13607322], [13374487], [13524357], [13488013], [13490045], [13421351], [13419162], [13584424], [13440162], [13299185], [13374376], [13466145], [13370783], [13518504], [13407907], [13401234], [13598331], [13627161], [13526281], [13613463], [13641891], [13412377], [13630755], [13382033], [13518017], [13557992], [13447823], [13535234], [13357790], [13548834], [13665046], [13560990], [13413256], [13397165], [13691357], [13579525], [13394664], [13297319], [13275343], [13458769], [13576067], [13667524], [13548345], [13468096], [13558267], [13607064], [13620061], [13417378], [13476298], [13447817], [13474395], [13410692], [13594137], [13536781], [13296993], [13577711], [13561627], [13489495], [13433672], [13375315], [13400977], [13609863], [13543872], [13566113], [13578921], [13540880], [13524842], [13496943], [13514724], [13376572], [13402284], [13635342], [13423904], [13353362], [13484048], [13475351], [13264580], [13327200], [13508339], [13305864], [13672785], [13469912], [13498021], [13443050], [13602916], [13433184], [13368069], [13353343], [13329323], [13508583], [13491095], [13512525], [13205455], [13351236], [13303495], [13537868], [13546675], [13637144], [13514591], [13488682], [13447958], [13551326], [13585919], [13376699], [13509484], [13527987], [13347808], [13559893], [13613827], [13578476], [13483744], [13399471], [13595869], [13427349], [13538086], [13484120], [13536606], [13593799], [13678562], [13347687], [13511013], [13486568], [13479325], [13485902], [13326129], [13304792], [13494109], [13552584], [13524999], [13482671], [13378750], [13348841], [13442291], [13523757], [13612205], [13387708], [13566971], [13520404], [13522613], [13438820], [13381148], [13256653], [13416531], [13511276], [13684376], [13428426], [13545981], [13519702], [13372070], [13573575], [13456076], [13445705], [13551300], [13538043], [13405016], [13511054], [13367883], [13422236], [13585949], [13525426], [13576588], [13527264], [13318446], [13550506], [13438141], [13646604], [13474720], [13470553], [13530115], [13548686], [13406250], [13344844], [13472053], [13570560], [13608732], [13549222], [13476174], [13678615], [13526956], [13589337], [13413009], [13481551], [13541784], [13641837], [13546579], [13601689], [13394122], [13431511], [13452625], [13538214], [13621650], [13520034], [13407986], [13380366], [13545363], [13583417], [13573682], [13292263], [13359978], [13455137], [13544402], [13409622], [13559115], [13530951], [13459896], [13524612], [13455574], [13319595], [13566479], [13635851], [13540645], [13303592], [13632147], [13615692], [13634905], [13537821], [13653732], [13514424], [13624526], [13630723], [13495959], [13793030], [13379020], [13476805], [13505097], [13561828], [13300310], [13726679], [13378036], [13640491], [13508426], [13507825], [13436753], [13593446], [13444052], [13466031], [13445121], [13377267], [13319849], [13521394], [13762613], [13667391], [13612922], [13620021], [13617105], [13649233], [13566139], [13532335], [13526944], [13431897], [13430159], [13503755], [13547676], [13573155], [13448937], [13607362], [13569494], [13307196], [13551011], [13301911], [13839592], [13398250], [13384142], [13453978], [13610662], [13497415], [13495239], [13563103], [13498628], [13555119], [13379447], [13498929], [13559603], [13605567], [13537664], [13310631], [13602052], [13454383], [13506160], [13634306], [13473720], [13430993], [13551510], [13407319], [13630983], [13391497], [13412698], [13528848], [13573447], [13438226], [13473811], [13511563], [13456589], [13564769], [13425059], [13324506], [13347712], [13561125], [13524305], [13562353], [13368477], [13367615], [13524543], [13506714], [13469468], [13504212], [13565223], [13568126], [13453378], [13451637], [13622798], [13439347], [13350541], [13620292], [13516876], [13409790], [13529065], [13422890], [13504215], [13367295], [13372387], [13606927], [13385625], [13617924], [13574394], [13553253], [13593977], [13406577], [13274702], [13603952], [13390409], [13459029], [13508917], [13607365], [13492105], [13563787], [13588292], [13351460], [13386630], [13576080], [13640587], [13306128], [13508433], [13351872], [13552302], [13704866], [13420155], [13711454], [13478000], [13332027], [13229526], [13548470], [13519349], [13514434], [13505657], [13415001], [13578990], [13663703], [13320786], [13398036], [13756938], [13343666], [13539612], [13642977], [13537641], [13644779], [13444381], [13463237], [13437914], [13274401], [13599133], [13468877], [13532131], [13642086], [13564508], [13636412], [13430105], [13490359], [13267814], [13369075], [13445166], [13532344], [13391086], [13542404], [13442016], [13528884], [13472424], [13474781], [13422353], [13335947], [13430460], [13426127], [13458820], [13369004], [13412493], [13595357], [13455453], [13319130], [13458103], [13512559], [13446970], [13530210], [13749865], [13579831], [13499683], [13450172], [13730442], [13276817], [13646457], [13523983], [13646893], [13538920], [13474480], [13468871], [13424878], [13341024], [13520764], [13667798], [13578231], [13309756], [13321529], [13680116], [13341208], [13456603], [13499690], [13627651], [13571835], [13683749], [13499888], [13509067], [13514662], [13501414], [13515176], [13606224], [13364005], [13436319], [13570973], [13513358], [13414185], [13376967], [13377512], [13510197], [13573531], [13483671], [13321272], [13551669], [13402511], [13445326], [13498339], [13499100], [13335119], [13481108], [13512155], [13319582], [13512451], [13577148], [13502900], [13532251], [13520126], [13547387], [13527864], [13510768], [13412305], [13556161], [13679306], [13581295], [13521064], [13382966], [13364255], [13590317], [13529414], [13499739], [13445325], [13447974], [13466004], [13554158], [13482694], [13621196], [13402229], [13332391], [13499741], [13643709], [13465581], [13467864], [13338426], [13412349], [13450994], [13561372], [13350334], [13792072], [13308283]], [[18073236], [17872632], [18000783], [17757942], [18241454], [17947803], [17986309], [18096266], [17927073], [17861351], [17998182], [17846740], [17740577], [18041891], [18209601], [17817237], [18050350], [18089639], [18114600], [18121523], [18000190], [18001321], [18075850], [17973847], [17911558], [18109905], [17816768], [17869548], [17923423], [17994412], [18104419], [18066077], [17844864], [18116737], [18099403], [18167247], [17857618], [18018676], [18188452], [17928224], [18210073], [18019390], [17911046], [18055714], [18094283], [18054158], [18192449], [17996546], [18078590], [17974419], [18332469], [18076428], [17929853], [18041066], [17932471], [18125919], [18372100], [18226286], [17905590], [17925362], [17920704], [18092073], [18068040], [17987845], [18040805], [18072906], [18095263], [18066096], [17900197], [17970569], [18096202], [18061465], [18099878], [18073253], [18117229], [17989300], [17836756], [17900836], [18005084], [18058510], [18013202], [17973553], [18034723], [17957018], [18038014], [18128089], [18005970], [17827077], [18165013], [18166602], [17964681], [18138347], [17944935], [17860558], [18096355], [18004525], [18006212], [18221643], [18081315], [17933073], [18013959], [17922105], [17986906], [17961993], [18019772], [17999134], [17988269], [18061191], [18024584], [18204531], [18231772], [18004297], [17928675], [18181681], [17830325], [17848531], [18203919], [17845503], [18131706], [18167667], [18028113], [18124044], [17971976], [17798832], [18235723], [18031656], [18008979], [18014318], [18119464], [18132669], [18024723], [18179277], [18000566], [18055306], [18125642], [17921056], [18050655], [18162709], [17949544], [17895706], [18036727], [18008594], [18044532], [18236512], [18081144], [17873483], [18005401], [18278014], [18055578], [18010284], [17963468], [18136605], [18066175], [17969805], [18219519], [18013174], [17785565], [17961934], [18040605], [17957101], [17829061], [18045115], [18132813], [17508072], [17946315], [18056071], [18103043], [18066625], [18019859], [18292533], [18064333], [18070777], [17992656], [18237880], [17975282], [17816492], [17917869], [17919741], [18090762], [17933139], [18166660], [17973126], [17942348], [17938866], [18239167], [17927562], [18265677], [17816647], [17995537], [18246142], [18105490], [18189060], [18148162], [17971712], [17924025], [18173030], [17840405], [17936155], [17900751], [17886722], [18327734], [18088067], [18026180], [18027610], [18037525], [17937787], [17792271], [18046974], [17978690], [17935756], [18001572], [18040331], [17866861], [18069829], [17996764], [17801336], [17902276], [17925744], [17969607], [18020681], [18120042], [17973514], [18155364], [17993531], [18254858], [17908328], [17903560], [18158766], [18029075], [17995543], [18175940], [18031838], [18175136], [18034963], [18043274], [18177963], [17969151], [18048230], [18175550], [17989582], [18125413], [17999656], [18118988], [17984105], [18000605], [18033004], [17941943], [18070703], [18041427], [18147439], [17992024], [18235098], [17849559], [17877532], [17932320], [18121221], [17936492], [18018748], [18104248], [17984225], [18079807], [17913498], [18098284], [18070477], [18077084], [18217280], [17905506], [17823392], [18179925], [17980664], [18190441], [18096471], [18032628], [18123825], [18048042], [18073669], [17921976], [18207877], [18124404], [18139685], [18065182], [18124203], [18066906], [17936773], [18085164], [18133473], [17996209], [18094074], [17987782], [17957391], [17940900], [17949537], [18048340], [17982338], [17996926], [17955392], [18269733], [18072028], [18122260], [18110314], [17986899], [18101731], [17994065], [17942632], [18139943], [17874980], [18199593], [18135609], [18221257], [18014706], [18056757], [17835414], [18041631], [18002938], [17977084], [18010262], [18015578], [17951443], [18167125], [18282908], [17784257], [18062552], [18173140], [17921478], [18075895], [18022769], [18079129], [17990686], [18015601], [18082795], [18085239], [17786758], [17951906], [17845510], [18080964], [18015332], [18037946], [18028851], [18311725], [17907771], [17926787], [18097795], [18030873], [17799460], [17892076], [17921868], [18176000], [18115262], [18206994], [18292965], [18037645], [17953449], [18176866], [18214708], [18059250], [18237864], [18077629], [18140088], [18168492], [18052617], [18107511], [18222088], [18237488], [17863417], [17876661], [17994408], [17999149], [18004036], [17919326], [18203091], [17724836], [18216151], [17927623], [18107764], [18217084], [18207116], [17905328], [17940891], [17821416], [17967197], [17816964], [17961469], [17890667], [18283514], [18004945], [17917375], [17785102], [17847090], [18083788], [17785568], [17985775], [17983571], [18013168], [18108924], [18039207], [18065779], [18088731], [17813941], [17939475], [18221517], [17896486], [18236020], [18123850], [18034930], [18023132], [18016591], [18093837], [17959144], [17894501], [18230520], [18277483], [17980973], [17885952], [18008165], [18031794], [18207963], [17920410], [18077425], [18102227], [17764121], [17962595], [18089602], [17905135], [18285413], [17883912], [17952323], [18013270], [18218820], [18063197], [18218596], [18065630], [18051197], [18024081], [18116971], [18053149], [18275913], [18133405], [17858521], [17892179], [17987870], [18276904], [17975858], [17975004], [18033941], [17966393], [17892264], [17875376], [18047329], [18036363], [18053274], [18025635], [17885217], [18070928], [17952307], [18037179], [17961227], [17859874], [18001381], [18303861], [18163997], [18190948], [18015088], [18019380], [17862326], [17922975], [18130872], [18064216], [18091986], [18029328], [17830024], [18154584], [17878174], [18003217], [18169145], [18125095], [18105897], [17937743], [18015279], [17847873], [17868633], [18111157], [18068601], [17765367], [18018208], [17820275], [17998035], [17919033], [17889878], [18048711], [18120563], [18019551], [17938931], [17917463], [17859329], [17930230], [17935382], [18044617], [18208587], [18129692], [17830131], [18010876], [17580681], [18055888], [17719353], [17714526], [18119668], [17908143], [18142829], [17943648], [18233958], [18022083], [17998346], [17967031], [18007398], [17956235], [18036316], [18158987], [17853492], [18210957], [18083076], [17993028], [18079369], [17903079], [18071859], [18016511], [18001737], [18001911], [18125595], [18140795], [17928695], [17937166], [18265504], [18108696], [18095039], [18019445], [18063283], [17935189], [18145911], [18198006], [18051683], [17825111], [17853586], [17971109], [17996721], [18109418], [18136923], [18183099], [17830079], [18121478], [18009423], [18221318], [17989248], [17898468], [17964914], [18197124], [18032119], [17896251], [18202729], [18059551], [17952991], [18080375], [18005941], [17937080], [17952185], [18122245], [17934299], [18118799], [18046503], [18144702], [17860095], [17973724], [18041354], [18164274], [17764056], [18005627], [17999399], [18150031], [18136679], [18161225], [18034904], [18065359], [18035821], [18084048], [18061144], [17782489], [17944069], [17890494], [18046382], [18148907], [18156740], [18051794], [18095352], [18074387], [18118625], [17871719], [18169740], [18161484], [17942640], [18123031], [17789847], [17952387], [17836410], [18224384], [17827884], [18090101], [18003581], [17993022], [18172959], [18189667], [17923572], [17938309], [18101362], [17942226], [18173045], [17990133], [18268983], [18088979], [17882238], [17928326], [18083204], [18023105], [17968024], [18137168], [18033947], [18066006], [17869820], [18027687], [18129634], [18280202], [18148705], [17844107], [18062817], [18049528], [17998164], [17988078], [17840732], [18193340], [17848072], [17941299], [17928156], [17875899], [18112048], [18035093], [18012954], [18017960], [18130980], [17916577], [17914619], [18044659], [18094575], [18173595], [18057571], [18041337], [18189476], [17862517], [18013279], [18020084], [18170971], [17776566], [18174796], [17769440], [17936096], [17718872], [17795494], [18064059], [18241490], [18265337], [18024218], [17946714], [17637582], [17890674], [18187409], [18016859], [17928028], [18106909], [18030983], [17976321], [17994898], [18039305], [17911788], [18030920], [17812232], [18113566], [18069623], [18127040], [18069318], [18126646], [17925326], [17959998], [18138569], [17989388], [17744416], [18182585], [18059411], [18316422], [18008171], [17927257], [18051698], [17861317], [18040011], [17951860], [18120045], [18269888], [17909245], [17972338], [17923813], [18085614], [18233266], [17987319], [17988740], [17881307], [17954323], [18151100], [18010317], [17833767], [18207256], [17759340], [18106324], [18056856], [17951178], [17978306], [18102309], [17915400], [18068123], [17841905], [18056507], [17818217], [18187453], [17820130], [17950908], [17969056], [18092635], [17969559], [18236431], [17966054], [18045577], [18067365], [17882656], [17939382], [17861831], [18038563], [17915279], [17905622], [18099706], [17803816], [17897771], [17933193], [18002715], [18029209], [17846955], [17957760], [18109811], [18064361], [17929956], [17908217], [18120558], [18126748], [17972725], [18167283], [18147100], [18307467], [18047715], [17841517], [18002438], [18144316], [18080084], [18097381], [18029188], [18298032], [17765525], [18160243], [17934094], [18061549], [18116993], [18093565], [18127294], [18087226], [17941730], [18108767], [18154731], [18037823], [18095579], [17984183], [18238792], [18009076], [17893515], [17799136], [18203278], [17965664], [18191769], [17957325], [17752374], [18033257], [17966882], [18012360], [18300709], [17910381], [17875760], [17964839], [18214709]]]\n"
          ]
        }
      ]
    },
    {
      "cell_type": "code",
      "metadata": {
        "colab": {
          "base_uri": "https://localhost:8080/",
          "height": 513
        },
        "id": "YlEqyJOLY41k",
        "outputId": "3ba874d3-39ad-4fa6-fc29-a3ecc2cfa328"
      },
      "source": [
        "plt.figure(figsize=(8, 8))\n",
        "plt.plot(list_input, list_time_mul, 'r-o', label='Multiply')\n",
        "plt.plot(list_input, list_time_mul_inter, 'y-s', label='Interchange')\n",
        "plt.plot(list_input, list_time_mul_block, 'b-d', label='Blocking')\n",
        "plt.plot(list_input, list_time_mul_trans, 'm-p', label='Transpose')\n",
        "#plt.plot(sizes, tos, 'c-o', label='Os')\n",
        "plt.title('Big O')\n",
        "plt.xlabel('Input size')\n",
        "plt.ylabel('Time')\n",
        "plt.legend()\n",
        "plt.show()"
      ],
      "execution_count": 39,
      "outputs": [
        {
          "output_type": "display_data",
          "data": {
            "image/png": "[encoded data removed]",
            "text/plain": [
              "<Figure size 576x576 with 1 Axes>"
            ]
          },
          "metadata": {
            "needs_background": "light"
          }
        }
      ]
    }
  ]
}